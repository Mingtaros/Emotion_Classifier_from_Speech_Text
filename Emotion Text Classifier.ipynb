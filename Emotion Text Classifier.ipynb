{
 "cells": [
  {
   "cell_type": "code",
   "execution_count": 1,
   "id": "1dd05ef1-eb4d-4864-9ece-68235add9a97",
   "metadata": {},
   "outputs": [],
   "source": [
    "import numpy as np\n",
    "import pandas as pd\n",
    "import datetime"
   ]
  },
  {
   "cell_type": "code",
   "execution_count": 2,
   "id": "13ef7d7f-ff31-4dd5-8c96-539bc68c63e2",
   "metadata": {},
   "outputs": [],
   "source": [
    "from tqdm.notebook import tqdm\n",
    "tqdm.pandas()"
   ]
  },
  {
   "cell_type": "code",
   "execution_count": 3,
   "id": "11aa8e73-2af0-44cc-b5ba-3f02647cfc9b",
   "metadata": {},
   "outputs": [],
   "source": [
    "# datasource: http://thinknook.com/wp-content/uploads/2012/09/Sentiment-Analysis-Dataset.zip"
   ]
  },
  {
   "cell_type": "code",
   "execution_count": 4,
   "id": "08d68b28-b647-4824-bde6-d22c37209f89",
   "metadata": {},
   "outputs": [
    {
     "name": "stderr",
     "output_type": "stream",
     "text": [
      "/var/folders/d_/43yhfw3n2wx5mg7dg0cxjld00000gn/T/ipykernel_71363/1905294640.py:1: FutureWarning: The error_bad_lines argument has been deprecated and will be removed in a future version. Use on_bad_lines in the future.\n",
      "\n",
      "\n",
      "  df = pd.read_csv(\"emotion-text-dataset/Sentiment Analysis Dataset.csv\", error_bad_lines=False)\n",
      "Skipping line 8836: expected 4 fields, saw 5\n",
      "\n",
      "Skipping line 535882: expected 4 fields, saw 7\n",
      "\n"
     ]
    },
    {
     "data": {
      "text/html": [
       "<div>\n",
       "<style scoped>\n",
       "    .dataframe tbody tr th:only-of-type {\n",
       "        vertical-align: middle;\n",
       "    }\n",
       "\n",
       "    .dataframe tbody tr th {\n",
       "        vertical-align: top;\n",
       "    }\n",
       "\n",
       "    .dataframe thead th {\n",
       "        text-align: right;\n",
       "    }\n",
       "</style>\n",
       "<table border=\"1\" class=\"dataframe\">\n",
       "  <thead>\n",
       "    <tr style=\"text-align: right;\">\n",
       "      <th></th>\n",
       "      <th>ItemID</th>\n",
       "      <th>Sentiment</th>\n",
       "      <th>SentimentSource</th>\n",
       "      <th>SentimentText</th>\n",
       "    </tr>\n",
       "  </thead>\n",
       "  <tbody>\n",
       "    <tr>\n",
       "      <th>0</th>\n",
       "      <td>1</td>\n",
       "      <td>0</td>\n",
       "      <td>Sentiment140</td>\n",
       "      <td>is so sad for my APL frie...</td>\n",
       "    </tr>\n",
       "    <tr>\n",
       "      <th>1</th>\n",
       "      <td>2</td>\n",
       "      <td>0</td>\n",
       "      <td>Sentiment140</td>\n",
       "      <td>I missed the New Moon trail...</td>\n",
       "    </tr>\n",
       "    <tr>\n",
       "      <th>2</th>\n",
       "      <td>3</td>\n",
       "      <td>1</td>\n",
       "      <td>Sentiment140</td>\n",
       "      <td>omg its already 7:30 :O</td>\n",
       "    </tr>\n",
       "    <tr>\n",
       "      <th>3</th>\n",
       "      <td>4</td>\n",
       "      <td>0</td>\n",
       "      <td>Sentiment140</td>\n",
       "      <td>.. Omgaga. Im sooo  im gunna CRy. I'...</td>\n",
       "    </tr>\n",
       "    <tr>\n",
       "      <th>4</th>\n",
       "      <td>5</td>\n",
       "      <td>0</td>\n",
       "      <td>Sentiment140</td>\n",
       "      <td>i think mi bf is cheating on me!!!   ...</td>\n",
       "    </tr>\n",
       "    <tr>\n",
       "      <th>...</th>\n",
       "      <td>...</td>\n",
       "      <td>...</td>\n",
       "      <td>...</td>\n",
       "      <td>...</td>\n",
       "    </tr>\n",
       "    <tr>\n",
       "      <th>1578607</th>\n",
       "      <td>1578623</td>\n",
       "      <td>1</td>\n",
       "      <td>Sentiment140</td>\n",
       "      <td>Zzzzzz.... Finally! Night tweeters!</td>\n",
       "    </tr>\n",
       "    <tr>\n",
       "      <th>1578608</th>\n",
       "      <td>1578624</td>\n",
       "      <td>1</td>\n",
       "      <td>Sentiment140</td>\n",
       "      <td>Zzzzzzz, sleep well people</td>\n",
       "    </tr>\n",
       "    <tr>\n",
       "      <th>1578609</th>\n",
       "      <td>1578625</td>\n",
       "      <td>0</td>\n",
       "      <td>Sentiment140</td>\n",
       "      <td>ZzzZzZzzzZ... wait no I have homework.</td>\n",
       "    </tr>\n",
       "    <tr>\n",
       "      <th>1578610</th>\n",
       "      <td>1578626</td>\n",
       "      <td>0</td>\n",
       "      <td>Sentiment140</td>\n",
       "      <td>ZzZzzzZZZZzzz meh, what am I doing up again?</td>\n",
       "    </tr>\n",
       "    <tr>\n",
       "      <th>1578611</th>\n",
       "      <td>1578627</td>\n",
       "      <td>0</td>\n",
       "      <td>Sentiment140</td>\n",
       "      <td>Zzzzzzzzzzzzzzzzzzz, I wish</td>\n",
       "    </tr>\n",
       "  </tbody>\n",
       "</table>\n",
       "<p>1578612 rows × 4 columns</p>\n",
       "</div>"
      ],
      "text/plain": [
       "          ItemID  Sentiment SentimentSource  \\\n",
       "0              1          0    Sentiment140   \n",
       "1              2          0    Sentiment140   \n",
       "2              3          1    Sentiment140   \n",
       "3              4          0    Sentiment140   \n",
       "4              5          0    Sentiment140   \n",
       "...          ...        ...             ...   \n",
       "1578607  1578623          1    Sentiment140   \n",
       "1578608  1578624          1    Sentiment140   \n",
       "1578609  1578625          0    Sentiment140   \n",
       "1578610  1578626          0    Sentiment140   \n",
       "1578611  1578627          0    Sentiment140   \n",
       "\n",
       "                                             SentimentText  \n",
       "0                             is so sad for my APL frie...  \n",
       "1                           I missed the New Moon trail...  \n",
       "2                                  omg its already 7:30 :O  \n",
       "3                  .. Omgaga. Im sooo  im gunna CRy. I'...  \n",
       "4                 i think mi bf is cheating on me!!!   ...  \n",
       "...                                                    ...  \n",
       "1578607               Zzzzzz.... Finally! Night tweeters!   \n",
       "1578608                        Zzzzzzz, sleep well people   \n",
       "1578609            ZzzZzZzzzZ... wait no I have homework.   \n",
       "1578610      ZzZzzzZZZZzzz meh, what am I doing up again?   \n",
       "1578611                       Zzzzzzzzzzzzzzzzzzz, I wish   \n",
       "\n",
       "[1578612 rows x 4 columns]"
      ]
     },
     "execution_count": 4,
     "metadata": {},
     "output_type": "execute_result"
    }
   ],
   "source": [
    "df = pd.read_csv(\"emotion-text-dataset/Sentiment Analysis Dataset.csv\", error_bad_lines=False)\n",
    "df"
   ]
  },
  {
   "cell_type": "code",
   "execution_count": 5,
   "id": "37c80378-8380-4edc-935e-ec20f577d2b4",
   "metadata": {},
   "outputs": [],
   "source": [
    "# # remove neutral sentiment\n",
    "# df = df[df[\"Sentiment\"] != 0]\n",
    "\n",
    "# # convert negative sentiment to 0\n",
    "# df[\"category\"] = df[\"category\"].replace(-1, 0)"
   ]
  },
  {
   "cell_type": "code",
   "execution_count": 6,
   "id": "71684b81-fc7f-4cad-b218-277adab9ed4a",
   "metadata": {},
   "outputs": [
    {
     "data": {
      "text/plain": [
       "1    790177\n",
       "0    788435\n",
       "Name: Sentiment, dtype: int64"
      ]
     },
     "execution_count": 6,
     "metadata": {},
     "output_type": "execute_result"
    }
   ],
   "source": [
    "df[\"Sentiment\"].value_counts()"
   ]
  },
  {
   "cell_type": "code",
   "execution_count": 7,
   "id": "c0fed0f3-5502-4bc5-8c23-57c84fddb002",
   "metadata": {},
   "outputs": [],
   "source": [
    "df.drop_duplicates(inplace=True)\n",
    "df.dropna(inplace=True)"
   ]
  },
  {
   "cell_type": "code",
   "execution_count": 8,
   "id": "dee07804-d6d8-4508-9385-7724cbc491b1",
   "metadata": {},
   "outputs": [
    {
     "data": {
      "text/plain": [
       "1    790177\n",
       "0    788435\n",
       "Name: Sentiment, dtype: int64"
      ]
     },
     "execution_count": 8,
     "metadata": {},
     "output_type": "execute_result"
    }
   ],
   "source": [
    "df[\"Sentiment\"].value_counts()"
   ]
  },
  {
   "cell_type": "code",
   "execution_count": 9,
   "id": "02c3f192-6787-489e-97b8-c4291f67737a",
   "metadata": {},
   "outputs": [
    {
     "data": {
      "text/plain": [
       "'@kraftykoala I think I might be  Or it might just be stress, I have a gland up and ache.'"
      ]
     },
     "execution_count": 9,
     "metadata": {},
     "output_type": "execute_result"
    }
   ],
   "source": [
    "df[df[\"Sentiment\"] == 0].sample()[\"SentimentText\"].iloc[0]"
   ]
  },
  {
   "cell_type": "code",
   "execution_count": 10,
   "id": "d12d4e70-6088-495b-92b2-97dabd686ab6",
   "metadata": {},
   "outputs": [
    {
     "data": {
      "text/plain": [
       "'.@lownleeeynjul @MissxMarisa what do you think? the next photo contest should be Scenie poses?? '"
      ]
     },
     "execution_count": 10,
     "metadata": {},
     "output_type": "execute_result"
    }
   ],
   "source": [
    "df[df[\"Sentiment\"] == 1].sample()[\"SentimentText\"].iloc[0]"
   ]
  },
  {
   "cell_type": "code",
   "execution_count": 11,
   "id": "b2a7eb81-dfb7-4246-bc4d-1f796dbff198",
   "metadata": {},
   "outputs": [
    {
     "data": {
      "image/png": "[encoded data removed]",
      "text/plain": [
       "<Figure size 1000x1000 with 1 Axes>"
      ]
     },
     "metadata": {},
     "output_type": "display_data"
    }
   ],
   "source": [
    "import matplotlib.pyplot as plt\n",
    "from wordcloud import WordCloud\n",
    "%matplotlib inline\n",
    "\n",
    "\n",
    "all_tweets = ' '.join(df['SentimentText'])\n",
    "\n",
    "# Generate WordCloud\n",
    "wordcloud = WordCloud().generate(all_tweets)\n",
    "\n",
    "# Plot WordCloud                    \n",
    "plt.figure(figsize=(10, 10))\n",
    "plt.imshow(wordcloud)\n",
    "plt.axis(\"off\")\n",
    "plt.show()"
   ]
  },
  {
   "cell_type": "code",
   "execution_count": 12,
   "id": "52594936-277b-4fc5-8c56-aa326cd3b5da",
   "metadata": {},
   "outputs": [],
   "source": [
    "df.drop(['ItemID', 'SentimentSource'], axis=1, inplace=True)"
   ]
  },
  {
   "cell_type": "code",
   "execution_count": 13,
   "id": "3bdc8e71-022a-4e1a-81d8-5e4b2e124eb5",
   "metadata": {},
   "outputs": [
    {
     "data": {
      "text/html": [
       "<div>\n",
       "<style scoped>\n",
       "    .dataframe tbody tr th:only-of-type {\n",
       "        vertical-align: middle;\n",
       "    }\n",
       "\n",
       "    .dataframe tbody tr th {\n",
       "        vertical-align: top;\n",
       "    }\n",
       "\n",
       "    .dataframe thead th {\n",
       "        text-align: right;\n",
       "    }\n",
       "</style>\n",
       "<table border=\"1\" class=\"dataframe\">\n",
       "  <thead>\n",
       "    <tr style=\"text-align: right;\">\n",
       "      <th></th>\n",
       "      <th>Sentiment</th>\n",
       "      <th>SentimentText</th>\n",
       "    </tr>\n",
       "  </thead>\n",
       "  <tbody>\n",
       "    <tr>\n",
       "      <th>0</th>\n",
       "      <td>0</td>\n",
       "      <td>is so sad for my APL frie...</td>\n",
       "    </tr>\n",
       "    <tr>\n",
       "      <th>1</th>\n",
       "      <td>0</td>\n",
       "      <td>I missed the New Moon trail...</td>\n",
       "    </tr>\n",
       "    <tr>\n",
       "      <th>2</th>\n",
       "      <td>1</td>\n",
       "      <td>omg its already 7:30 :O</td>\n",
       "    </tr>\n",
       "    <tr>\n",
       "      <th>3</th>\n",
       "      <td>0</td>\n",
       "      <td>.. Omgaga. Im sooo  im gunna CRy. I'...</td>\n",
       "    </tr>\n",
       "    <tr>\n",
       "      <th>4</th>\n",
       "      <td>0</td>\n",
       "      <td>i think mi bf is cheating on me!!!   ...</td>\n",
       "    </tr>\n",
       "    <tr>\n",
       "      <th>...</th>\n",
       "      <td>...</td>\n",
       "      <td>...</td>\n",
       "    </tr>\n",
       "    <tr>\n",
       "      <th>1578607</th>\n",
       "      <td>1</td>\n",
       "      <td>Zzzzzz.... Finally! Night tweeters!</td>\n",
       "    </tr>\n",
       "    <tr>\n",
       "      <th>1578608</th>\n",
       "      <td>1</td>\n",
       "      <td>Zzzzzzz, sleep well people</td>\n",
       "    </tr>\n",
       "    <tr>\n",
       "      <th>1578609</th>\n",
       "      <td>0</td>\n",
       "      <td>ZzzZzZzzzZ... wait no I have homework.</td>\n",
       "    </tr>\n",
       "    <tr>\n",
       "      <th>1578610</th>\n",
       "      <td>0</td>\n",
       "      <td>ZzZzzzZZZZzzz meh, what am I doing up again?</td>\n",
       "    </tr>\n",
       "    <tr>\n",
       "      <th>1578611</th>\n",
       "      <td>0</td>\n",
       "      <td>Zzzzzzzzzzzzzzzzzzz, I wish</td>\n",
       "    </tr>\n",
       "  </tbody>\n",
       "</table>\n",
       "<p>1578612 rows × 2 columns</p>\n",
       "</div>"
      ],
      "text/plain": [
       "         Sentiment                                      SentimentText\n",
       "0                0                       is so sad for my APL frie...\n",
       "1                0                     I missed the New Moon trail...\n",
       "2                1                            omg its already 7:30 :O\n",
       "3                0            .. Omgaga. Im sooo  im gunna CRy. I'...\n",
       "4                0           i think mi bf is cheating on me!!!   ...\n",
       "...            ...                                                ...\n",
       "1578607          1               Zzzzzz.... Finally! Night tweeters! \n",
       "1578608          1                        Zzzzzzz, sleep well people \n",
       "1578609          0            ZzzZzZzzzZ... wait no I have homework. \n",
       "1578610          0      ZzZzzzZZZZzzz meh, what am I doing up again? \n",
       "1578611          0                       Zzzzzzzzzzzzzzzzzzz, I wish \n",
       "\n",
       "[1578612 rows x 2 columns]"
      ]
     },
     "execution_count": 13,
     "metadata": {},
     "output_type": "execute_result"
    }
   ],
   "source": [
    "df"
   ]
  },
  {
   "cell_type": "markdown",
   "id": "4193d3b0-793d-4623-b6b6-38c29b34f837",
   "metadata": {},
   "source": [
    "Doing text cleaning on our own"
   ]
  },
  {
   "cell_type": "code",
   "execution_count": 14,
   "id": "dbc932db-35d4-44f4-96a7-78abde2621f9",
   "metadata": {},
   "outputs": [],
   "source": [
    "import nltk\n",
    "import string\n",
    "from nltk import word_tokenize\n",
    "from nltk.corpus import stopwords\n",
    "from nltk.stem import WordNetLemmatizer\n",
    "from nltk.tokenize.treebank import TreebankWordDetokenizer\n",
    "\n",
    "stop_words = stopwords.words('english')\n",
    "lemmatizer = WordNetLemmatizer()\n",
    "detokenizer = TreebankWordDetokenizer()"
   ]
  },
  {
   "cell_type": "code",
   "execution_count": 15,
   "id": "4e65e693-cfc3-43b3-9c1d-d28b51ab3485",
   "metadata": {},
   "outputs": [],
   "source": [
    "def clean_text(text):\n",
    "    # remove punctuation\n",
    "    text = text.translate(str.maketrans('', '', string.punctuation))\n",
    "    text = word_tokenize(text)\n",
    "    # remove stopwords\n",
    "    text = [token for token in text if token not in stop_words]\n",
    "    # lemmatizer\n",
    "    text = [lemmatizer.lemmatize(token) for token in text]\n",
    "\n",
    "    # return detokenizer.detokenize(text).strip()\n",
    "    return text"
   ]
  },
  {
   "cell_type": "code",
   "execution_count": 16,
   "id": "ac3f4cb0-fd6f-4965-8040-c4f55698a811",
   "metadata": {},
   "outputs": [
    {
     "data": {
      "application/vnd.jupyter.widget-view+json": {
       "model_id": "1b09cd2632c942adbdbc06456f1a7bdd",
       "version_major": 2,
       "version_minor": 0
      },
      "text/plain": [
       "  0%|          | 0/1578612 [00:00<?, ?it/s]"
      ]
     },
     "metadata": {},
     "output_type": "display_data"
    }
   ],
   "source": [
    "df[\"Clean_Text\"] = df[\"SentimentText\"].progress_apply(clean_text)"
   ]
  },
  {
   "cell_type": "markdown",
   "id": "a97142ff-4d43-4180-918b-4e9dc91de9f1",
   "metadata": {},
   "source": [
    "Remove text that are too short"
   ]
  },
  {
   "cell_type": "code",
   "execution_count": 17,
   "id": "ae0f7933-b075-4b43-8d14-d5c14eef5d25",
   "metadata": {},
   "outputs": [
    {
     "data": {
      "text/plain": [
       "(1578612, 3)"
      ]
     },
     "execution_count": 17,
     "metadata": {},
     "output_type": "execute_result"
    }
   ],
   "source": [
    "df.shape"
   ]
  },
  {
   "cell_type": "code",
   "execution_count": 18,
   "id": "2be1666f-7c5c-4f94-8c09-5338f8cad55c",
   "metadata": {},
   "outputs": [
    {
     "data": {
      "text/plain": [
       "(1394976, 3)"
      ]
     },
     "execution_count": 18,
     "metadata": {},
     "output_type": "execute_result"
    }
   ],
   "source": [
    "df[df[\"Clean_Text\"].apply(len) > 3].shape"
   ]
  },
  {
   "cell_type": "code",
   "execution_count": 19,
   "id": "b29d5844-2f93-4234-8732-81e8d287a864",
   "metadata": {},
   "outputs": [],
   "source": [
    "df = df[df[\"Clean_Text\"].apply(len) > 3]"
   ]
  },
  {
   "cell_type": "code",
   "execution_count": 20,
   "id": "b840c4ae-7148-4b6d-97af-c22b11eccb3c",
   "metadata": {},
   "outputs": [
    {
     "data": {
      "application/vnd.jupyter.widget-view+json": {
       "model_id": "765bd8fd66a4459eb0819156a8cf6432",
       "version_major": 2,
       "version_minor": 0
      },
      "text/plain": [
       "  0%|          | 0/1394976 [00:00<?, ?it/s]"
      ]
     },
     "metadata": {},
     "output_type": "display_data"
    },
    {
     "name": "stderr",
     "output_type": "stream",
     "text": [
      "/var/folders/d_/43yhfw3n2wx5mg7dg0cxjld00000gn/T/ipykernel_71363/3863383790.py:1: SettingWithCopyWarning: \n",
      "A value is trying to be set on a copy of a slice from a DataFrame.\n",
      "Try using .loc[row_indexer,col_indexer] = value instead\n",
      "\n",
      "See the caveats in the documentation: https://pandas.pydata.org/pandas-docs/stable/user_guide/indexing.html#returning-a-view-versus-a-copy\n",
      "  df[\"Clean_Text_detok\"] = df[\"Clean_Text\"].progress_apply(lambda x: detokenizer.detokenize(x).strip())\n"
     ]
    }
   ],
   "source": [
    "df[\"Clean_Text_detok\"] = df[\"Clean_Text\"].progress_apply(lambda x: detokenizer.detokenize(x).strip())"
   ]
  },
  {
   "cell_type": "code",
   "execution_count": 21,
   "id": "368e05ac-dc58-4b16-982d-55f326598d42",
   "metadata": {},
   "outputs": [
    {
     "data": {
      "text/html": [
       "<div>\n",
       "<style scoped>\n",
       "    .dataframe tbody tr th:only-of-type {\n",
       "        vertical-align: middle;\n",
       "    }\n",
       "\n",
       "    .dataframe tbody tr th {\n",
       "        vertical-align: top;\n",
       "    }\n",
       "\n",
       "    .dataframe thead th {\n",
       "        text-align: right;\n",
       "    }\n",
       "</style>\n",
       "<table border=\"1\" class=\"dataframe\">\n",
       "  <thead>\n",
       "    <tr style=\"text-align: right;\">\n",
       "      <th></th>\n",
       "      <th>Sentiment</th>\n",
       "      <th>SentimentText</th>\n",
       "      <th>Clean_Text</th>\n",
       "      <th>Clean_Text_detok</th>\n",
       "    </tr>\n",
       "  </thead>\n",
       "  <tbody>\n",
       "    <tr>\n",
       "      <th>1</th>\n",
       "      <td>0</td>\n",
       "      <td>I missed the New Moon trail...</td>\n",
       "      <td>[I, missed, New, Moon, trailer]</td>\n",
       "      <td>I missed New Moon trailer</td>\n",
       "    </tr>\n",
       "    <tr>\n",
       "      <th>2</th>\n",
       "      <td>1</td>\n",
       "      <td>omg its already 7:30 :O</td>\n",
       "      <td>[omg, already, 730, O]</td>\n",
       "      <td>omg already 730 O</td>\n",
       "    </tr>\n",
       "    <tr>\n",
       "      <th>3</th>\n",
       "      <td>0</td>\n",
       "      <td>.. Omgaga. Im sooo  im gunna CRy. I'...</td>\n",
       "      <td>[Omgaga, Im, sooo, im, gunna, CRy, Ive, dentis...</td>\n",
       "      <td>Omgaga Im sooo im gunna CRy Ive dentist since ...</td>\n",
       "    </tr>\n",
       "    <tr>\n",
       "      <th>4</th>\n",
       "      <td>0</td>\n",
       "      <td>i think mi bf is cheating on me!!!   ...</td>\n",
       "      <td>[think, mi, bf, cheating, TT]</td>\n",
       "      <td>think mi bf cheating TT</td>\n",
       "    </tr>\n",
       "    <tr>\n",
       "      <th>7</th>\n",
       "      <td>0</td>\n",
       "      <td>Sunny Again        Work Tomorrow  :-|  ...</td>\n",
       "      <td>[Sunny, Again, Work, Tomorrow, TV, Tonight]</td>\n",
       "      <td>Sunny Again Work Tomorrow TV Tonight</td>\n",
       "    </tr>\n",
       "  </tbody>\n",
       "</table>\n",
       "</div>"
      ],
      "text/plain": [
       "   Sentiment                                      SentimentText  \\\n",
       "1          0                     I missed the New Moon trail...   \n",
       "2          1                            omg its already 7:30 :O   \n",
       "3          0            .. Omgaga. Im sooo  im gunna CRy. I'...   \n",
       "4          0           i think mi bf is cheating on me!!!   ...   \n",
       "7          0         Sunny Again        Work Tomorrow  :-|  ...   \n",
       "\n",
       "                                          Clean_Text  \\\n",
       "1                    [I, missed, New, Moon, trailer]   \n",
       "2                             [omg, already, 730, O]   \n",
       "3  [Omgaga, Im, sooo, im, gunna, CRy, Ive, dentis...   \n",
       "4                      [think, mi, bf, cheating, TT]   \n",
       "7        [Sunny, Again, Work, Tomorrow, TV, Tonight]   \n",
       "\n",
       "                                    Clean_Text_detok  \n",
       "1                          I missed New Moon trailer  \n",
       "2                                  omg already 730 O  \n",
       "3  Omgaga Im sooo im gunna CRy Ive dentist since ...  \n",
       "4                            think mi bf cheating TT  \n",
       "7               Sunny Again Work Tomorrow TV Tonight  "
      ]
     },
     "execution_count": 21,
     "metadata": {},
     "output_type": "execute_result"
    }
   ],
   "source": [
    "df.head()"
   ]
  },
  {
   "cell_type": "code",
   "execution_count": 22,
   "id": "703a441b-4a44-4797-9cbb-6881bb46d54b",
   "metadata": {},
   "outputs": [],
   "source": [
    "SENTIMENT_MAP = {\n",
    "    0: \"negative\",\n",
    "    1: \"positive\",\n",
    "}"
   ]
  },
  {
   "cell_type": "markdown",
   "id": "b0aa6eeb-a14b-4c76-a5b9-0c8039a05ec2",
   "metadata": {},
   "source": [
    "# Map Text to Embedding Dimension"
   ]
  },
  {
   "cell_type": "code",
   "execution_count": 23,
   "id": "51ee6ebf-6b60-4cd9-9208-3b63437d18b2",
   "metadata": {},
   "outputs": [],
   "source": [
    "from sklearn.feature_extraction.text import CountVectorizer\n",
    "\n",
    "vectorizer = CountVectorizer(lowercase=True, ngram_range=(1, 2), max_df=0.95, min_df=5)"
   ]
  },
  {
   "cell_type": "code",
   "execution_count": 24,
   "id": "435917d9-ad82-43e9-a43a-3a0b6cd220e1",
   "metadata": {},
   "outputs": [],
   "source": [
    "y = df[\"Sentiment\"]"
   ]
  },
  {
   "cell_type": "code",
   "execution_count": 25,
   "id": "13e81978-90d7-424b-9c9a-903de87036a2",
   "metadata": {},
   "outputs": [],
   "source": [
    "from sklearn.model_selection import train_test_split"
   ]
  },
  {
   "cell_type": "code",
   "execution_count": 26,
   "id": "24194594-52aa-437b-b7de-8f0afd6894b8",
   "metadata": {},
   "outputs": [],
   "source": [
    "# note that sometimes using \"Text\" instead of \"Clean_Text\" column yields better result"
   ]
  },
  {
   "cell_type": "code",
   "execution_count": 27,
   "id": "b325a38c-8576-4349-943f-f5354fd4c8b3",
   "metadata": {},
   "outputs": [],
   "source": [
    "X_lin_train, X_lin_val, y_lin_train, y_lin_val = train_test_split(df[\"Clean_Text_detok\"], y, random_state=3407, test_size=0.2, stratify=y)"
   ]
  },
  {
   "cell_type": "code",
   "execution_count": 28,
   "id": "dfb2e7da-8024-460e-b2ae-b3289937e14c",
   "metadata": {},
   "outputs": [],
   "source": [
    "X_lin_train = vectorizer.fit_transform(X_lin_train)\n",
    "X_lin_val = vectorizer.transform(X_lin_val)"
   ]
  },
  {
   "cell_type": "code",
   "execution_count": 29,
   "id": "5975d3b2-e8f9-46d4-a8b0-cc353994f905",
   "metadata": {},
   "outputs": [],
   "source": [
    "# import tensorflow_hub as hub\n",
    "\n",
    "# module_url = \"https://tfhub.dev/google/universal-sentence-encoder/4\"\n",
    "# use_model = hub.load(module_url)\n",
    "# X_train = use_model(X_train).numpy()\n",
    "# X_val = use_model(X_val).numpy()"
   ]
  },
  {
   "cell_type": "code",
   "execution_count": 30,
   "id": "2bc689c9-5dd7-4916-a258-79f176213380",
   "metadata": {},
   "outputs": [
    {
     "data": {
      "text/plain": [
       "(1115980, 263963)"
      ]
     },
     "execution_count": 30,
     "metadata": {},
     "output_type": "execute_result"
    }
   ],
   "source": [
    "X_lin_train.shape"
   ]
  },
  {
   "cell_type": "markdown",
   "id": "ab62ff1b-649b-46a3-9d02-023ffbcc413e",
   "metadata": {},
   "source": [
    "Check if y label is distributed correctly"
   ]
  },
  {
   "cell_type": "code",
   "execution_count": 31,
   "id": "bef5b143-3109-4433-999c-ea9671e7ed26",
   "metadata": {},
   "outputs": [
    {
     "data": {
      "text/plain": [
       "0    561888\n",
       "1    554092\n",
       "Name: Sentiment, dtype: int64"
      ]
     },
     "execution_count": 31,
     "metadata": {},
     "output_type": "execute_result"
    }
   ],
   "source": [
    "y_lin_train.value_counts().sort_index()"
   ]
  },
  {
   "cell_type": "code",
   "execution_count": 32,
   "id": "bfd34370-38b9-4e35-946b-62fe91838c14",
   "metadata": {},
   "outputs": [
    {
     "data": {
      "text/plain": [
       "0    140472\n",
       "1    138524\n",
       "Name: Sentiment, dtype: int64"
      ]
     },
     "execution_count": 32,
     "metadata": {},
     "output_type": "execute_result"
    }
   ],
   "source": [
    "y_lin_val.value_counts().sort_index()"
   ]
  },
  {
   "cell_type": "markdown",
   "id": "ae405ee7-6b9a-4b6a-a5ce-2008bf29829c",
   "metadata": {},
   "source": [
    "# Modelling"
   ]
  },
  {
   "cell_type": "code",
   "execution_count": 26,
   "id": "10cf1a37-1395-4264-84ad-eb9ef54c4956",
   "metadata": {},
   "outputs": [],
   "source": [
    "import gc\n",
    "import torch.nn as nn\n",
    "import torch.nn.functional as F\n",
    "import torch.optim as optim"
   ]
  },
  {
   "cell_type": "code",
   "execution_count": 27,
   "id": "79beb565-0530-4154-83d8-57c6bf872563",
   "metadata": {},
   "outputs": [],
   "source": [
    "from utils import torch_device_seed, check_gpu, clear_device_cache"
   ]
  },
  {
   "cell_type": "code",
   "execution_count": 28,
   "id": "03122c14-c560-408c-b05b-e21bae1deed0",
   "metadata": {},
   "outputs": [],
   "source": [
    "device = check_gpu()"
   ]
  },
  {
   "cell_type": "code",
   "execution_count": 29,
   "id": "6377fb2e-394e-41ac-8eca-ffa4a8227dc1",
   "metadata": {},
   "outputs": [
    {
     "data": {
      "text/plain": [
       "device(type='mps')"
      ]
     },
     "execution_count": 29,
     "metadata": {},
     "output_type": "execute_result"
    }
   ],
   "source": [
    "device"
   ]
  },
  {
   "cell_type": "markdown",
   "id": "1bc70b01-80bd-40f0-b99d-174f2f1b4d9d",
   "metadata": {},
   "source": [
    "## Non-NN Models"
   ]
  },
  {
   "cell_type": "code",
   "execution_count": 30,
   "id": "025bd60f-5e8b-4d91-9a9a-8c7bb9ed5f22",
   "metadata": {},
   "outputs": [],
   "source": [
    "from sklearn.linear_model import LogisticRegression\n",
    "from sklearn.ensemble import RandomForestClassifier\n",
    "from xgboost import XGBClassifier\n",
    "\n",
    "from sklearn.metrics import accuracy_score"
   ]
  },
  {
   "cell_type": "code",
   "execution_count": 38,
   "id": "7625dcf9-6a65-4b0b-9bae-58602b3e47bc",
   "metadata": {},
   "outputs": [
    {
     "name": "stderr",
     "output_type": "stream",
     "text": [
      "/Library/Frameworks/Python.framework/Versions/3.11/lib/python3.11/site-packages/sklearn/linear_model/_logistic.py:469: ConvergenceWarning: lbfgs failed to converge (status=1):\n",
      "STOP: TOTAL NO. of ITERATIONS REACHED LIMIT.\n",
      "\n",
      "Increase the number of iterations (max_iter) or scale the data as shown in:\n",
      "    https://scikit-learn.org/stable/modules/preprocessing.html\n",
      "Please also refer to the documentation for alternative solver options:\n",
      "    https://scikit-learn.org/stable/modules/linear_model.html#logistic-regression\n",
      "  n_iter_i = _check_optimize_result(\n"
     ]
    },
    {
     "data": {
      "text/html": [
       "<style>#sk-container-id-1 {\n",
       "  /* Definition of color scheme common for light and dark mode */\n",
       "  --sklearn-color-text: black;\n",
       "  --sklearn-color-line: gray;\n",
       "  /* Definition of color scheme for unfitted estimators */\n",
       "  --sklearn-color-unfitted-level-0: #fff5e6;\n",
       "  --sklearn-color-unfitted-level-1: #f6e4d2;\n",
       "  --sklearn-color-unfitted-level-2: #ffe0b3;\n",
       "  --sklearn-color-unfitted-level-3: chocolate;\n",
       "  /* Definition of color scheme for fitted estimators */\n",
       "  --sklearn-color-fitted-level-0: #f0f8ff;\n",
       "  --sklearn-color-fitted-level-1: #d4ebff;\n",
       "  --sklearn-color-fitted-level-2: #b3dbfd;\n",
       "  --sklearn-color-fitted-level-3: cornflowerblue;\n",
       "\n",
       "  /* Specific color for light theme */\n",
       "  --sklearn-color-text-on-default-background: var(--sg-text-color, var(--theme-code-foreground, var(--jp-content-font-color1, black)));\n",
       "  --sklearn-color-background: var(--sg-background-color, var(--theme-background, var(--jp-layout-color0, white)));\n",
       "  --sklearn-color-border-box: var(--sg-text-color, var(--theme-code-foreground, var(--jp-content-font-color1, black)));\n",
       "  --sklearn-color-icon: #696969;\n",
       "\n",
       "  @media (prefers-color-scheme: dark) {\n",
       "    /* Redefinition of color scheme for dark theme */\n",
       "    --sklearn-color-text-on-default-background: var(--sg-text-color, var(--theme-code-foreground, var(--jp-content-font-color1, white)));\n",
       "    --sklearn-color-background: var(--sg-background-color, var(--theme-background, var(--jp-layout-color0, #111)));\n",
       "    --sklearn-color-border-box: var(--sg-text-color, var(--theme-code-foreground, var(--jp-content-font-color1, white)));\n",
       "    --sklearn-color-icon: #878787;\n",
       "  }\n",
       "}\n",
       "\n",
       "#sk-container-id-1 {\n",
       "  color: var(--sklearn-color-text);\n",
       "}\n",
       "\n",
       "#sk-container-id-1 pre {\n",
       "  padding: 0;\n",
       "}\n",
       "\n",
       "#sk-container-id-1 input.sk-hidden--visually {\n",
       "  border: 0;\n",
       "  clip: rect(1px 1px 1px 1px);\n",
       "  clip: rect(1px, 1px, 1px, 1px);\n",
       "  height: 1px;\n",
       "  margin: -1px;\n",
       "  overflow: hidden;\n",
       "  padding: 0;\n",
       "  position: absolute;\n",
       "  width: 1px;\n",
       "}\n",
       "\n",
       "#sk-container-id-1 div.sk-dashed-wrapped {\n",
       "  border: 1px dashed var(--sklearn-color-line);\n",
       "  margin: 0 0.4em 0.5em 0.4em;\n",
       "  box-sizing: border-box;\n",
       "  padding-bottom: 0.4em;\n",
       "  background-color: var(--sklearn-color-background);\n",
       "}\n",
       "\n",
       "#sk-container-id-1 div.sk-container {\n",
       "  /* jupyter's `normalize.less` sets `[hidden] { display: none; }`\n",
       "     but bootstrap.min.css set `[hidden] { display: none !important; }`\n",
       "     so we also need the `!important` here to be able to override the\n",
       "     default hidden behavior on the sphinx rendered scikit-learn.org.\n",
       "     See: https://github.com/scikit-learn/scikit-learn/issues/21755 */\n",
       "  display: inline-block !important;\n",
       "  position: relative;\n",
       "}\n",
       "\n",
       "#sk-container-id-1 div.sk-text-repr-fallback {\n",
       "  display: none;\n",
       "}\n",
       "\n",
       "div.sk-parallel-item,\n",
       "div.sk-serial,\n",
       "div.sk-item {\n",
       "  /* draw centered vertical line to link estimators */\n",
       "  background-image: linear-gradient(var(--sklearn-color-text-on-default-background), var(--sklearn-color-text-on-default-background));\n",
       "  background-size: 2px 100%;\n",
       "  background-repeat: no-repeat;\n",
       "  background-position: center center;\n",
       "}\n",
       "\n",
       "/* Parallel-specific style estimator block */\n",
       "\n",
       "#sk-container-id-1 div.sk-parallel-item::after {\n",
       "  content: \"\";\n",
       "  width: 100%;\n",
       "  border-bottom: 2px solid var(--sklearn-color-text-on-default-background);\n",
       "  flex-grow: 1;\n",
       "}\n",
       "\n",
       "#sk-container-id-1 div.sk-parallel {\n",
       "  display: flex;\n",
       "  align-items: stretch;\n",
       "  justify-content: center;\n",
       "  background-color: var(--sklearn-color-background);\n",
       "  position: relative;\n",
       "}\n",
       "\n",
       "#sk-container-id-1 div.sk-parallel-item {\n",
       "  display: flex;\n",
       "  flex-direction: column;\n",
       "}\n",
       "\n",
       "#sk-container-id-1 div.sk-parallel-item:first-child::after {\n",
       "  align-self: flex-end;\n",
       "  width: 50%;\n",
       "}\n",
       "\n",
       "#sk-container-id-1 div.sk-parallel-item:last-child::after {\n",
       "  align-self: flex-start;\n",
       "  width: 50%;\n",
       "}\n",
       "\n",
       "#sk-container-id-1 div.sk-parallel-item:only-child::after {\n",
       "  width: 0;\n",
       "}\n",
       "\n",
       "/* Serial-specific style estimator block */\n",
       "\n",
       "#sk-container-id-1 div.sk-serial {\n",
       "  display: flex;\n",
       "  flex-direction: column;\n",
       "  align-items: center;\n",
       "  background-color: var(--sklearn-color-background);\n",
       "  padding-right: 1em;\n",
       "  padding-left: 1em;\n",
       "}\n",
       "\n",
       "\n",
       "/* Toggleable style: style used for estimator/Pipeline/ColumnTransformer box that is\n",
       "clickable and can be expanded/collapsed.\n",
       "- Pipeline and ColumnTransformer use this feature and define the default style\n",
       "- Estimators will overwrite some part of the style using the `sk-estimator` class\n",
       "*/\n",
       "\n",
       "/* Pipeline and ColumnTransformer style (default) */\n",
       "\n",
       "#sk-container-id-1 div.sk-toggleable {\n",
       "  /* Default theme specific background. It is overwritten whether we have a\n",
       "  specific estimator or a Pipeline/ColumnTransformer */\n",
       "  background-color: var(--sklearn-color-background);\n",
       "}\n",
       "\n",
       "/* Toggleable label */\n",
       "#sk-container-id-1 label.sk-toggleable__label {\n",
       "  cursor: pointer;\n",
       "  display: block;\n",
       "  width: 100%;\n",
       "  margin-bottom: 0;\n",
       "  padding: 0.5em;\n",
       "  box-sizing: border-box;\n",
       "  text-align: center;\n",
       "}\n",
       "\n",
       "#sk-container-id-1 label.sk-toggleable__label-arrow:before {\n",
       "  /* Arrow on the left of the label */\n",
       "  content: \"▸\";\n",
       "  float: left;\n",
       "  margin-right: 0.25em;\n",
       "  color: var(--sklearn-color-icon);\n",
       "}\n",
       "\n",
       "#sk-container-id-1 label.sk-toggleable__label-arrow:hover:before {\n",
       "  color: var(--sklearn-color-text);\n",
       "}\n",
       "\n",
       "/* Toggleable content - dropdown */\n",
       "\n",
       "#sk-container-id-1 div.sk-toggleable__content {\n",
       "  max-height: 0;\n",
       "  max-width: 0;\n",
       "  overflow: hidden;\n",
       "  text-align: left;\n",
       "  /* unfitted */\n",
       "  background-color: var(--sklearn-color-unfitted-level-0);\n",
       "}\n",
       "\n",
       "#sk-container-id-1 div.sk-toggleable__content.fitted {\n",
       "  /* fitted */\n",
       "  background-color: var(--sklearn-color-fitted-level-0);\n",
       "}\n",
       "\n",
       "#sk-container-id-1 div.sk-toggleable__content pre {\n",
       "  margin: 0.2em;\n",
       "  border-radius: 0.25em;\n",
       "  color: var(--sklearn-color-text);\n",
       "  /* unfitted */\n",
       "  background-color: var(--sklearn-color-unfitted-level-0);\n",
       "}\n",
       "\n",
       "#sk-container-id-1 div.sk-toggleable__content.fitted pre {\n",
       "  /* unfitted */\n",
       "  background-color: var(--sklearn-color-fitted-level-0);\n",
       "}\n",
       "\n",
       "#sk-container-id-1 input.sk-toggleable__control:checked~div.sk-toggleable__content {\n",
       "  /* Expand drop-down */\n",
       "  max-height: 200px;\n",
       "  max-width: 100%;\n",
       "  overflow: auto;\n",
       "}\n",
       "\n",
       "#sk-container-id-1 input.sk-toggleable__control:checked~label.sk-toggleable__label-arrow:before {\n",
       "  content: \"▾\";\n",
       "}\n",
       "\n",
       "/* Pipeline/ColumnTransformer-specific style */\n",
       "\n",
       "#sk-container-id-1 div.sk-label input.sk-toggleable__control:checked~label.sk-toggleable__label {\n",
       "  color: var(--sklearn-color-text);\n",
       "  background-color: var(--sklearn-color-unfitted-level-2);\n",
       "}\n",
       "\n",
       "#sk-container-id-1 div.sk-label.fitted input.sk-toggleable__control:checked~label.sk-toggleable__label {\n",
       "  background-color: var(--sklearn-color-fitted-level-2);\n",
       "}\n",
       "\n",
       "/* Estimator-specific style */\n",
       "\n",
       "/* Colorize estimator box */\n",
       "#sk-container-id-1 div.sk-estimator input.sk-toggleable__control:checked~label.sk-toggleable__label {\n",
       "  /* unfitted */\n",
       "  background-color: var(--sklearn-color-unfitted-level-2);\n",
       "}\n",
       "\n",
       "#sk-container-id-1 div.sk-estimator.fitted input.sk-toggleable__control:checked~label.sk-toggleable__label {\n",
       "  /* fitted */\n",
       "  background-color: var(--sklearn-color-fitted-level-2);\n",
       "}\n",
       "\n",
       "#sk-container-id-1 div.sk-label label.sk-toggleable__label,\n",
       "#sk-container-id-1 div.sk-label label {\n",
       "  /* The background is the default theme color */\n",
       "  color: var(--sklearn-color-text-on-default-background);\n",
       "}\n",
       "\n",
       "/* On hover, darken the color of the background */\n",
       "#sk-container-id-1 div.sk-label:hover label.sk-toggleable__label {\n",
       "  color: var(--sklearn-color-text);\n",
       "  background-color: var(--sklearn-color-unfitted-level-2);\n",
       "}\n",
       "\n",
       "/* Label box, darken color on hover, fitted */\n",
       "#sk-container-id-1 div.sk-label.fitted:hover label.sk-toggleable__label.fitted {\n",
       "  color: var(--sklearn-color-text);\n",
       "  background-color: var(--sklearn-color-fitted-level-2);\n",
       "}\n",
       "\n",
       "/* Estimator label */\n",
       "\n",
       "#sk-container-id-1 div.sk-label label {\n",
       "  font-family: monospace;\n",
       "  font-weight: bold;\n",
       "  display: inline-block;\n",
       "  line-height: 1.2em;\n",
       "}\n",
       "\n",
       "#sk-container-id-1 div.sk-label-container {\n",
       "  text-align: center;\n",
       "}\n",
       "\n",
       "/* Estimator-specific */\n",
       "#sk-container-id-1 div.sk-estimator {\n",
       "  font-family: monospace;\n",
       "  border: 1px dotted var(--sklearn-color-border-box);\n",
       "  border-radius: 0.25em;\n",
       "  box-sizing: border-box;\n",
       "  margin-bottom: 0.5em;\n",
       "  /* unfitted */\n",
       "  background-color: var(--sklearn-color-unfitted-level-0);\n",
       "}\n",
       "\n",
       "#sk-container-id-1 div.sk-estimator.fitted {\n",
       "  /* fitted */\n",
       "  background-color: var(--sklearn-color-fitted-level-0);\n",
       "}\n",
       "\n",
       "/* on hover */\n",
       "#sk-container-id-1 div.sk-estimator:hover {\n",
       "  /* unfitted */\n",
       "  background-color: var(--sklearn-color-unfitted-level-2);\n",
       "}\n",
       "\n",
       "#sk-container-id-1 div.sk-estimator.fitted:hover {\n",
       "  /* fitted */\n",
       "  background-color: var(--sklearn-color-fitted-level-2);\n",
       "}\n",
       "\n",
       "/* Specification for estimator info (e.g. \"i\" and \"?\") */\n",
       "\n",
       "/* Common style for \"i\" and \"?\" */\n",
       "\n",
       ".sk-estimator-doc-link,\n",
       "a:link.sk-estimator-doc-link,\n",
       "a:visited.sk-estimator-doc-link {\n",
       "  float: right;\n",
       "  font-size: smaller;\n",
       "  line-height: 1em;\n",
       "  font-family: monospace;\n",
       "  background-color: var(--sklearn-color-background);\n",
       "  border-radius: 1em;\n",
       "  height: 1em;\n",
       "  width: 1em;\n",
       "  text-decoration: none !important;\n",
       "  margin-left: 1ex;\n",
       "  /* unfitted */\n",
       "  border: var(--sklearn-color-unfitted-level-1) 1pt solid;\n",
       "  color: var(--sklearn-color-unfitted-level-1);\n",
       "}\n",
       "\n",
       ".sk-estimator-doc-link.fitted,\n",
       "a:link.sk-estimator-doc-link.fitted,\n",
       "a:visited.sk-estimator-doc-link.fitted {\n",
       "  /* fitted */\n",
       "  border: var(--sklearn-color-fitted-level-1) 1pt solid;\n",
       "  color: var(--sklearn-color-fitted-level-1);\n",
       "}\n",
       "\n",
       "/* On hover */\n",
       "div.sk-estimator:hover .sk-estimator-doc-link:hover,\n",
       ".sk-estimator-doc-link:hover,\n",
       "div.sk-label-container:hover .sk-estimator-doc-link:hover,\n",
       ".sk-estimator-doc-link:hover {\n",
       "  /* unfitted */\n",
       "  background-color: var(--sklearn-color-unfitted-level-3);\n",
       "  color: var(--sklearn-color-background);\n",
       "  text-decoration: none;\n",
       "}\n",
       "\n",
       "div.sk-estimator.fitted:hover .sk-estimator-doc-link.fitted:hover,\n",
       ".sk-estimator-doc-link.fitted:hover,\n",
       "div.sk-label-container:hover .sk-estimator-doc-link.fitted:hover,\n",
       ".sk-estimator-doc-link.fitted:hover {\n",
       "  /* fitted */\n",
       "  background-color: var(--sklearn-color-fitted-level-3);\n",
       "  color: var(--sklearn-color-background);\n",
       "  text-decoration: none;\n",
       "}\n",
       "\n",
       "/* Span, style for the box shown on hovering the info icon */\n",
       ".sk-estimator-doc-link span {\n",
       "  display: none;\n",
       "  z-index: 9999;\n",
       "  position: relative;\n",
       "  font-weight: normal;\n",
       "  right: .2ex;\n",
       "  padding: .5ex;\n",
       "  margin: .5ex;\n",
       "  width: min-content;\n",
       "  min-width: 20ex;\n",
       "  max-width: 50ex;\n",
       "  color: var(--sklearn-color-text);\n",
       "  box-shadow: 2pt 2pt 4pt #999;\n",
       "  /* unfitted */\n",
       "  background: var(--sklearn-color-unfitted-level-0);\n",
       "  border: .5pt solid var(--sklearn-color-unfitted-level-3);\n",
       "}\n",
       "\n",
       ".sk-estimator-doc-link.fitted span {\n",
       "  /* fitted */\n",
       "  background: var(--sklearn-color-fitted-level-0);\n",
       "  border: var(--sklearn-color-fitted-level-3);\n",
       "}\n",
       "\n",
       ".sk-estimator-doc-link:hover span {\n",
       "  display: block;\n",
       "}\n",
       "\n",
       "/* \"?\"-specific style due to the `<a>` HTML tag */\n",
       "\n",
       "#sk-container-id-1 a.estimator_doc_link {\n",
       "  float: right;\n",
       "  font-size: 1rem;\n",
       "  line-height: 1em;\n",
       "  font-family: monospace;\n",
       "  background-color: var(--sklearn-color-background);\n",
       "  border-radius: 1rem;\n",
       "  height: 1rem;\n",
       "  width: 1rem;\n",
       "  text-decoration: none;\n",
       "  /* unfitted */\n",
       "  color: var(--sklearn-color-unfitted-level-1);\n",
       "  border: var(--sklearn-color-unfitted-level-1) 1pt solid;\n",
       "}\n",
       "\n",
       "#sk-container-id-1 a.estimator_doc_link.fitted {\n",
       "  /* fitted */\n",
       "  border: var(--sklearn-color-fitted-level-1) 1pt solid;\n",
       "  color: var(--sklearn-color-fitted-level-1);\n",
       "}\n",
       "\n",
       "/* On hover */\n",
       "#sk-container-id-1 a.estimator_doc_link:hover {\n",
       "  /* unfitted */\n",
       "  background-color: var(--sklearn-color-unfitted-level-3);\n",
       "  color: var(--sklearn-color-background);\n",
       "  text-decoration: none;\n",
       "}\n",
       "\n",
       "#sk-container-id-1 a.estimator_doc_link.fitted:hover {\n",
       "  /* fitted */\n",
       "  background-color: var(--sklearn-color-fitted-level-3);\n",
       "}\n",
       "</style><div id=\"sk-container-id-1\" class=\"sk-top-container\"><div class=\"sk-text-repr-fallback\"><pre>LogisticRegression(random_state=3407)</pre><b>In a Jupyter environment, please rerun this cell to show the HTML representation or trust the notebook. <br />On GitHub, the HTML representation is unable to render, please try loading this page with nbviewer.org.</b></div><div class=\"sk-container\" hidden><div class=\"sk-item\"><div class=\"sk-estimator fitted sk-toggleable\"><input class=\"sk-toggleable__control sk-hidden--visually\" id=\"sk-estimator-id-1\" type=\"checkbox\" checked><label for=\"sk-estimator-id-1\" class=\"sk-toggleable__label fitted sk-toggleable__label-arrow fitted\">&nbsp;&nbsp;LogisticRegression<a class=\"sk-estimator-doc-link fitted\" rel=\"noreferrer\" target=\"_blank\" href=\"https://scikit-learn.org/1.4/modules/generated/sklearn.linear_model.LogisticRegression.html\">?<span>Documentation for LogisticRegression</span></a><span class=\"sk-estimator-doc-link fitted\">i<span>Fitted</span></span></label><div class=\"sk-toggleable__content fitted\"><pre>LogisticRegression(random_state=3407)</pre></div> </div></div></div></div>"
      ],
      "text/plain": [
       "LogisticRegression(random_state=3407)"
      ]
     },
     "execution_count": 38,
     "metadata": {},
     "output_type": "execute_result"
    }
   ],
   "source": [
    "logreg = LogisticRegression(random_state=3407)\n",
    "\n",
    "logreg.fit(X_lin_train, y_lin_train)"
   ]
  },
  {
   "cell_type": "code",
   "execution_count": 39,
   "id": "22be15df-10be-47d2-9aa8-e9a657b0ef6a",
   "metadata": {},
   "outputs": [],
   "source": [
    "y_lin_pred = logreg.predict(X_lin_val)"
   ]
  },
  {
   "cell_type": "code",
   "execution_count": 31,
   "id": "614019d0-8b6a-424a-800e-af0c713f72f5",
   "metadata": {},
   "outputs": [],
   "source": [
    "from sklearn.metrics import confusion_matrix\n",
    "import matplotlib.pyplot as plt\n",
    "import seaborn as sns\n",
    "%matplotlib inline"
   ]
  },
  {
   "cell_type": "code",
   "execution_count": 41,
   "id": "bedd31db-2ee9-4258-b24b-1402b60f2c6e",
   "metadata": {},
   "outputs": [
    {
     "data": {
      "image/png": "[encoded data removed]",
      "text/plain": [
       "<Figure size 640x480 with 2 Axes>"
      ]
     },
     "metadata": {},
     "output_type": "display_data"
    }
   ],
   "source": [
    "cm = pd.DataFrame(confusion_matrix(y_lin_val, y_lin_pred), index=SENTIMENT_MAP.values(), columns=SENTIMENT_MAP.values())\n",
    "sns.heatmap(cm, annot=True)\n",
    "plt.xlabel(\"Predicted\")\n",
    "plt.ylabel(\"Actual\")\n",
    "plt.show()"
   ]
  },
  {
   "cell_type": "code",
   "execution_count": 42,
   "id": "9bf03786-65ae-41e1-92f1-f24f363cdcc8",
   "metadata": {},
   "outputs": [
    {
     "data": {
      "text/plain": [
       "0.7929898636539592"
      ]
     },
     "execution_count": 42,
     "metadata": {},
     "output_type": "execute_result"
    }
   ],
   "source": [
    "accuracy_score(y_lin_val, y_lin_pred)"
   ]
  },
  {
   "cell_type": "code",
   "execution_count": 43,
   "id": "1c05338f-0b46-49d5-b8fb-1247447a7b96",
   "metadata": {},
   "outputs": [],
   "source": [
    "# ranfor = RandomForestClassifier(n_estimators=450, random_state=3407)\n",
    "\n",
    "# ranfor.fit(X_lin_train, y_lin_train)"
   ]
  },
  {
   "cell_type": "code",
   "execution_count": 44,
   "id": "02dee597-5af5-48d7-9013-9a7afb31e2e3",
   "metadata": {},
   "outputs": [
    {
     "data": {
      "text/html": [
       "<style>#sk-container-id-2 {\n",
       "  /* Definition of color scheme common for light and dark mode */\n",
       "  --sklearn-color-text: black;\n",
       "  --sklearn-color-line: gray;\n",
       "  /* Definition of color scheme for unfitted estimators */\n",
       "  --sklearn-color-unfitted-level-0: #fff5e6;\n",
       "  --sklearn-color-unfitted-level-1: #f6e4d2;\n",
       "  --sklearn-color-unfitted-level-2: #ffe0b3;\n",
       "  --sklearn-color-unfitted-level-3: chocolate;\n",
       "  /* Definition of color scheme for fitted estimators */\n",
       "  --sklearn-color-fitted-level-0: #f0f8ff;\n",
       "  --sklearn-color-fitted-level-1: #d4ebff;\n",
       "  --sklearn-color-fitted-level-2: #b3dbfd;\n",
       "  --sklearn-color-fitted-level-3: cornflowerblue;\n",
       "\n",
       "  /* Specific color for light theme */\n",
       "  --sklearn-color-text-on-default-background: var(--sg-text-color, var(--theme-code-foreground, var(--jp-content-font-color1, black)));\n",
       "  --sklearn-color-background: var(--sg-background-color, var(--theme-background, var(--jp-layout-color0, white)));\n",
       "  --sklearn-color-border-box: var(--sg-text-color, var(--theme-code-foreground, var(--jp-content-font-color1, black)));\n",
       "  --sklearn-color-icon: #696969;\n",
       "\n",
       "  @media (prefers-color-scheme: dark) {\n",
       "    /* Redefinition of color scheme for dark theme */\n",
       "    --sklearn-color-text-on-default-background: var(--sg-text-color, var(--theme-code-foreground, var(--jp-content-font-color1, white)));\n",
       "    --sklearn-color-background: var(--sg-background-color, var(--theme-background, var(--jp-layout-color0, #111)));\n",
       "    --sklearn-color-border-box: var(--sg-text-color, var(--theme-code-foreground, var(--jp-content-font-color1, white)));\n",
       "    --sklearn-color-icon: #878787;\n",
       "  }\n",
       "}\n",
       "\n",
       "#sk-container-id-2 {\n",
       "  color: var(--sklearn-color-text);\n",
       "}\n",
       "\n",
       "#sk-container-id-2 pre {\n",
       "  padding: 0;\n",
       "}\n",
       "\n",
       "#sk-container-id-2 input.sk-hidden--visually {\n",
       "  border: 0;\n",
       "  clip: rect(1px 1px 1px 1px);\n",
       "  clip: rect(1px, 1px, 1px, 1px);\n",
       "  height: 1px;\n",
       "  margin: -1px;\n",
       "  overflow: hidden;\n",
       "  padding: 0;\n",
       "  position: absolute;\n",
       "  width: 1px;\n",
       "}\n",
       "\n",
       "#sk-container-id-2 div.sk-dashed-wrapped {\n",
       "  border: 1px dashed var(--sklearn-color-line);\n",
       "  margin: 0 0.4em 0.5em 0.4em;\n",
       "  box-sizing: border-box;\n",
       "  padding-bottom: 0.4em;\n",
       "  background-color: var(--sklearn-color-background);\n",
       "}\n",
       "\n",
       "#sk-container-id-2 div.sk-container {\n",
       "  /* jupyter's `normalize.less` sets `[hidden] { display: none; }`\n",
       "     but bootstrap.min.css set `[hidden] { display: none !important; }`\n",
       "     so we also need the `!important` here to be able to override the\n",
       "     default hidden behavior on the sphinx rendered scikit-learn.org.\n",
       "     See: https://github.com/scikit-learn/scikit-learn/issues/21755 */\n",
       "  display: inline-block !important;\n",
       "  position: relative;\n",
       "}\n",
       "\n",
       "#sk-container-id-2 div.sk-text-repr-fallback {\n",
       "  display: none;\n",
       "}\n",
       "\n",
       "div.sk-parallel-item,\n",
       "div.sk-serial,\n",
       "div.sk-item {\n",
       "  /* draw centered vertical line to link estimators */\n",
       "  background-image: linear-gradient(var(--sklearn-color-text-on-default-background), var(--sklearn-color-text-on-default-background));\n",
       "  background-size: 2px 100%;\n",
       "  background-repeat: no-repeat;\n",
       "  background-position: center center;\n",
       "}\n",
       "\n",
       "/* Parallel-specific style estimator block */\n",
       "\n",
       "#sk-container-id-2 div.sk-parallel-item::after {\n",
       "  content: \"\";\n",
       "  width: 100%;\n",
       "  border-bottom: 2px solid var(--sklearn-color-text-on-default-background);\n",
       "  flex-grow: 1;\n",
       "}\n",
       "\n",
       "#sk-container-id-2 div.sk-parallel {\n",
       "  display: flex;\n",
       "  align-items: stretch;\n",
       "  justify-content: center;\n",
       "  background-color: var(--sklearn-color-background);\n",
       "  position: relative;\n",
       "}\n",
       "\n",
       "#sk-container-id-2 div.sk-parallel-item {\n",
       "  display: flex;\n",
       "  flex-direction: column;\n",
       "}\n",
       "\n",
       "#sk-container-id-2 div.sk-parallel-item:first-child::after {\n",
       "  align-self: flex-end;\n",
       "  width: 50%;\n",
       "}\n",
       "\n",
       "#sk-container-id-2 div.sk-parallel-item:last-child::after {\n",
       "  align-self: flex-start;\n",
       "  width: 50%;\n",
       "}\n",
       "\n",
       "#sk-container-id-2 div.sk-parallel-item:only-child::after {\n",
       "  width: 0;\n",
       "}\n",
       "\n",
       "/* Serial-specific style estimator block */\n",
       "\n",
       "#sk-container-id-2 div.sk-serial {\n",
       "  display: flex;\n",
       "  flex-direction: column;\n",
       "  align-items: center;\n",
       "  background-color: var(--sklearn-color-background);\n",
       "  padding-right: 1em;\n",
       "  padding-left: 1em;\n",
       "}\n",
       "\n",
       "\n",
       "/* Toggleable style: style used for estimator/Pipeline/ColumnTransformer box that is\n",
       "clickable and can be expanded/collapsed.\n",
       "- Pipeline and ColumnTransformer use this feature and define the default style\n",
       "- Estimators will overwrite some part of the style using the `sk-estimator` class\n",
       "*/\n",
       "\n",
       "/* Pipeline and ColumnTransformer style (default) */\n",
       "\n",
       "#sk-container-id-2 div.sk-toggleable {\n",
       "  /* Default theme specific background. It is overwritten whether we have a\n",
       "  specific estimator or a Pipeline/ColumnTransformer */\n",
       "  background-color: var(--sklearn-color-background);\n",
       "}\n",
       "\n",
       "/* Toggleable label */\n",
       "#sk-container-id-2 label.sk-toggleable__label {\n",
       "  cursor: pointer;\n",
       "  display: block;\n",
       "  width: 100%;\n",
       "  margin-bottom: 0;\n",
       "  padding: 0.5em;\n",
       "  box-sizing: border-box;\n",
       "  text-align: center;\n",
       "}\n",
       "\n",
       "#sk-container-id-2 label.sk-toggleable__label-arrow:before {\n",
       "  /* Arrow on the left of the label */\n",
       "  content: \"▸\";\n",
       "  float: left;\n",
       "  margin-right: 0.25em;\n",
       "  color: var(--sklearn-color-icon);\n",
       "}\n",
       "\n",
       "#sk-container-id-2 label.sk-toggleable__label-arrow:hover:before {\n",
       "  color: var(--sklearn-color-text);\n",
       "}\n",
       "\n",
       "/* Toggleable content - dropdown */\n",
       "\n",
       "#sk-container-id-2 div.sk-toggleable__content {\n",
       "  max-height: 0;\n",
       "  max-width: 0;\n",
       "  overflow: hidden;\n",
       "  text-align: left;\n",
       "  /* unfitted */\n",
       "  background-color: var(--sklearn-color-unfitted-level-0);\n",
       "}\n",
       "\n",
       "#sk-container-id-2 div.sk-toggleable__content.fitted {\n",
       "  /* fitted */\n",
       "  background-color: var(--sklearn-color-fitted-level-0);\n",
       "}\n",
       "\n",
       "#sk-container-id-2 div.sk-toggleable__content pre {\n",
       "  margin: 0.2em;\n",
       "  border-radius: 0.25em;\n",
       "  color: var(--sklearn-color-text);\n",
       "  /* unfitted */\n",
       "  background-color: var(--sklearn-color-unfitted-level-0);\n",
       "}\n",
       "\n",
       "#sk-container-id-2 div.sk-toggleable__content.fitted pre {\n",
       "  /* unfitted */\n",
       "  background-color: var(--sklearn-color-fitted-level-0);\n",
       "}\n",
       "\n",
       "#sk-container-id-2 input.sk-toggleable__control:checked~div.sk-toggleable__content {\n",
       "  /* Expand drop-down */\n",
       "  max-height: 200px;\n",
       "  max-width: 100%;\n",
       "  overflow: auto;\n",
       "}\n",
       "\n",
       "#sk-container-id-2 input.sk-toggleable__control:checked~label.sk-toggleable__label-arrow:before {\n",
       "  content: \"▾\";\n",
       "}\n",
       "\n",
       "/* Pipeline/ColumnTransformer-specific style */\n",
       "\n",
       "#sk-container-id-2 div.sk-label input.sk-toggleable__control:checked~label.sk-toggleable__label {\n",
       "  color: var(--sklearn-color-text);\n",
       "  background-color: var(--sklearn-color-unfitted-level-2);\n",
       "}\n",
       "\n",
       "#sk-container-id-2 div.sk-label.fitted input.sk-toggleable__control:checked~label.sk-toggleable__label {\n",
       "  background-color: var(--sklearn-color-fitted-level-2);\n",
       "}\n",
       "\n",
       "/* Estimator-specific style */\n",
       "\n",
       "/* Colorize estimator box */\n",
       "#sk-container-id-2 div.sk-estimator input.sk-toggleable__control:checked~label.sk-toggleable__label {\n",
       "  /* unfitted */\n",
       "  background-color: var(--sklearn-color-unfitted-level-2);\n",
       "}\n",
       "\n",
       "#sk-container-id-2 div.sk-estimator.fitted input.sk-toggleable__control:checked~label.sk-toggleable__label {\n",
       "  /* fitted */\n",
       "  background-color: var(--sklearn-color-fitted-level-2);\n",
       "}\n",
       "\n",
       "#sk-container-id-2 div.sk-label label.sk-toggleable__label,\n",
       "#sk-container-id-2 div.sk-label label {\n",
       "  /* The background is the default theme color */\n",
       "  color: var(--sklearn-color-text-on-default-background);\n",
       "}\n",
       "\n",
       "/* On hover, darken the color of the background */\n",
       "#sk-container-id-2 div.sk-label:hover label.sk-toggleable__label {\n",
       "  color: var(--sklearn-color-text);\n",
       "  background-color: var(--sklearn-color-unfitted-level-2);\n",
       "}\n",
       "\n",
       "/* Label box, darken color on hover, fitted */\n",
       "#sk-container-id-2 div.sk-label.fitted:hover label.sk-toggleable__label.fitted {\n",
       "  color: var(--sklearn-color-text);\n",
       "  background-color: var(--sklearn-color-fitted-level-2);\n",
       "}\n",
       "\n",
       "/* Estimator label */\n",
       "\n",
       "#sk-container-id-2 div.sk-label label {\n",
       "  font-family: monospace;\n",
       "  font-weight: bold;\n",
       "  display: inline-block;\n",
       "  line-height: 1.2em;\n",
       "}\n",
       "\n",
       "#sk-container-id-2 div.sk-label-container {\n",
       "  text-align: center;\n",
       "}\n",
       "\n",
       "/* Estimator-specific */\n",
       "#sk-container-id-2 div.sk-estimator {\n",
       "  font-family: monospace;\n",
       "  border: 1px dotted var(--sklearn-color-border-box);\n",
       "  border-radius: 0.25em;\n",
       "  box-sizing: border-box;\n",
       "  margin-bottom: 0.5em;\n",
       "  /* unfitted */\n",
       "  background-color: var(--sklearn-color-unfitted-level-0);\n",
       "}\n",
       "\n",
       "#sk-container-id-2 div.sk-estimator.fitted {\n",
       "  /* fitted */\n",
       "  background-color: var(--sklearn-color-fitted-level-0);\n",
       "}\n",
       "\n",
       "/* on hover */\n",
       "#sk-container-id-2 div.sk-estimator:hover {\n",
       "  /* unfitted */\n",
       "  background-color: var(--sklearn-color-unfitted-level-2);\n",
       "}\n",
       "\n",
       "#sk-container-id-2 div.sk-estimator.fitted:hover {\n",
       "  /* fitted */\n",
       "  background-color: var(--sklearn-color-fitted-level-2);\n",
       "}\n",
       "\n",
       "/* Specification for estimator info (e.g. \"i\" and \"?\") */\n",
       "\n",
       "/* Common style for \"i\" and \"?\" */\n",
       "\n",
       ".sk-estimator-doc-link,\n",
       "a:link.sk-estimator-doc-link,\n",
       "a:visited.sk-estimator-doc-link {\n",
       "  float: right;\n",
       "  font-size: smaller;\n",
       "  line-height: 1em;\n",
       "  font-family: monospace;\n",
       "  background-color: var(--sklearn-color-background);\n",
       "  border-radius: 1em;\n",
       "  height: 1em;\n",
       "  width: 1em;\n",
       "  text-decoration: none !important;\n",
       "  margin-left: 1ex;\n",
       "  /* unfitted */\n",
       "  border: var(--sklearn-color-unfitted-level-1) 1pt solid;\n",
       "  color: var(--sklearn-color-unfitted-level-1);\n",
       "}\n",
       "\n",
       ".sk-estimator-doc-link.fitted,\n",
       "a:link.sk-estimator-doc-link.fitted,\n",
       "a:visited.sk-estimator-doc-link.fitted {\n",
       "  /* fitted */\n",
       "  border: var(--sklearn-color-fitted-level-1) 1pt solid;\n",
       "  color: var(--sklearn-color-fitted-level-1);\n",
       "}\n",
       "\n",
       "/* On hover */\n",
       "div.sk-estimator:hover .sk-estimator-doc-link:hover,\n",
       ".sk-estimator-doc-link:hover,\n",
       "div.sk-label-container:hover .sk-estimator-doc-link:hover,\n",
       ".sk-estimator-doc-link:hover {\n",
       "  /* unfitted */\n",
       "  background-color: var(--sklearn-color-unfitted-level-3);\n",
       "  color: var(--sklearn-color-background);\n",
       "  text-decoration: none;\n",
       "}\n",
       "\n",
       "div.sk-estimator.fitted:hover .sk-estimator-doc-link.fitted:hover,\n",
       ".sk-estimator-doc-link.fitted:hover,\n",
       "div.sk-label-container:hover .sk-estimator-doc-link.fitted:hover,\n",
       ".sk-estimator-doc-link.fitted:hover {\n",
       "  /* fitted */\n",
       "  background-color: var(--sklearn-color-fitted-level-3);\n",
       "  color: var(--sklearn-color-background);\n",
       "  text-decoration: none;\n",
       "}\n",
       "\n",
       "/* Span, style for the box shown on hovering the info icon */\n",
       ".sk-estimator-doc-link span {\n",
       "  display: none;\n",
       "  z-index: 9999;\n",
       "  position: relative;\n",
       "  font-weight: normal;\n",
       "  right: .2ex;\n",
       "  padding: .5ex;\n",
       "  margin: .5ex;\n",
       "  width: min-content;\n",
       "  min-width: 20ex;\n",
       "  max-width: 50ex;\n",
       "  color: var(--sklearn-color-text);\n",
       "  box-shadow: 2pt 2pt 4pt #999;\n",
       "  /* unfitted */\n",
       "  background: var(--sklearn-color-unfitted-level-0);\n",
       "  border: .5pt solid var(--sklearn-color-unfitted-level-3);\n",
       "}\n",
       "\n",
       ".sk-estimator-doc-link.fitted span {\n",
       "  /* fitted */\n",
       "  background: var(--sklearn-color-fitted-level-0);\n",
       "  border: var(--sklearn-color-fitted-level-3);\n",
       "}\n",
       "\n",
       ".sk-estimator-doc-link:hover span {\n",
       "  display: block;\n",
       "}\n",
       "\n",
       "/* \"?\"-specific style due to the `<a>` HTML tag */\n",
       "\n",
       "#sk-container-id-2 a.estimator_doc_link {\n",
       "  float: right;\n",
       "  font-size: 1rem;\n",
       "  line-height: 1em;\n",
       "  font-family: monospace;\n",
       "  background-color: var(--sklearn-color-background);\n",
       "  border-radius: 1rem;\n",
       "  height: 1rem;\n",
       "  width: 1rem;\n",
       "  text-decoration: none;\n",
       "  /* unfitted */\n",
       "  color: var(--sklearn-color-unfitted-level-1);\n",
       "  border: var(--sklearn-color-unfitted-level-1) 1pt solid;\n",
       "}\n",
       "\n",
       "#sk-container-id-2 a.estimator_doc_link.fitted {\n",
       "  /* fitted */\n",
       "  border: var(--sklearn-color-fitted-level-1) 1pt solid;\n",
       "  color: var(--sklearn-color-fitted-level-1);\n",
       "}\n",
       "\n",
       "/* On hover */\n",
       "#sk-container-id-2 a.estimator_doc_link:hover {\n",
       "  /* unfitted */\n",
       "  background-color: var(--sklearn-color-unfitted-level-3);\n",
       "  color: var(--sklearn-color-background);\n",
       "  text-decoration: none;\n",
       "}\n",
       "\n",
       "#sk-container-id-2 a.estimator_doc_link.fitted:hover {\n",
       "  /* fitted */\n",
       "  background-color: var(--sklearn-color-fitted-level-3);\n",
       "}\n",
       "</style><div id=\"sk-container-id-2\" class=\"sk-top-container\"><div class=\"sk-text-repr-fallback\"><pre>XGBClassifier(base_score=None, booster=None, callbacks=None,\n",
       "              colsample_bylevel=None, colsample_bynode=None,\n",
       "              colsample_bytree=None, device=None, early_stopping_rounds=None,\n",
       "              enable_categorical=False, eval_metric=None, feature_types=None,\n",
       "              gamma=None, grow_policy=None, importance_type=None,\n",
       "              interaction_constraints=None, learning_rate=None, max_bin=None,\n",
       "              max_cat_threshold=None, max_cat_to_onehot=None,\n",
       "              max_delta_step=None, max_depth=None, max_leaves=None,\n",
       "              min_child_weight=None, missing=nan, monotone_constraints=None,\n",
       "              multi_strategy=None, n_estimators=None, n_jobs=None,\n",
       "              num_parallel_tree=None, random_state=None, ...)</pre><b>In a Jupyter environment, please rerun this cell to show the HTML representation or trust the notebook. <br />On GitHub, the HTML representation is unable to render, please try loading this page with nbviewer.org.</b></div><div class=\"sk-container\" hidden><div class=\"sk-item\"><div class=\"sk-estimator fitted sk-toggleable\"><input class=\"sk-toggleable__control sk-hidden--visually\" id=\"sk-estimator-id-2\" type=\"checkbox\" checked><label for=\"sk-estimator-id-2\" class=\"sk-toggleable__label fitted sk-toggleable__label-arrow fitted\">&nbsp;XGBClassifier<span class=\"sk-estimator-doc-link fitted\">i<span>Fitted</span></span></label><div class=\"sk-toggleable__content fitted\"><pre>XGBClassifier(base_score=None, booster=None, callbacks=None,\n",
       "              colsample_bylevel=None, colsample_bynode=None,\n",
       "              colsample_bytree=None, device=None, early_stopping_rounds=None,\n",
       "              enable_categorical=False, eval_metric=None, feature_types=None,\n",
       "              gamma=None, grow_policy=None, importance_type=None,\n",
       "              interaction_constraints=None, learning_rate=None, max_bin=None,\n",
       "              max_cat_threshold=None, max_cat_to_onehot=None,\n",
       "              max_delta_step=None, max_depth=None, max_leaves=None,\n",
       "              min_child_weight=None, missing=nan, monotone_constraints=None,\n",
       "              multi_strategy=None, n_estimators=None, n_jobs=None,\n",
       "              num_parallel_tree=None, random_state=None, ...)</pre></div> </div></div></div></div>"
      ],
      "text/plain": [
       "XGBClassifier(base_score=None, booster=None, callbacks=None,\n",
       "              colsample_bylevel=None, colsample_bynode=None,\n",
       "              colsample_bytree=None, device=None, early_stopping_rounds=None,\n",
       "              enable_categorical=False, eval_metric=None, feature_types=None,\n",
       "              gamma=None, grow_policy=None, importance_type=None,\n",
       "              interaction_constraints=None, learning_rate=None, max_bin=None,\n",
       "              max_cat_threshold=None, max_cat_to_onehot=None,\n",
       "              max_delta_step=None, max_depth=None, max_leaves=None,\n",
       "              min_child_weight=None, missing=nan, monotone_constraints=None,\n",
       "              multi_strategy=None, n_estimators=None, n_jobs=None,\n",
       "              num_parallel_tree=None, random_state=None, ...)"
      ]
     },
     "execution_count": 44,
     "metadata": {},
     "output_type": "execute_result"
    }
   ],
   "source": [
    "xgb = XGBClassifier()\n",
    "\n",
    "xgb.fit(X_lin_train, y_lin_train)"
   ]
  },
  {
   "cell_type": "code",
   "execution_count": 45,
   "id": "2aa5e5d6-7747-4587-8086-c4a33cb674f3",
   "metadata": {},
   "outputs": [],
   "source": [
    "y_lin_pred = xgb.predict(X_lin_val)"
   ]
  },
  {
   "cell_type": "code",
   "execution_count": 46,
   "id": "262d8cf3-90e7-4d91-8e33-14d9244f69bd",
   "metadata": {},
   "outputs": [
    {
     "data": {
      "image/png": "[encoded data removed]",
      "text/plain": [
       "<Figure size 640x480 with 2 Axes>"
      ]
     },
     "metadata": {},
     "output_type": "display_data"
    }
   ],
   "source": [
    "cm = pd.DataFrame(confusion_matrix(y_lin_val, y_lin_pred), index=SENTIMENT_MAP.values(), columns=SENTIMENT_MAP.values())\n",
    "sns.heatmap(cm, annot=True)\n",
    "plt.xlabel(\"Predicted\")\n",
    "plt.ylabel(\"Actual\")\n",
    "plt.show()"
   ]
  },
  {
   "cell_type": "code",
   "execution_count": 47,
   "id": "b4a9c3a3-75b2-4533-996e-6f24eedfdad4",
   "metadata": {},
   "outputs": [
    {
     "data": {
      "text/plain": [
       "0.7462544265867611"
      ]
     },
     "execution_count": 47,
     "metadata": {},
     "output_type": "execute_result"
    }
   ],
   "source": [
    "accuracy_score(y_lin_val, y_lin_pred)"
   ]
  },
  {
   "cell_type": "markdown",
   "id": "36e36aad-371b-4b75-b918-5096005bf266",
   "metadata": {},
   "source": [
    "## Linear Model"
   ]
  },
  {
   "cell_type": "code",
   "execution_count": 32,
   "id": "aad67e2f-6b09-445c-a8b0-0e999787b73d",
   "metadata": {},
   "outputs": [],
   "source": [
    "import torch\n",
    "from torch.utils.data import Dataset, DataLoader"
   ]
  },
  {
   "cell_type": "code",
   "execution_count": 33,
   "id": "6630df3e-00e9-4995-a9b9-92a6205c781c",
   "metadata": {},
   "outputs": [],
   "source": [
    "np.random.seed(3407)\n",
    "torch.manual_seed(3407)\n",
    "torch_device_seed(3407)"
   ]
  },
  {
   "cell_type": "code",
   "execution_count": 34,
   "id": "eda69a5c-fd74-4c1f-8023-e431d0c24cb6",
   "metadata": {},
   "outputs": [],
   "source": [
    "from collections import Counter"
   ]
  },
  {
   "cell_type": "code",
   "execution_count": 35,
   "id": "88ee5344-5ab3-46bd-b0b2-0baabc2fc591",
   "metadata": {},
   "outputs": [],
   "source": [
    "selected_column = \"Clean_Text\""
   ]
  },
  {
   "cell_type": "markdown",
   "id": "1f53d069-1e4a-4ce2-90ef-a8ce8f108dd7",
   "metadata": {},
   "source": [
    "use glove 6B vocab and 100d embedding"
   ]
  },
  {
   "cell_type": "code",
   "execution_count": 36,
   "id": "f911dcb1-f3f0-48de-8d64-2e52fd06723c",
   "metadata": {},
   "outputs": [
    {
     "data": {
      "text/plain": [
       "400000"
      ]
     },
     "execution_count": 36,
     "metadata": {},
     "output_type": "execute_result"
    }
   ],
   "source": [
    "def load_glove_embeddings(glove_file_path):\n",
    "    embeddings_index = {}\n",
    "    with open(glove_file_path, 'r', encoding='utf-8') as f:\n",
    "        for line in f:\n",
    "            values = line.split()\n",
    "            word = values[0]\n",
    "            vector = np.asarray(values[1:], dtype='float32')\n",
    "            embeddings_index[word] = vector\n",
    "    return embeddings_index\n",
    "\n",
    "glove_file_path = \"models/glove.6b.100d.txt\"\n",
    "embeddings_index = load_glove_embeddings(glove_file_path)\n",
    "\n",
    "len(embeddings_index)"
   ]
  },
  {
   "cell_type": "code",
   "execution_count": 47,
   "id": "ea8987c3-319e-4e9d-b801-20677274f448",
   "metadata": {},
   "outputs": [],
   "source": [
    "vocab2index = {\"\": 0, \"UNK\": 1}\n",
    "vocab2index.update({vocab: i+2 for i, vocab in enumerate(embeddings_index.keys())})"
   ]
  },
  {
   "cell_type": "code",
   "execution_count": 50,
   "id": "6027c5c9-50fc-4677-a76c-2f9620d31a1f",
   "metadata": {
    "scrolled": true
   },
   "outputs": [
    {
     "data": {
      "text/plain": [
       "400002"
      ]
     },
     "execution_count": 50,
     "metadata": {},
     "output_type": "execute_result"
    }
   ],
   "source": [
    "vocab_size = len(vocab2index)\n",
    "vocab_size"
   ]
  },
  {
   "cell_type": "code",
   "execution_count": 52,
   "id": "680c8a58-5dc4-45ee-b092-446b2e83d07e",
   "metadata": {},
   "outputs": [],
   "source": [
    "def encode_sentence(text, max_len=128):\n",
    "    encoded = np.zeros(max_len, dtype=int)\n",
    "    enc1 = np.array([vocab2index.get(word, vocab2index[\"UNK\"]) for word in text])\n",
    "    length = min(max_len, len(enc1)) # if above max len, cut the rest\n",
    "    encoded[:length] = enc1[:length]\n",
    "\n",
    "    return encoded"
   ]
  },
  {
   "cell_type": "code",
   "execution_count": 53,
   "id": "5779b828-fe42-401e-9566-5bd075571de5",
   "metadata": {},
   "outputs": [
    {
     "data": {
      "text/plain": [
       "count    1.394976e+06\n",
       "mean     9.389528e+00\n",
       "std      4.063388e+00\n",
       "min      4.000000e+00\n",
       "25%      6.000000e+00\n",
       "50%      9.000000e+00\n",
       "75%      1.200000e+01\n",
       "max      6.800000e+01\n",
       "Name: Clean_Text, dtype: float64"
      ]
     },
     "execution_count": 53,
     "metadata": {},
     "output_type": "execute_result"
    }
   ],
   "source": [
    "df[\"Clean_Text\"].apply(len).describe()"
   ]
  },
  {
   "cell_type": "code",
   "execution_count": 54,
   "id": "879c7aa9-d41f-49a6-b699-04bd345765e4",
   "metadata": {},
   "outputs": [],
   "source": [
    "MAX_ENCODED_LEN = 70"
   ]
  },
  {
   "cell_type": "code",
   "execution_count": 55,
   "id": "18b86361-337b-4255-9f34-8b443d4062c6",
   "metadata": {},
   "outputs": [
    {
     "data": {
      "application/vnd.jupyter.widget-view+json": {
       "model_id": "0dae630d07ca490eb97ae2e3df19c554",
       "version_major": 2,
       "version_minor": 0
      },
      "text/plain": [
       "  0%|          | 0/1394976 [00:00<?, ?it/s]"
      ]
     },
     "metadata": {},
     "output_type": "display_data"
    },
    {
     "name": "stderr",
     "output_type": "stream",
     "text": [
      "/var/folders/d_/43yhfw3n2wx5mg7dg0cxjld00000gn/T/ipykernel_71363/853000188.py:1: SettingWithCopyWarning: \n",
      "A value is trying to be set on a copy of a slice from a DataFrame.\n",
      "Try using .loc[row_indexer,col_indexer] = value instead\n",
      "\n",
      "See the caveats in the documentation: https://pandas.pydata.org/pandas-docs/stable/user_guide/indexing.html#returning-a-view-versus-a-copy\n",
      "  df[\"Clean_Text_Encoded\"] = df[\"Clean_Text\"].progress_apply(lambda x: np.array(encode_sentence(x, max_len=MAX_ENCODED_LEN)))\n"
     ]
    },
    {
     "data": {
      "text/html": [
       "<div>\n",
       "<style scoped>\n",
       "    .dataframe tbody tr th:only-of-type {\n",
       "        vertical-align: middle;\n",
       "    }\n",
       "\n",
       "    .dataframe tbody tr th {\n",
       "        vertical-align: top;\n",
       "    }\n",
       "\n",
       "    .dataframe thead th {\n",
       "        text-align: right;\n",
       "    }\n",
       "</style>\n",
       "<table border=\"1\" class=\"dataframe\">\n",
       "  <thead>\n",
       "    <tr style=\"text-align: right;\">\n",
       "      <th></th>\n",
       "      <th>Sentiment</th>\n",
       "      <th>SentimentText</th>\n",
       "      <th>Clean_Text</th>\n",
       "      <th>Clean_Text_detok</th>\n",
       "      <th>Clean_Text_Encoded</th>\n",
       "    </tr>\n",
       "  </thead>\n",
       "  <tbody>\n",
       "    <tr>\n",
       "      <th>1</th>\n",
       "      <td>0</td>\n",
       "      <td>I missed the New Moon trail...</td>\n",
       "      <td>[I, missed, New, Moon, trailer]</td>\n",
       "      <td>I missed New Moon trailer</td>\n",
       "      <td>[1, 2134, 1, 1, 8720, 0, 0, 0, 0, 0, 0, 0, 0, ...</td>\n",
       "    </tr>\n",
       "    <tr>\n",
       "      <th>2</th>\n",
       "      <td>1</td>\n",
       "      <td>omg its already 7:30 :O</td>\n",
       "      <td>[omg, already, 730, O]</td>\n",
       "      <td>omg already 730 O</td>\n",
       "      <td>[78552, 413, 32286, 1, 0, 0, 0, 0, 0, 0, 0, 0,...</td>\n",
       "    </tr>\n",
       "    <tr>\n",
       "      <th>3</th>\n",
       "      <td>0</td>\n",
       "      <td>.. Omgaga. Im sooo  im gunna CRy. I'...</td>\n",
       "      <td>[Omgaga, Im, sooo, im, gunna, CRy, Ive, dentis...</td>\n",
       "      <td>Omgaga Im sooo im gunna CRy Ive dentist since ...</td>\n",
       "      <td>[1, 1, 150972, 14665, 1, 1, 1, 17552, 110, 420...</td>\n",
       "    </tr>\n",
       "    <tr>\n",
       "      <th>4</th>\n",
       "      <td>0</td>\n",
       "      <td>i think mi bf is cheating on me!!!   ...</td>\n",
       "      <td>[think, mi, bf, cheating, TT]</td>\n",
       "      <td>think mi bf cheating TT</td>\n",
       "      <td>[271, 8433, 34142, 12480, 1, 0, 0, 0, 0, 0, 0,...</td>\n",
       "    </tr>\n",
       "    <tr>\n",
       "      <th>7</th>\n",
       "      <td>0</td>\n",
       "      <td>Sunny Again        Work Tomorrow  :-|  ...</td>\n",
       "      <td>[Sunny, Again, Work, Tomorrow, TV, Tonight]</td>\n",
       "      <td>Sunny Again Work Tomorrow TV Tonight</td>\n",
       "      <td>[1, 1, 1, 1, 1, 1, 0, 0, 0, 0, 0, 0, 0, 0, 0, ...</td>\n",
       "    </tr>\n",
       "  </tbody>\n",
       "</table>\n",
       "</div>"
      ],
      "text/plain": [
       "   Sentiment                                      SentimentText  \\\n",
       "1          0                     I missed the New Moon trail...   \n",
       "2          1                            omg its already 7:30 :O   \n",
       "3          0            .. Omgaga. Im sooo  im gunna CRy. I'...   \n",
       "4          0           i think mi bf is cheating on me!!!   ...   \n",
       "7          0         Sunny Again        Work Tomorrow  :-|  ...   \n",
       "\n",
       "                                          Clean_Text  \\\n",
       "1                    [I, missed, New, Moon, trailer]   \n",
       "2                             [omg, already, 730, O]   \n",
       "3  [Omgaga, Im, sooo, im, gunna, CRy, Ive, dentis...   \n",
       "4                      [think, mi, bf, cheating, TT]   \n",
       "7        [Sunny, Again, Work, Tomorrow, TV, Tonight]   \n",
       "\n",
       "                                    Clean_Text_detok  \\\n",
       "1                          I missed New Moon trailer   \n",
       "2                                  omg already 730 O   \n",
       "3  Omgaga Im sooo im gunna CRy Ive dentist since ...   \n",
       "4                            think mi bf cheating TT   \n",
       "7               Sunny Again Work Tomorrow TV Tonight   \n",
       "\n",
       "                                  Clean_Text_Encoded  \n",
       "1  [1, 2134, 1, 1, 8720, 0, 0, 0, 0, 0, 0, 0, 0, ...  \n",
       "2  [78552, 413, 32286, 1, 0, 0, 0, 0, 0, 0, 0, 0,...  \n",
       "3  [1, 1, 150972, 14665, 1, 1, 1, 17552, 110, 420...  \n",
       "4  [271, 8433, 34142, 12480, 1, 0, 0, 0, 0, 0, 0,...  \n",
       "7  [1, 1, 1, 1, 1, 1, 0, 0, 0, 0, 0, 0, 0, 0, 0, ...  "
      ]
     },
     "execution_count": 55,
     "metadata": {},
     "output_type": "execute_result"
    }
   ],
   "source": [
    "df[\"Clean_Text_Encoded\"] = df[\"Clean_Text\"].progress_apply(lambda x: np.array(encode_sentence(x, max_len=MAX_ENCODED_LEN)))\n",
    "df.head()"
   ]
  },
  {
   "cell_type": "code",
   "execution_count": 91,
   "id": "4285e961-07ea-4307-a765-8d6ca0ad1b41",
   "metadata": {},
   "outputs": [],
   "source": [
    "X_train, X_val, y_train, y_val = train_test_split(df[\"Clean_Text_Encoded\"], y, random_state=3407, test_size=0.05, stratify=y)"
   ]
  },
  {
   "cell_type": "markdown",
   "id": "6825af30-f510-48fd-aac4-675a0be545bc",
   "metadata": {},
   "source": [
    "^ This way, no need to embed the text anymore"
   ]
  },
  {
   "cell_type": "code",
   "execution_count": 92,
   "id": "9ba57c2f-c0f5-4803-8176-65c75db7afc5",
   "metadata": {},
   "outputs": [],
   "source": [
    "class TextEmotionDataset(Dataset):\n",
    "    def __init__(self, data, labels=None):\n",
    "        self.texts = data.to_numpy() # the assumption is already vocab id\n",
    "        self.labels = labels.to_list()\n",
    "\n",
    "    \n",
    "    def __len__(self):\n",
    "        return len(self.texts)\n",
    "\n",
    "\n",
    "    def __getitem__(self, index):\n",
    "        text = self.texts[index]\n",
    "        label = torch.tensor(self.labels[index], dtype=torch.float)\n",
    "\n",
    "        return text, label"
   ]
  },
  {
   "cell_type": "code",
   "execution_count": 93,
   "id": "95b7118d-e9fa-4fe3-9bfe-9c11db4cecc6",
   "metadata": {
    "scrolled": true
   },
   "outputs": [],
   "source": [
    "train_ds = TextEmotionDataset(X_train, y_train)\n",
    "train_loader = DataLoader(train_ds, batch_size=32, shuffle=True)\n",
    "\n",
    "val_ds = TextEmotionDataset(X_val, y_val)\n",
    "val_loader = DataLoader(val_ds, batch_size=32, shuffle=False)"
   ]
  },
  {
   "cell_type": "code",
   "execution_count": 94,
   "id": "bbb20e41-4411-40ad-88ea-d293d7b8b622",
   "metadata": {
    "scrolled": true
   },
   "outputs": [
    {
     "name": "stdout",
     "output_type": "stream",
     "text": [
      "torch.Size([32, 70])\n"
     ]
    }
   ],
   "source": [
    "for x in val_loader:\n",
    "    print(x[0].shape)\n",
    "    break"
   ]
  },
  {
   "cell_type": "code",
   "execution_count": 95,
   "id": "9a12262b-869b-4b4b-ae8b-ceed23165115",
   "metadata": {},
   "outputs": [
    {
     "data": {
      "text/plain": [
       "(100,)"
      ]
     },
     "execution_count": 95,
     "metadata": {},
     "output_type": "execute_result"
    }
   ],
   "source": [
    "embeddings_index[\".\"].shape"
   ]
  },
  {
   "cell_type": "code",
   "execution_count": 37,
   "id": "82e75e37-8a1a-491c-8ea0-8070a5b4b083",
   "metadata": {},
   "outputs": [
    {
     "data": {
      "text/plain": [
       "(100,)"
      ]
     },
     "execution_count": 37,
     "metadata": {},
     "output_type": "execute_result"
    }
   ],
   "source": [
    "UNK_VECTOR = np.mean(np.array(list(embeddings_index.values())), axis=0)\n",
    "UNK_VECTOR.shape"
   ]
  },
  {
   "cell_type": "code",
   "execution_count": 102,
   "id": "ec5613dc-03e6-4a7b-8020-96ff5c9b0280",
   "metadata": {},
   "outputs": [
    {
     "data": {
      "application/vnd.jupyter.widget-view+json": {
       "model_id": "4469505f308847ada319be45aedaed0e",
       "version_major": 2,
       "version_minor": 0
      },
      "text/plain": [
       "  0%|          | 0/400000 [00:00<?, ?it/s]"
      ]
     },
     "metadata": {},
     "output_type": "display_data"
    },
    {
     "data": {
      "text/plain": [
       "(400002, 100)"
      ]
     },
     "execution_count": 102,
     "metadata": {},
     "output_type": "execute_result"
    }
   ],
   "source": [
    "pretrained_emb = np.zeros((vocab_size, 100))\n",
    "# pretrained embedding for padding is 0\n",
    "# pretrained embedding for unk is UNK_VECTOR\n",
    "pretrained_emb[1] = UNK_VECTOR\n",
    "\n",
    "for i, emb_key in tqdm(enumerate(embeddings_index), total=len(embeddings_index)):\n",
    "    pretrained_emb[i+2] = embeddings_index[emb_key]\n",
    "\n",
    "pretrained_emb.shape"
   ]
  },
  {
   "cell_type": "code",
   "execution_count": 103,
   "id": "feb3b5d7-6c73-459c-a939-dd7e166e3e95",
   "metadata": {},
   "outputs": [],
   "source": [
    "pretrained_emb = torch.tensor(pretrained_emb, dtype=torch.float32)"
   ]
  },
  {
   "cell_type": "code",
   "execution_count": 104,
   "id": "70109bc0-4beb-49c8-b047-7921062ad085",
   "metadata": {},
   "outputs": [],
   "source": [
    "class SimpleLinearModel(nn.Module):\n",
    "    def __init__(self, vocab_size, input_size, output_size, embedding_matrix=None, freeze_embeddings=True):\n",
    "        super(SimpleLinearModel, self).__init__()\n",
    "\n",
    "        self.vocab_size = vocab_size\n",
    "        self.embedding_dim = 100\n",
    "\n",
    "        self.embedding = nn.Embedding(vocab_size, embedding_dim=self.embedding_dim)\n",
    "        if embedding_matrix is not None:\n",
    "            self.embedding.weight = nn.Parameter(embedding_matrix)\n",
    "\n",
    "        if freeze_embeddings:\n",
    "            self.embedding.weight.requires_grad = False\n",
    "\n",
    "        self.linear_size = input_size * self.embedding_dim\n",
    "        self.linear1 = nn.Linear(self.linear_size, 512)\n",
    "        self.linear2 = nn.Linear(512, 128)\n",
    "        self.linear3 = nn.Linear(128, 64)\n",
    "        self.dropout1 = nn.Dropout(0.2)\n",
    "        self.linear4 = nn.Linear(64, output_size)\n",
    "\n",
    "\n",
    "    def forward(self, inputs):\n",
    "        # we assume the inputs already in embedding dimension\n",
    "        output = self.embedding(inputs).view(-1, self.linear_size)\n",
    "        output = F.relu(self.linear1(output))\n",
    "        output = F.relu(self.linear2(output))\n",
    "        output = F.relu(self.linear3(output))\n",
    "        output = self.dropout1(output)\n",
    "        output = self.linear4(output)\n",
    "\n",
    "        return output"
   ]
  },
  {
   "cell_type": "code",
   "execution_count": 105,
   "id": "b27bf42c-aa34-4da5-a231-5b74834882b5",
   "metadata": {},
   "outputs": [],
   "source": [
    "linear_model = SimpleLinearModel(\n",
    "    vocab_size=vocab_size,\n",
    "    input_size=MAX_ENCODED_LEN,\n",
    "    output_size=1,\n",
    "    embedding_matrix=pretrained_emb,\n",
    "    freeze_embeddings=True\n",
    ").to(device)\n",
    "criterion = nn.BCEWithLogitsLoss()\n",
    "optimizer = optim.Adam(linear_model.parameters(), lr=0.001, weight_decay=1e-5)"
   ]
  },
  {
   "cell_type": "code",
   "execution_count": 120,
   "id": "a5840e21-db4f-45db-bb1c-091c00b80c78",
   "metadata": {},
   "outputs": [
    {
     "data": {
      "text/plain": [
       "SimpleLinearModel(\n",
       "  (embedding): Embedding(400002, 100)\n",
       "  (linear1): Linear(in_features=7000, out_features=512, bias=True)\n",
       "  (linear2): Linear(in_features=512, out_features=128, bias=True)\n",
       "  (linear3): Linear(in_features=128, out_features=64, bias=True)\n",
       "  (dropout1): Dropout(p=0.2, inplace=False)\n",
       "  (linear4): Linear(in_features=64, out_features=1, bias=True)\n",
       ")"
      ]
     },
     "execution_count": 120,
     "metadata": {},
     "output_type": "execute_result"
    }
   ],
   "source": [
    "linear_model"
   ]
  },
  {
   "cell_type": "code",
   "execution_count": 106,
   "id": "1b4c81bc-677f-47ae-8683-cacf1fb112d8",
   "metadata": {},
   "outputs": [],
   "source": [
    "EPOCHS = 8"
   ]
  },
  {
   "cell_type": "code",
   "execution_count": 107,
   "id": "ebd3f2ea-a46c-49b8-89c3-5be51991d28e",
   "metadata": {},
   "outputs": [],
   "source": [
    "def fit(model, criterion, optimizer, train_loader, val_loader, epochs=EPOCHS):\n",
    "    train_accuracies = []\n",
    "    val_accuracies = []\n",
    "    train_losses = []\n",
    "    val_losses = []\n",
    "\n",
    "    for epoch in range(epochs):  # Loop over the dataset multiple times\n",
    "        running_loss = 0.0\n",
    "        total = 0\n",
    "        correct = 0\n",
    "        model.train()\n",
    "        for inputs, labels in train_loader:\n",
    "            inputs = inputs.to(device)\n",
    "            labels = labels.to(device)\n",
    "\n",
    "            optimizer.zero_grad()\n",
    "    \n",
    "            outputs = model(inputs)\n",
    "            outputs = outputs.squeeze(-1)\n",
    "            loss = criterion(outputs, labels)\n",
    "            loss.backward()\n",
    "            optimizer.step()\n",
    "    \n",
    "            running_loss += loss.item() \n",
    "\n",
    "            predicted = torch.round(F.sigmoid(outputs))\n",
    "            total += labels.size(0)\n",
    "            correct += (predicted == labels).sum().item()\n",
    "    \n",
    "        # get train loss and accuracy\n",
    "        train_loss = running_loss / len(train_loader.dataset)\n",
    "        train_accuracy = correct / total\n",
    "        train_losses.append(train_loss)\n",
    "        train_accuracies.append(train_accuracy)\n",
    "    \n",
    "        # get test loss and accuracy\n",
    "        val_loss = 0.0\n",
    "        val_correct = 0\n",
    "        val_total = 0\n",
    "        with torch.no_grad():\n",
    "            model.eval()\n",
    "            for data in val_loader:\n",
    "                inputs, labels = data\n",
    "                inputs = inputs.to(device)\n",
    "                labels = labels.to(device)\n",
    "\n",
    "                outputs = model(inputs)\n",
    "                outputs = outputs.squeeze(-1)\n",
    "                loss = criterion(outputs, labels)\n",
    "                val_loss += loss.item()\n",
    "\n",
    "                predicted = torch.round(F.sigmoid(outputs))\n",
    "                val_total += labels.size(0)\n",
    "                val_correct += (predicted == labels).sum().item()\n",
    "\n",
    "        val_loss /= len(val_loader)\n",
    "        val_accuracy = val_correct / val_total\n",
    "        val_losses.append(val_loss)\n",
    "        val_accuracies.append(val_accuracy)\n",
    "\n",
    "        print(f\"Epoch {epoch}: train_loss: {train_loss:.4f}; train_accuracy: {train_accuracy:.4f}; val_loss: {val_loss:.4f}; val_accuracy: {val_accuracy:.4f}\")\n",
    "\n",
    "    return {\n",
    "        \"train_loss\": train_losses,\n",
    "        \"train_accuracy\": train_accuracies,\n",
    "        \"val_loss\": val_losses,\n",
    "        \"val_accuracy\": val_accuracies\n",
    "    }"
   ]
  },
  {
   "cell_type": "code",
   "execution_count": 108,
   "id": "9acf86f2-0e5d-42be-8583-158b6efd65a7",
   "metadata": {},
   "outputs": [],
   "source": [
    "clear_device_cache()"
   ]
  },
  {
   "cell_type": "code",
   "execution_count": 109,
   "id": "17b1c970-c89f-4709-91c1-ff692608f310",
   "metadata": {},
   "outputs": [
    {
     "name": "stdout",
     "output_type": "stream",
     "text": [
      "Epoch 0: train_loss: 0.0179; train_accuracy: 0.7009; val_loss: 0.5538; val_accuracy: 0.7150\n",
      "Epoch 1: train_loss: 0.0172; train_accuracy: 0.7196; val_loss: 0.5489; val_accuracy: 0.7191\n"
     ]
    },
    {
     "ename": "KeyboardInterrupt",
     "evalue": "",
     "output_type": "error",
     "traceback": [
      "\u001b[0;31m---------------------------------------------------------------------------\u001b[0m",
      "\u001b[0;31mKeyboardInterrupt\u001b[0m                         Traceback (most recent call last)",
      "Cell \u001b[0;32mIn[109], line 1\u001b[0m\n\u001b[0;32m----> 1\u001b[0m linear_model_result \u001b[38;5;241m=\u001b[39m \u001b[43mfit\u001b[49m\u001b[43m(\u001b[49m\u001b[43mlinear_model\u001b[49m\u001b[43m,\u001b[49m\u001b[43m \u001b[49m\u001b[43mcriterion\u001b[49m\u001b[43m,\u001b[49m\u001b[43m \u001b[49m\u001b[43moptimizer\u001b[49m\u001b[43m,\u001b[49m\u001b[43m \u001b[49m\u001b[43mtrain_loader\u001b[49m\u001b[43m,\u001b[49m\u001b[43m \u001b[49m\u001b[43mval_loader\u001b[49m\u001b[43m,\u001b[49m\u001b[43m \u001b[49m\u001b[43mepochs\u001b[49m\u001b[38;5;241;43m=\u001b[39;49m\u001b[43mEPOCHS\u001b[49m\u001b[43m,\u001b[49m\u001b[43m \u001b[49m\u001b[43mfloat_input\u001b[49m\u001b[38;5;241;43m=\u001b[39;49m\u001b[38;5;28;43;01mFalse\u001b[39;49;00m\u001b[43m)\u001b[49m\n",
      "Cell \u001b[0;32mIn[107], line 26\u001b[0m, in \u001b[0;36mfit\u001b[0;34m(model, criterion, optimizer, train_loader, val_loader, epochs, float_input)\u001b[0m\n\u001b[1;32m     23\u001b[0m loss\u001b[38;5;241m.\u001b[39mbackward()\n\u001b[1;32m     24\u001b[0m optimizer\u001b[38;5;241m.\u001b[39mstep()\n\u001b[0;32m---> 26\u001b[0m running_loss \u001b[38;5;241m+\u001b[39m\u001b[38;5;241m=\u001b[39m \u001b[43mloss\u001b[49m\u001b[38;5;241;43m.\u001b[39;49m\u001b[43mitem\u001b[49m\u001b[43m(\u001b[49m\u001b[43m)\u001b[49m \n\u001b[1;32m     28\u001b[0m predicted \u001b[38;5;241m=\u001b[39m torch\u001b[38;5;241m.\u001b[39mround(F\u001b[38;5;241m.\u001b[39msigmoid(outputs))\n\u001b[1;32m     29\u001b[0m total \u001b[38;5;241m+\u001b[39m\u001b[38;5;241m=\u001b[39m labels\u001b[38;5;241m.\u001b[39msize(\u001b[38;5;241m0\u001b[39m)\n",
      "\u001b[0;31mKeyboardInterrupt\u001b[0m: "
     ]
    }
   ],
   "source": [
    "linear_model_result = fit(linear_model, criterion, optimizer, train_loader, val_loader, epochs=EPOCHS)"
   ]
  },
  {
   "cell_type": "code",
   "execution_count": null,
   "id": "25fea98d-65f0-42cc-892c-d620aadd27cd",
   "metadata": {},
   "outputs": [],
   "source": [
    "plt.figure(figsize=(15, 7))\n",
    "plt.subplot(1, 2, 1)\n",
    "\n",
    "plt.plot(linear_model_result[\"train_accuracy\"], label=\"train_accuracy\")\n",
    "plt.plot(linear_model_result[\"val_accuracy\"], label=\"val_accuracy\")\n",
    "plt.xlabel(\"Epochs\")\n",
    "plt.ylabel(\"Accuracy\")\n",
    "plt.legend()\n",
    "\n",
    "plt.subplot(1, 2, 2)\n",
    "plt.plot(linear_model_result[\"train_loss\"], label=\"train_loss\")\n",
    "plt.plot(linear_model_result[\"val_loss\"], label=\"val_loss\")\n",
    "plt.xlabel(\"Epochs\")\n",
    "plt.ylabel(\"Loss\")\n",
    "plt.legend()"
   ]
  },
  {
   "cell_type": "code",
   "execution_count": null,
   "id": "e02fec3b-4d7c-4568-b8ba-4451b4aae287",
   "metadata": {},
   "outputs": [],
   "source": [
    "PATH = f\"models/torch_text_linear_model_{datetime.datetime.now().strftime('%Y.%m.%d.%H.%M.%S')}.pth\"\n",
    "print(PATH)\n",
    "\n",
    "# save model\n",
    "torch.save(linear_model.state_dict(), PATH)"
   ]
  },
  {
   "cell_type": "markdown",
   "id": "b0956b9d-1cb6-43ba-bedd-fd620b522bb4",
   "metadata": {},
   "source": [
    "## Recurrent Model"
   ]
  },
  {
   "cell_type": "code",
   "execution_count": 112,
   "id": "835ccdc5-dc51-4011-b4c9-df57912b9c29",
   "metadata": {},
   "outputs": [],
   "source": [
    "class RecurrentModel(nn.Module):\n",
    "    def __init__(self, vocab_size, input_size, output_size, embedding_matrix=None, freeze_embeddings=True):\n",
    "        super(RecurrentModel, self).__init__()\n",
    "\n",
    "        self.vocab_size = vocab_size\n",
    "        self.embedding_dim = 100\n",
    "\n",
    "        self.embedding = nn.Embedding(vocab_size, embedding_dim=self.embedding_dim)\n",
    "        if embedding_matrix is not None:\n",
    "            self.embedding.weight = nn.Parameter(embedding_matrix)\n",
    "\n",
    "        if freeze_embeddings:\n",
    "            self.embedding.weight.requires_grad = False\n",
    "\n",
    "        self.lstm1 = nn.LSTM(self.embedding_dim, 256, batch_first=True, num_layers=2, dropout=0.1)\n",
    "\n",
    "        self.linear1 = nn.Linear(256, 128)\n",
    "        self.linear2 = nn.Linear(128, 64)\n",
    "        self.dropout1 = nn.Dropout(0.2)\n",
    "        self.linear3 = nn.Linear(64, output_size)\n",
    "\n",
    "\n",
    "    def forward(self, inputs):\n",
    "        # we assume the inputs already in embedding dimension\n",
    "        output = self.embedding(inputs)\n",
    "        _, (hidden, _) = self.lstm1(output)\n",
    "        output = F.relu(self.linear1(hidden[-1])) # last hidden layer\n",
    "        output = F.relu(self.linear2(output))\n",
    "        output = self.dropout1(output)\n",
    "        output = self.linear3(output)\n",
    "\n",
    "        return output"
   ]
  },
  {
   "cell_type": "code",
   "execution_count": 113,
   "id": "f25d76e6-6d4d-4904-a513-dcd00de048c6",
   "metadata": {},
   "outputs": [],
   "source": [
    "rnn_model = RecurrentModel(\n",
    "    vocab_size=vocab_size,\n",
    "    input_size=MAX_ENCODED_LEN,\n",
    "    output_size=1,\n",
    "    embedding_matrix=pretrained_emb,\n",
    "    freeze_embeddings=True\n",
    ").to(device)\n",
    "criterion = nn.BCEWithLogitsLoss()\n",
    "optimizer = optim.Adam(rnn_model.parameters(), lr=0.001, weight_decay=1e-5)"
   ]
  },
  {
   "cell_type": "code",
   "execution_count": 114,
   "id": "e1550017-2899-4a83-a50b-f2ad4baeaea6",
   "metadata": {},
   "outputs": [
    {
     "data": {
      "text/plain": [
       "RecurrentModel(\n",
       "  (embedding): Embedding(400002, 100)\n",
       "  (lstm1): LSTM(100, 256, num_layers=2, batch_first=True, dropout=0.1)\n",
       "  (linear1): Linear(in_features=256, out_features=128, bias=True)\n",
       "  (linear2): Linear(in_features=128, out_features=64, bias=True)\n",
       "  (dropout1): Dropout(p=0.2, inplace=False)\n",
       "  (linear3): Linear(in_features=64, out_features=1, bias=True)\n",
       ")"
      ]
     },
     "execution_count": 114,
     "metadata": {},
     "output_type": "execute_result"
    }
   ],
   "source": [
    "rnn_model"
   ]
  },
  {
   "cell_type": "code",
   "execution_count": 115,
   "id": "fd74c0df-099f-4cba-8714-697af63edacc",
   "metadata": {},
   "outputs": [
    {
     "name": "stdout",
     "output_type": "stream",
     "text": [
      "Epoch 0: train_loss: 0.0217; train_accuracy: 0.5023; val_loss: 0.6932; val_accuracy: 0.5035\n"
     ]
    },
    {
     "ename": "KeyboardInterrupt",
     "evalue": "",
     "output_type": "error",
     "traceback": [
      "\u001b[0;31m---------------------------------------------------------------------------\u001b[0m",
      "\u001b[0;31mKeyboardInterrupt\u001b[0m                         Traceback (most recent call last)",
      "Cell \u001b[0;32mIn[115], line 1\u001b[0m\n\u001b[0;32m----> 1\u001b[0m rnn_model_result \u001b[38;5;241m=\u001b[39m \u001b[43mfit\u001b[49m\u001b[43m(\u001b[49m\u001b[43mrnn_model\u001b[49m\u001b[43m,\u001b[49m\u001b[43m \u001b[49m\u001b[43mcriterion\u001b[49m\u001b[43m,\u001b[49m\u001b[43m \u001b[49m\u001b[43moptimizer\u001b[49m\u001b[43m,\u001b[49m\u001b[43m \u001b[49m\u001b[43mtrain_loader\u001b[49m\u001b[43m,\u001b[49m\u001b[43m \u001b[49m\u001b[43mval_loader\u001b[49m\u001b[43m,\u001b[49m\u001b[43m \u001b[49m\u001b[43mepochs\u001b[49m\u001b[38;5;241;43m=\u001b[39;49m\u001b[43mEPOCHS\u001b[49m\u001b[43m,\u001b[49m\u001b[43m \u001b[49m\u001b[43mfloat_input\u001b[49m\u001b[38;5;241;43m=\u001b[39;49m\u001b[38;5;28;43;01mFalse\u001b[39;49;00m\u001b[43m)\u001b[49m\n",
      "Cell \u001b[0;32mIn[107], line 26\u001b[0m, in \u001b[0;36mfit\u001b[0;34m(model, criterion, optimizer, train_loader, val_loader, epochs, float_input)\u001b[0m\n\u001b[1;32m     23\u001b[0m loss\u001b[38;5;241m.\u001b[39mbackward()\n\u001b[1;32m     24\u001b[0m optimizer\u001b[38;5;241m.\u001b[39mstep()\n\u001b[0;32m---> 26\u001b[0m running_loss \u001b[38;5;241m+\u001b[39m\u001b[38;5;241m=\u001b[39m \u001b[43mloss\u001b[49m\u001b[38;5;241;43m.\u001b[39;49m\u001b[43mitem\u001b[49m\u001b[43m(\u001b[49m\u001b[43m)\u001b[49m \n\u001b[1;32m     28\u001b[0m predicted \u001b[38;5;241m=\u001b[39m torch\u001b[38;5;241m.\u001b[39mround(F\u001b[38;5;241m.\u001b[39msigmoid(outputs))\n\u001b[1;32m     29\u001b[0m total \u001b[38;5;241m+\u001b[39m\u001b[38;5;241m=\u001b[39m labels\u001b[38;5;241m.\u001b[39msize(\u001b[38;5;241m0\u001b[39m)\n",
      "\u001b[0;31mKeyboardInterrupt\u001b[0m: "
     ]
    }
   ],
   "source": [
    "rnn_model_result = fit(rnn_model, criterion, optimizer, train_loader, val_loader, epochs=EPOCHS, float_input=False)"
   ]
  },
  {
   "cell_type": "code",
   "execution_count": null,
   "id": "d03b898c-6c69-4871-93f3-53120aa91016",
   "metadata": {},
   "outputs": [],
   "source": [
    "plt.figure(figsize=(15, 7))\n",
    "plt.subplot(1, 2, 1)\n",
    "\n",
    "plt.plot(rnn_model_result[\"accuracy\"], label=\"train_accuracy\")\n",
    "plt.plot(rnn_model_result[\"val_accuracy\"], label=\"val_accuracy\")\n",
    "plt.xlabel(\"Epochs\")\n",
    "plt.ylabel(\"Accuracy\")\n",
    "plt.legend()\n",
    "\n",
    "plt.subplot(1, 2, 2)\n",
    "plt.plot(rnn_model_result[\"loss\"], label=\"train_loss\")\n",
    "plt.plot(rnn_model_result[\"val_loss\"], label=\"val_loss\")\n",
    "plt.xlabel(\"Epochs\")\n",
    "plt.ylabel(\"Loss\")\n",
    "plt.legend()"
   ]
  },
  {
   "cell_type": "code",
   "execution_count": null,
   "id": "205d20e5-8de5-4567-b158-54797a536d83",
   "metadata": {},
   "outputs": [],
   "source": [
    "PATH = f\"models/torch_text_rnn_model_{datetime.datetime.now().strftime('%Y.%m.%d.%H.%M.%S')}.keras\"\n",
    "print(PATH)\n",
    "\n",
    "# save model\n",
    "torch.save(rnn_model.state_dict(), PATH)"
   ]
  },
  {
   "cell_type": "markdown",
   "id": "0ab30b20-4d44-40ca-a6c7-9987f51444df",
   "metadata": {},
   "source": [
    "## Convolutional Model"
   ]
  },
  {
   "cell_type": "code",
   "execution_count": 116,
   "id": "99b3fc38-31b7-4fd0-95c8-7bff8340928e",
   "metadata": {},
   "outputs": [
    {
     "name": "stdout",
     "output_type": "stream",
     "text": [
      "torch.Size([32, 70])\n"
     ]
    }
   ],
   "source": [
    "for x in train_loader:\n",
    "    print(x[0].shape)\n",
    "    break"
   ]
  },
  {
   "cell_type": "code",
   "execution_count": 130,
   "id": "69134744-bee5-4175-a31a-a34c25ea6399",
   "metadata": {},
   "outputs": [],
   "source": [
    "class ConvolutionalModel(nn.Module):\n",
    "    def __init__(self, vocab_size, input_size, output_size, embedding_matrix=None, freeze_embeddings=True):\n",
    "        super(ConvolutionalModel, self).__init__()\n",
    "\n",
    "        self.vocab_size = vocab_size\n",
    "        self.embedding_dim = 100\n",
    "\n",
    "        self.embedding = nn.Embedding(vocab_size, embedding_dim=self.embedding_dim)\n",
    "        if embedding_matrix is not None:\n",
    "            self.embedding.weight = nn.Parameter(embedding_matrix)\n",
    "\n",
    "        if freeze_embeddings:\n",
    "            self.embedding.weight.requires_grad = False\n",
    "\n",
    "        self.conv1 = nn.Conv1d(self.embedding_dim, 64, 3)\n",
    "        self.conv2 = nn.Conv1d(64, 32, 3)\n",
    "        self.dropout1 = nn.Dropout(0.1)\n",
    "        self.linear_size = 32 * 66\n",
    "        self.linear1 = nn.Linear(self.linear_size, 64)\n",
    "        self.dropout2 = nn.Dropout(0.1)\n",
    "        self.linear2 = nn.Linear(64, output_size)\n",
    "\n",
    "    \n",
    "    def forward(self, input_text):\n",
    "        embedded = self.embedding(input_text)\n",
    "        # embedded = [batch size, seq len, embedding dim]\n",
    "        # need to convert to:\n",
    "        # embedded = [batch size, embedding dim, seq len]\n",
    "        embedded = embedded.permute(0, 2, 1)\n",
    "        output = F.relu(self.conv1(embedded))\n",
    "        output = F.relu(self.conv2(output))\n",
    "        output = self.dropout1(output).view(-1, self.linear_size)\n",
    "        output = F.relu(self.linear1(output))\n",
    "        output = self.dropout2(output)\n",
    "        output = self.linear2(output) # no need sigmoid\n",
    "\n",
    "        return output"
   ]
  },
  {
   "cell_type": "code",
   "execution_count": 131,
   "id": "87ee497c-bf4e-463d-8820-d8b8ae61032d",
   "metadata": {},
   "outputs": [],
   "source": [
    "cnn_model = ConvolutionalModel(\n",
    "    vocab_size=vocab_size,\n",
    "    input_size=MAX_ENCODED_LEN,\n",
    "    output_size=1,\n",
    "    embedding_matrix=pretrained_emb,\n",
    "    freeze_embeddings=True\n",
    ").to(device)\n",
    "criterion = nn.BCEWithLogitsLoss()\n",
    "optimizer = optim.Adam(cnn_model.parameters(), lr=0.001, weight_decay=1e-5)"
   ]
  },
  {
   "cell_type": "code",
   "execution_count": 132,
   "id": "2b7ea7b5-8cbd-46f6-adf3-93cb6039689c",
   "metadata": {},
   "outputs": [
    {
     "data": {
      "text/plain": [
       "ConvolutionalModel(\n",
       "  (embedding): Embedding(400002, 100)\n",
       "  (conv1): Conv1d(100, 64, kernel_size=(3,), stride=(1,))\n",
       "  (conv2): Conv1d(64, 32, kernel_size=(3,), stride=(1,))\n",
       "  (dropout1): Dropout(p=0.1, inplace=False)\n",
       "  (linear1): Linear(in_features=2112, out_features=64, bias=True)\n",
       "  (dropout2): Dropout(p=0.1, inplace=False)\n",
       "  (linear2): Linear(in_features=64, out_features=1, bias=True)\n",
       ")"
      ]
     },
     "execution_count": 132,
     "metadata": {},
     "output_type": "execute_result"
    }
   ],
   "source": [
    "cnn_model"
   ]
  },
  {
   "cell_type": "code",
   "execution_count": 133,
   "id": "f5741ffb-a714-4794-9758-69c73ed16728",
   "metadata": {},
   "outputs": [
    {
     "name": "stdout",
     "output_type": "stream",
     "text": [
      "Epoch 0: train_loss: 0.0164; train_accuracy: 0.7409; val_loss: 0.5057; val_accuracy: 0.7500\n",
      "Epoch 1: train_loss: 0.0157; train_accuracy: 0.7547; val_loss: 0.5024; val_accuracy: 0.7550\n"
     ]
    },
    {
     "ename": "KeyboardInterrupt",
     "evalue": "",
     "output_type": "error",
     "traceback": [
      "\u001b[0;31m---------------------------------------------------------------------------\u001b[0m",
      "\u001b[0;31mKeyboardInterrupt\u001b[0m                         Traceback (most recent call last)",
      "Cell \u001b[0;32mIn[133], line 1\u001b[0m\n\u001b[0;32m----> 1\u001b[0m cnn_model_result \u001b[38;5;241m=\u001b[39m \u001b[43mfit\u001b[49m\u001b[43m(\u001b[49m\u001b[43mcnn_model\u001b[49m\u001b[43m,\u001b[49m\u001b[43m \u001b[49m\u001b[43mcriterion\u001b[49m\u001b[43m,\u001b[49m\u001b[43m \u001b[49m\u001b[43moptimizer\u001b[49m\u001b[43m,\u001b[49m\u001b[43m \u001b[49m\u001b[43mtrain_loader\u001b[49m\u001b[43m,\u001b[49m\u001b[43m \u001b[49m\u001b[43mval_loader\u001b[49m\u001b[43m,\u001b[49m\u001b[43m \u001b[49m\u001b[43mepochs\u001b[49m\u001b[38;5;241;43m=\u001b[39;49m\u001b[43mEPOCHS\u001b[49m\u001b[43m)\u001b[49m\n",
      "Cell \u001b[0;32mIn[107], line 28\u001b[0m, in \u001b[0;36mfit\u001b[0;34m(model, criterion, optimizer, train_loader, val_loader, epochs, float_input)\u001b[0m\n\u001b[1;32m     24\u001b[0m optimizer\u001b[38;5;241m.\u001b[39mstep()\n\u001b[1;32m     26\u001b[0m running_loss \u001b[38;5;241m+\u001b[39m\u001b[38;5;241m=\u001b[39m loss\u001b[38;5;241m.\u001b[39mitem() \n\u001b[0;32m---> 28\u001b[0m predicted \u001b[38;5;241m=\u001b[39m torch\u001b[38;5;241m.\u001b[39mround(\u001b[43mF\u001b[49m\u001b[38;5;241;43m.\u001b[39;49m\u001b[43msigmoid\u001b[49m\u001b[43m(\u001b[49m\u001b[43moutputs\u001b[49m\u001b[43m)\u001b[49m)\n\u001b[1;32m     29\u001b[0m total \u001b[38;5;241m+\u001b[39m\u001b[38;5;241m=\u001b[39m labels\u001b[38;5;241m.\u001b[39msize(\u001b[38;5;241m0\u001b[39m)\n\u001b[1;32m     30\u001b[0m correct \u001b[38;5;241m+\u001b[39m\u001b[38;5;241m=\u001b[39m (predicted \u001b[38;5;241m==\u001b[39m labels)\u001b[38;5;241m.\u001b[39msum()\u001b[38;5;241m.\u001b[39mitem()\n",
      "File \u001b[0;32m/Library/Frameworks/Python.framework/Versions/3.11/lib/python3.11/site-packages/torch/nn/functional.py:2010\u001b[0m, in \u001b[0;36msigmoid\u001b[0;34m(input)\u001b[0m\n\u001b[1;32m   2003\u001b[0m \u001b[38;5;28;01mdef\u001b[39;00m \u001b[38;5;21msigmoid\u001b[39m(\u001b[38;5;28minput\u001b[39m):  \u001b[38;5;66;03m# noqa: D400,D402\u001b[39;00m\n\u001b[1;32m   2004\u001b[0m \u001b[38;5;250m    \u001b[39m\u001b[38;5;124mr\u001b[39m\u001b[38;5;124;03m\"\"\"sigmoid(input) -> Tensor\u001b[39;00m\n\u001b[1;32m   2005\u001b[0m \n\u001b[1;32m   2006\u001b[0m \u001b[38;5;124;03m    Applies the element-wise function :math:`\\text{Sigmoid}(x) = \\frac{1}{1 + \\exp(-x)}`\u001b[39;00m\n\u001b[1;32m   2007\u001b[0m \n\u001b[1;32m   2008\u001b[0m \u001b[38;5;124;03m    See :class:`~torch.nn.Sigmoid` for more details.\u001b[39;00m\n\u001b[1;32m   2009\u001b[0m \u001b[38;5;124;03m    \"\"\"\u001b[39;00m\n\u001b[0;32m-> 2010\u001b[0m     \u001b[38;5;28;01mreturn\u001b[39;00m \u001b[38;5;28;43minput\u001b[39;49m\u001b[38;5;241;43m.\u001b[39;49m\u001b[43msigmoid\u001b[49m\u001b[43m(\u001b[49m\u001b[43m)\u001b[49m\n",
      "\u001b[0;31mKeyboardInterrupt\u001b[0m: "
     ]
    }
   ],
   "source": [
    "cnn_model_result = fit(cnn_model, criterion, optimizer, train_loader, val_loader, epochs=EPOCHS)"
   ]
  },
  {
   "cell_type": "code",
   "execution_count": null,
   "id": "7773eef0-107f-4e7d-bcd6-4f8c0ca4e567",
   "metadata": {},
   "outputs": [],
   "source": [
    "plt.figure(figsize=(15, 7))\n",
    "plt.subplot(1, 2, 1)\n",
    "\n",
    "plt.plot(cnn_model_result[\"train_accuracy\"], label=\"train_accuracy\")\n",
    "plt.plot(cnn_model_result[\"val_accuracy\"], label=\"val_accuracy\")\n",
    "plt.xlabel(\"Epochs\")\n",
    "plt.ylabel(\"Accuracy\")\n",
    "plt.legend()\n",
    "\n",
    "plt.subplot(1, 2, 2)\n",
    "plt.plot(cnn_model_result[\"train_loss\"], label=\"train_loss\")\n",
    "plt.plot(cnn_model_result[\"val_loss\"], label=\"val_loss\")\n",
    "plt.xlabel(\"Epochs\")\n",
    "plt.ylabel(\"Loss\")\n",
    "plt.legend()"
   ]
  },
  {
   "cell_type": "code",
   "execution_count": null,
   "id": "ea456290-a111-48ba-9cfb-3ff85887ed25",
   "metadata": {},
   "outputs": [],
   "source": [
    "PATH = f\"models/torch_text_cnn_model_{datetime.datetime.now().strftime('%Y.%m.%d.%H.%M.%S')}.pth\"\n",
    "print(PATH)\n",
    "\n",
    "# save model\n",
    "torch.save(cnn_model.state_dict(), PATH)"
   ]
  },
  {
   "cell_type": "markdown",
   "id": "20251ec7-9428-4bf1-9399-7cca66c62b83",
   "metadata": {
    "jp-MarkdownHeadingCollapsed": true
   },
   "source": [
    "## Transformer Model\n",
    "This time using Keras"
   ]
  },
  {
   "cell_type": "code",
   "execution_count": null,
   "id": "0696ebb2-7a1a-41b6-acbe-986485e13f20",
   "metadata": {},
   "outputs": [],
   "source": [
    "import tensorflow as tf\n",
    "\n",
    "# check gpu\n",
    "tf.config.list_physical_devices('GPU')"
   ]
  },
  {
   "cell_type": "code",
   "execution_count": null,
   "id": "7ede5cb8-f719-4e48-89df-7443a4ce7bdd",
   "metadata": {},
   "outputs": [],
   "source": [
    "tf.__version__"
   ]
  },
  {
   "cell_type": "code",
   "execution_count": null,
   "id": "efe3b93a-035d-4c49-93e0-1db97713f428",
   "metadata": {},
   "outputs": [],
   "source": [
    "tf.random.set_seed(3407)"
   ]
  },
  {
   "cell_type": "code",
   "execution_count": null,
   "id": "17e36bc8-f677-42d2-87f6-f51442c2e41b",
   "metadata": {},
   "outputs": [],
   "source": [
    "from tensorflow.keras import layers\n",
    "from tensorflow.keras import Sequential"
   ]
  },
  {
   "cell_type": "code",
   "execution_count": null,
   "id": "8b7670d7-99fe-438e-be34-4dba6ef2baa4",
   "metadata": {},
   "outputs": [],
   "source": [
    "class TransformerBlock(layers.Layer):\n",
    "    def __init__(self, embed_dim, num_heads, ff_dim, dropout_rate=0.1):\n",
    "        super().__init__()\n",
    "        self.att = layers.MultiHeadAttention(num_heads=num_heads, key_dim=embed_dim)\n",
    "        self.dropout1 = layers.Dropout(dropout_rate)\n",
    "        self.layernorm1 = layers.LayerNormalization(epsilon=1e-6)\n",
    "        self.ffn = Sequential([\n",
    "            layers.Dense(ff_dim, activation=\"relu\"),\n",
    "            layers.Dense(embed_dim),\n",
    "        ])\n",
    "        self.dropout2 = layers.Dropout(dropout_rate)\n",
    "        self.layernorm2 = layers.LayerNormalization(epsilon=1e-6)\n",
    "\n",
    "\n",
    "    def call(self, inputs):\n",
    "        attn_output = self.att(inputs, inputs)\n",
    "        attn_output = self.dropout1(attn_output)\n",
    "        out1 = self.layernorm1(inputs + attn_output) # add + norm\n",
    "        ffn_output = self.ffn(out1)\n",
    "        ffn_output = self.dropout2(ffn_output)\n",
    "        return self.layernorm2(out1 + ffn_output)"
   ]
  },
  {
   "cell_type": "code",
   "execution_count": null,
   "id": "c83e468f-e39d-44fd-92a9-42679044e11c",
   "metadata": {},
   "outputs": [],
   "source": [
    "class TokenAndPositionEmbedding(layers.Layer):\n",
    "    def __init__(self, maxlen, vocab_size, embed_dim):\n",
    "        super().__init__()\n",
    "        self.token_emb = layers.Embedding(input_dim=vocab_size, output_dim=embed_dim)\n",
    "        self.pos_emb = layers.Embedding(input_dim=maxlen, output_dim=embed_dim)\n",
    "\n",
    "    def call(self, x):\n",
    "        maxlen = x.shape[-1]\n",
    "        positions = np.arange(0, maxlen, step=1)\n",
    "        positions = self.pos_emb(positions)\n",
    "        x = self.token_emb(x)\n",
    "        return x + positions"
   ]
  },
  {
   "cell_type": "code",
   "execution_count": null,
   "id": "bbda62f4-65cd-43e9-abe4-2b56d0d3ade4",
   "metadata": {},
   "outputs": [],
   "source": [
    "# onehot y label\n",
    "from sklearn.preprocessing import OneHotEncoder\n",
    "\n",
    "onehot = OneHotEncoder()"
   ]
  },
  {
   "cell_type": "code",
   "execution_count": null,
   "id": "befd41d2-0f6b-49a9-85a8-f1946c393614",
   "metadata": {},
   "outputs": [],
   "source": [
    "X_train = np.vstack(X_train.to_numpy())\n",
    "X_train.shape"
   ]
  },
  {
   "cell_type": "code",
   "execution_count": null,
   "id": "c0ce7b49-e282-4208-a206-7b2b66450b82",
   "metadata": {},
   "outputs": [],
   "source": [
    "np.unique(y_train, return_counts=True)"
   ]
  },
  {
   "cell_type": "code",
   "execution_count": null,
   "id": "778b156a-41a2-4bfd-bb63-7f317c506418",
   "metadata": {},
   "outputs": [],
   "source": [
    "y_train_onehot = onehot.fit_transform(y_train.reshape(-1, 1)).toarray()\n",
    "y_train_onehot.shape"
   ]
  },
  {
   "cell_type": "code",
   "execution_count": null,
   "id": "509575c6-2d7b-439e-a18a-921347576f2f",
   "metadata": {},
   "outputs": [],
   "source": [
    "X_val = np.vstack(X_val.to_numpy())\n",
    "X_val.shape"
   ]
  },
  {
   "cell_type": "code",
   "execution_count": null,
   "id": "5dec5a71-46ad-4f44-87d1-266e8696aba5",
   "metadata": {},
   "outputs": [],
   "source": [
    "y_val = y_val.to_numpy()\n",
    "y_val.shape"
   ]
  },
  {
   "cell_type": "code",
   "execution_count": null,
   "id": "ad6a3d94-752a-4573-a182-93df66655e5d",
   "metadata": {},
   "outputs": [],
   "source": [
    "y_val_onehot = onehot.transform(y_val.reshape(-1, 1)).toarray()\n",
    "y_val_onehot.shape"
   ]
  },
  {
   "cell_type": "code",
   "execution_count": null,
   "id": "00da147c-368e-4c0a-b2c8-f760c6cef176",
   "metadata": {},
   "outputs": [],
   "source": [
    "embed_dim = 64  # Embedding size for each token\n",
    "num_heads = 8  # Number of attention heads\n",
    "ff_dim = 32  # Hidden layer size in feed forward network inside transformer\n",
    "max_len = 128\n",
    "\n",
    "inputs = layers.Input(shape=(max_len,))\n",
    "embedding_layer = TokenAndPositionEmbedding(max_len, vocab_size, embed_dim)\n",
    "x = embedding_layer(inputs)\n",
    "transformer_block = TransformerBlock(embed_dim, num_heads, ff_dim)\n",
    "x = transformer_block(x)\n",
    "x = layers.GlobalMaxPooling1D()(x)\n",
    "x = layers.Dense(32, activation=\"relu\")(x)\n",
    "x = layers.Dropout(0.2)(x)\n",
    "x = layers.Dense(16, activation=\"relu\")(x)\n",
    "x = layers.Dropout(0.2)(x)\n",
    "x = layers.Dense(8, activation=\"relu\")(x)\n",
    "outputs = layers.Dense(len(SENTIMENT_MAP), activation=\"softmax\")(x)\n",
    "\n",
    "transformer_model = tf.keras.Model(inputs=inputs, outputs=outputs)"
   ]
  },
  {
   "cell_type": "code",
   "execution_count": null,
   "id": "89820880-af09-4273-8d0f-345383e8609b",
   "metadata": {},
   "outputs": [],
   "source": [
    "transformer_model.summary()"
   ]
  },
  {
   "cell_type": "code",
   "execution_count": null,
   "id": "3a96736f-83c0-4650-9238-3e4467e02e0e",
   "metadata": {},
   "outputs": [],
   "source": [
    "transformer_model.compile(\n",
    "    optimizer=tf.keras.optimizers.Adam(learning_rate=0.001, epsilon=1e-05),\n",
    "    # optimizer='adam',\n",
    "    loss=\"categorical_crossentropy\",\n",
    "    metrics=[\"accuracy\"]\n",
    ")\n",
    "\n",
    "# if the loss doesn't decrease, early stop\n",
    "callback = tf.keras.callbacks.EarlyStopping(monitor='val_loss', min_delta=0.001, patience=2)\n",
    "\n",
    "history = transformer_model.fit(\n",
    "    X_train,\n",
    "    y_train_onehot,\n",
    "    batch_size=16,\n",
    "    epochs=20,\n",
    "    validation_data=(X_val, y_val_onehot),\n",
    "    callbacks=[callback],\n",
    ")"
   ]
  },
  {
   "cell_type": "code",
   "execution_count": null,
   "id": "f912f08e-6fbe-4230-b77d-0b793c0e2668",
   "metadata": {},
   "outputs": [],
   "source": [
    "plt.figure(figsize=(15, 7))\n",
    "plt.subplot(1, 2, 1)\n",
    "\n",
    "plt.plot(history.history[\"accuracy\"], label=\"train_accuracy\")\n",
    "plt.plot(history.history[\"val_accuracy\"], label=\"val_accuracy\")\n",
    "plt.xlabel(\"Epochs\")\n",
    "plt.ylabel(\"Accuracy\")\n",
    "plt.legend()\n",
    "\n",
    "plt.subplot(1, 2, 2)\n",
    "plt.plot(history.history[\"loss\"], label=\"train_loss\")\n",
    "plt.plot(history.history[\"val_loss\"], label=\"val_loss\")\n",
    "plt.xlabel(\"Epochs\")\n",
    "plt.ylabel(\"Loss\")\n",
    "plt.legend()"
   ]
  },
  {
   "cell_type": "code",
   "execution_count": null,
   "id": "dd58c445-2969-4acc-b12c-d4eb649ecbdd",
   "metadata": {},
   "outputs": [],
   "source": [
    "PATH = f\"models/tensorflow_text_transformer_model_{datetime.datetime.now().strftime('%Y.%m.%d.%H.%M.%S')}.keras\"\n",
    "print(PATH)\n",
    "\n",
    "# save model\n",
    "transformer_model.save(PATH)"
   ]
  },
  {
   "cell_type": "markdown",
   "id": "035a5ba5-2891-4408-af82-2f02933f3a8c",
   "metadata": {},
   "source": [
    "# Predict"
   ]
  },
  {
   "cell_type": "code",
   "execution_count": null,
   "id": "89661619-721c-4fc9-bd7e-d98e8f3b5903",
   "metadata": {},
   "outputs": [],
   "source": [
    "val_data_test = np.random.choice(y_val.index)\n",
    "test_sample = df.loc[val_data_test]\n",
    "test_sample"
   ]
  },
  {
   "cell_type": "code",
   "execution_count": null,
   "id": "8af98251-93a6-429c-8f65-b266b2c60003",
   "metadata": {},
   "outputs": [],
   "source": [
    "def predict_torch(model, text, label=None):\n",
    "    # use torch model\n",
    "    # convert to vocab id\n",
    "    print(text)\n",
    "    text_encoded = encode_sentence(text, vocab2index)\n",
    "    text_encoded = text_encoded.reshape(-1, text_encoded.shape[0])\n",
    "\n",
    "    with torch.no_grad():\n",
    "        model.eval()\n",
    "        output = model(torch.tensor(text_encoded).to(device))\n",
    "        _, predicted = torch.max(output.data, axis=1)\n",
    "\n",
    "        predicted = predicted.cpu().numpy()\n",
    "\n",
    "    print(\"Detected Emotion:\", emotions_dict[predicted[0]])\n",
    "    if label is not None:\n",
    "        print(\"Actual Emotion  :\", emotions_dict[label])"
   ]
  },
  {
   "cell_type": "code",
   "execution_count": null,
   "id": "88a3ca39-83a5-4c33-b84a-4f1e9113d52f",
   "metadata": {},
   "outputs": [],
   "source": [
    "predict_torch(linear_model, \"I hate this country\")"
   ]
  },
  {
   "cell_type": "code",
   "execution_count": null,
   "id": "d1ac1256-0473-4320-b5b8-94adbaf36d5a",
   "metadata": {},
   "outputs": [],
   "source": [
    "predict_torch(linear_model, test_sample[\"Clean_Text_detok\"], test_sample[\"Emotion_uniform\"])"
   ]
  },
  {
   "cell_type": "code",
   "execution_count": null,
   "id": "cc20c1e2-fd83-4363-aa2b-c73b5ce91067",
   "metadata": {},
   "outputs": [],
   "source": [
    "predict_torch(rnn_model, \"I hate this country\")"
   ]
  },
  {
   "cell_type": "code",
   "execution_count": null,
   "id": "8cf50ea3-4663-490c-888c-5700e464b64d",
   "metadata": {},
   "outputs": [],
   "source": [
    "predict_torch(rnn_model, test_sample[\"Text\"], test_sample[\"Emotion_uniform\"])"
   ]
  },
  {
   "cell_type": "code",
   "execution_count": null,
   "id": "90df687d-23ea-444b-8f18-f91e1d0dbc8d",
   "metadata": {},
   "outputs": [],
   "source": [
    "predict_torch(cnn_model, \"I hate this country\")"
   ]
  },
  {
   "cell_type": "code",
   "execution_count": null,
   "id": "ebe88678-6e26-43ad-a047-dff8f11591f9",
   "metadata": {},
   "outputs": [],
   "source": [
    "predict_torch(cnn_model, test_sample[\"Text\"], test_sample[\"Emotion_uniform\"])"
   ]
  },
  {
   "cell_type": "code",
   "execution_count": null,
   "id": "6786a895-6e4c-4c59-bb15-06d03a1f783f",
   "metadata": {},
   "outputs": [],
   "source": [
    "def predict_tensorflow(model, text, label=None):\n",
    "    print(text)\n",
    "    text_encoded = encode_sentence(text, vocab2index)\n",
    "    text_encoded = text_encoded.reshape(-1, text_encoded.shape[0])\n",
    "\n",
    "    predicted = model.predict(text_encoded)\n",
    "    predicted = tf.argmax(predicted, axis=1)\n",
    "\n",
    "    print(\"Detected Emotion:\", emotions_dict[predicted.numpy()[0]])\n",
    "    if label is not None:\n",
    "        print(\"Actual Emotion  :\", emotions_dict[label])"
   ]
  },
  {
   "cell_type": "code",
   "execution_count": null,
   "id": "a610cc7b-cabb-4bfd-afc3-2bf402a7acd0",
   "metadata": {},
   "outputs": [],
   "source": [
    "predict_tensorflow(transformer_model, \"I hate this country\")"
   ]
  },
  {
   "cell_type": "code",
   "execution_count": null,
   "id": "2a21fb59-7482-4043-bf24-06cfd449b99f",
   "metadata": {},
   "outputs": [],
   "source": [
    "predict_tensorflow(transformer_model, test_sample[\"Text\"], test_sample[\"Emotion_uniform\"])"
   ]
  },
  {
   "cell_type": "markdown",
   "id": "7285d9e7-a78b-475a-8c12-c647f30c0183",
   "metadata": {},
   "source": [
    "# Confusion Matrix"
   ]
  },
  {
   "cell_type": "code",
   "execution_count": null,
   "id": "339f0b5e-7359-4286-bec2-656a7fe0b9f4",
   "metadata": {},
   "outputs": [],
   "source": [
    "from sklearn.metrics import classification_report"
   ]
  },
  {
   "cell_type": "code",
   "execution_count": null,
   "id": "54424dee-abc1-4481-b6f4-841e6d88f861",
   "metadata": {},
   "outputs": [],
   "source": [
    "def full_report(labs, pred):\n",
    "    accuracy = accuracy_score(labs, pred)\n",
    "    conf_mat = confusion_matrix(labs, pred)\n",
    "    report = classification_report(labs, pred, target_names=emotions_dict.values())\n",
    "    print(\"Accuracy:\", accuracy)\n",
    "    print(\"Classification Report:\\n\", report)\n",
    "    cm = pd.DataFrame(conf_mat, index=emotions_dict.values(), columns=emotions_dict.values())\n",
    "    sns.heatmap(cm, annot=True)\n",
    "    plt.xlabel(\"Predicted\")\n",
    "    plt.ylabel(\"Actual\")\n",
    "    plt.show()"
   ]
  },
  {
   "cell_type": "code",
   "execution_count": null,
   "id": "6163a0d3-e9fe-4403-9534-3251d8663737",
   "metadata": {},
   "outputs": [],
   "source": [
    "def pytorch_report(model, val_loader):\n",
    "    pred = []\n",
    "    labs = []\n",
    "    with torch.no_grad():\n",
    "        model.eval()\n",
    "        for data in val_loader:\n",
    "            inputs, labels = data\n",
    "            inputs = inputs.to(device)\n",
    "            labels = labels.to(device)\n",
    "\n",
    "            outputs = model(inputs)\n",
    "            loss = criterion(outputs, labels)\n",
    "            _, predicted = torch.max(outputs.data, axis=1)\n",
    "            labs.extend(labels.cpu().numpy())\n",
    "            pred.extend(predicted.cpu().numpy())\n",
    "\n",
    "    full_report(labs, pred)"
   ]
  },
  {
   "cell_type": "code",
   "execution_count": null,
   "id": "c6102f5a-b757-4a42-8db0-0480b4830a1e",
   "metadata": {},
   "outputs": [],
   "source": [
    "def tensorflow_report(model, X_val, y_val):\n",
    "    pred = model.predict(X_val)\n",
    "    pred = tf.argmax(pred, axis=1)\n",
    "\n",
    "    full_report(y_val, pred)"
   ]
  },
  {
   "cell_type": "code",
   "execution_count": null,
   "id": "63c9539a-542d-4a81-914e-1e1ced212aa4",
   "metadata": {},
   "outputs": [],
   "source": [
    "pytorch_report(linear_model, val_lin_loader)"
   ]
  },
  {
   "cell_type": "code",
   "execution_count": null,
   "id": "e0f9ef44-fc5f-4f69-be43-2feeac9d6e29",
   "metadata": {},
   "outputs": [],
   "source": [
    "pytorch_report(rnn_model, val_loader)"
   ]
  },
  {
   "cell_type": "code",
   "execution_count": null,
   "id": "9acf0e5c-c657-4a09-b89d-9fa0b9b419a8",
   "metadata": {},
   "outputs": [],
   "source": [
    "pytorch_report(cnn_model, val_loader)"
   ]
  },
  {
   "cell_type": "code",
   "execution_count": null,
   "id": "9177b91e-b81d-4d33-8281-f01af0eb80bf",
   "metadata": {},
   "outputs": [],
   "source": [
    "tensorflow_report(transformer_model, X_transformer_val, y_transformer_val)"
   ]
  },
  {
   "cell_type": "code",
   "execution_count": null,
   "id": "7716baf9-8d6b-4eb6-8d75-1cbe02b2d02c",
   "metadata": {},
   "outputs": [],
   "source": []
  }
 ],
 "metadata": {
  "kernelspec": {
   "display_name": "Python 3 (ipykernel)",
   "language": "python",
   "name": "python3"
  },
  "language_info": {
   "codemirror_mode": {
    "name": "ipython",
    "version": 3
   },
   "file_extension": ".py",
   "mimetype": "text/x-python",
   "name": "python",
   "nbconvert_exporter": "python",
   "pygments_lexer": "ipython3",
   "version": "3.11.7"
  }
 },
 "nbformat": 4,
 "nbformat_minor": 5
}
