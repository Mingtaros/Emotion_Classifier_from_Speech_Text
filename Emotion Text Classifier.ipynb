{
 "cells": [
  {
   "cell_type": "code",
   "execution_count": 1,
   "id": "1dd05ef1-eb4d-4864-9ece-68235add9a97",
   "metadata": {},
   "outputs": [],
   "source": [
    "import numpy as np\n",
    "import pandas as pd"
   ]
  },
  {
   "cell_type": "code",
   "execution_count": 2,
   "id": "13ef7d7f-ff31-4dd5-8c96-539bc68c63e2",
   "metadata": {},
   "outputs": [],
   "source": [
    "from tqdm.notebook import tqdm\n",
    "tqdm.pandas()"
   ]
  },
  {
   "cell_type": "code",
   "execution_count": 3,
   "id": "08d68b28-b647-4824-bde6-d22c37209f89",
   "metadata": {},
   "outputs": [
    {
     "data": {
      "text/html": [
       "<div>\n",
       "<style scoped>\n",
       "    .dataframe tbody tr th:only-of-type {\n",
       "        vertical-align: middle;\n",
       "    }\n",
       "\n",
       "    .dataframe tbody tr th {\n",
       "        vertical-align: top;\n",
       "    }\n",
       "\n",
       "    .dataframe thead th {\n",
       "        text-align: right;\n",
       "    }\n",
       "</style>\n",
       "<table border=\"1\" class=\"dataframe\">\n",
       "  <thead>\n",
       "    <tr style=\"text-align: right;\">\n",
       "      <th></th>\n",
       "      <th>Unnamed: 0</th>\n",
       "      <th>Emotion</th>\n",
       "      <th>Text</th>\n",
       "      <th>Clean_Text</th>\n",
       "    </tr>\n",
       "  </thead>\n",
       "  <tbody>\n",
       "    <tr>\n",
       "      <th>0</th>\n",
       "      <td>0</td>\n",
       "      <td>neutral</td>\n",
       "      <td>Why ?</td>\n",
       "      <td>NaN</td>\n",
       "    </tr>\n",
       "    <tr>\n",
       "      <th>1</th>\n",
       "      <td>1</td>\n",
       "      <td>joy</td>\n",
       "      <td>Sage Act upgrade on my to do list for tommorow.</td>\n",
       "      <td>Sage Act upgrade list tommorow</td>\n",
       "    </tr>\n",
       "    <tr>\n",
       "      <th>2</th>\n",
       "      <td>2</td>\n",
       "      <td>sadness</td>\n",
       "      <td>ON THE WAY TO MY HOMEGIRL BABY FUNERAL!!! MAN ...</td>\n",
       "      <td>WAY HOMEGIRL BABY FUNERAL MAN HATE FUNERALS SH...</td>\n",
       "    </tr>\n",
       "    <tr>\n",
       "      <th>3</th>\n",
       "      <td>3</td>\n",
       "      <td>joy</td>\n",
       "      <td>Such an eye ! The true hazel eye-and so brill...</td>\n",
       "      <td>eye  true hazel eyeand brilliant  Regular feat...</td>\n",
       "    </tr>\n",
       "    <tr>\n",
       "      <th>4</th>\n",
       "      <td>4</td>\n",
       "      <td>joy</td>\n",
       "      <td>@Iluvmiasantos ugh babe.. hugggzzz for u .!  b...</td>\n",
       "      <td>ugh babe hugggzzz u  babe naamazed nga ako e...</td>\n",
       "    </tr>\n",
       "    <tr>\n",
       "      <th>...</th>\n",
       "      <td>...</td>\n",
       "      <td>...</td>\n",
       "      <td>...</td>\n",
       "      <td>...</td>\n",
       "    </tr>\n",
       "    <tr>\n",
       "      <th>34787</th>\n",
       "      <td>34787</td>\n",
       "      <td>surprise</td>\n",
       "      <td>@MichelGW have you gift! Hope you like it! It'...</td>\n",
       "      <td>gift Hope like it hand wear  Itll warm Lol</td>\n",
       "    </tr>\n",
       "    <tr>\n",
       "      <th>34788</th>\n",
       "      <td>34788</td>\n",
       "      <td>joy</td>\n",
       "      <td>The world didnt give it to me..so the world MO...</td>\n",
       "      <td>world didnt meso world DEFINITELY cnt away</td>\n",
       "    </tr>\n",
       "    <tr>\n",
       "      <th>34789</th>\n",
       "      <td>34789</td>\n",
       "      <td>anger</td>\n",
       "      <td>A man robbed me today .</td>\n",
       "      <td>man robbed today</td>\n",
       "    </tr>\n",
       "    <tr>\n",
       "      <th>34790</th>\n",
       "      <td>34790</td>\n",
       "      <td>fear</td>\n",
       "      <td>Youu call it JEALOUSY, I call it of #Losing YO...</td>\n",
       "      <td>Youu JEALOUSY #Losing YOU</td>\n",
       "    </tr>\n",
       "    <tr>\n",
       "      <th>34791</th>\n",
       "      <td>34791</td>\n",
       "      <td>sadness</td>\n",
       "      <td>I think about you baby, and I dream about you ...</td>\n",
       "      <td>think baby dream time</td>\n",
       "    </tr>\n",
       "  </tbody>\n",
       "</table>\n",
       "<p>34792 rows × 4 columns</p>\n",
       "</div>"
      ],
      "text/plain": [
       "       Unnamed: 0   Emotion  \\\n",
       "0               0   neutral   \n",
       "1               1       joy   \n",
       "2               2   sadness   \n",
       "3               3       joy   \n",
       "4               4       joy   \n",
       "...           ...       ...   \n",
       "34787       34787  surprise   \n",
       "34788       34788       joy   \n",
       "34789       34789     anger   \n",
       "34790       34790      fear   \n",
       "34791       34791   sadness   \n",
       "\n",
       "                                                    Text  \\\n",
       "0                                                 Why ?    \n",
       "1        Sage Act upgrade on my to do list for tommorow.   \n",
       "2      ON THE WAY TO MY HOMEGIRL BABY FUNERAL!!! MAN ...   \n",
       "3       Such an eye ! The true hazel eye-and so brill...   \n",
       "4      @Iluvmiasantos ugh babe.. hugggzzz for u .!  b...   \n",
       "...                                                  ...   \n",
       "34787  @MichelGW have you gift! Hope you like it! It'...   \n",
       "34788  The world didnt give it to me..so the world MO...   \n",
       "34789                           A man robbed me today .    \n",
       "34790  Youu call it JEALOUSY, I call it of #Losing YO...   \n",
       "34791  I think about you baby, and I dream about you ...   \n",
       "\n",
       "                                              Clean_Text  \n",
       "0                                                    NaN  \n",
       "1                         Sage Act upgrade list tommorow  \n",
       "2      WAY HOMEGIRL BABY FUNERAL MAN HATE FUNERALS SH...  \n",
       "3      eye  true hazel eyeand brilliant  Regular feat...  \n",
       "4        ugh babe hugggzzz u  babe naamazed nga ako e...  \n",
       "...                                                  ...  \n",
       "34787         gift Hope like it hand wear  Itll warm Lol  \n",
       "34788         world didnt meso world DEFINITELY cnt away  \n",
       "34789                                  man robbed today   \n",
       "34790                          Youu JEALOUSY #Losing YOU  \n",
       "34791                              think baby dream time  \n",
       "\n",
       "[34792 rows x 4 columns]"
      ]
     },
     "execution_count": 3,
     "metadata": {},
     "output_type": "execute_result"
    }
   ],
   "source": [
    "df = pd.read_csv(\"emotion-text-dataset/emotion_dataset.csv\")\n",
    "df"
   ]
  },
  {
   "cell_type": "code",
   "execution_count": 4,
   "id": "37c80378-8380-4edc-935e-ec20f577d2b4",
   "metadata": {},
   "outputs": [],
   "source": [
    "# drop \"shame\" to uniform the labels\n",
    "df = df[df[\"Emotion\"] != \"shame\"]"
   ]
  },
  {
   "cell_type": "code",
   "execution_count": 5,
   "id": "71684b81-fc7f-4cad-b218-277adab9ed4a",
   "metadata": {},
   "outputs": [
    {
     "data": {
      "text/plain": [
       "joy         11045\n",
       "sadness      6722\n",
       "fear         5410\n",
       "anger        4297\n",
       "surprise     4062\n",
       "neutral      2254\n",
       "disgust       856\n",
       "Name: Emotion, dtype: int64"
      ]
     },
     "execution_count": 5,
     "metadata": {},
     "output_type": "execute_result"
    }
   ],
   "source": [
    "df[\"Emotion\"].value_counts()"
   ]
  },
  {
   "cell_type": "code",
   "execution_count": 6,
   "id": "fe08438d-8f61-4d01-8a59-11556160df04",
   "metadata": {},
   "outputs": [],
   "source": [
    "# making the labeling same as the speech\n",
    "emotion_to_id_convert = {\n",
    "    \"surprise\": 0,\n",
    "    \"neutral\": 1,\n",
    "    \"joy\": 2,\n",
    "    \"sadness\": 3,\n",
    "    \"anger\": 4,\n",
    "    \"fear\": 5,\n",
    "    \"disgust\": 6\n",
    "}\n",
    "\n",
    "emotions_dict = {\n",
    "    0: 'surprised',\n",
    "    1: 'neutral',\n",
    "    2: 'happy',\n",
    "    3: 'sad',\n",
    "    4: 'angry',\n",
    "    5: 'fearful',\n",
    "    6: 'disgust'\n",
    "}"
   ]
  },
  {
   "cell_type": "code",
   "execution_count": 7,
   "id": "18aa5408-5f5f-4c71-b0fe-b512a44b83ef",
   "metadata": {},
   "outputs": [
    {
     "name": "stderr",
     "output_type": "stream",
     "text": [
      "/var/folders/d_/43yhfw3n2wx5mg7dg0cxjld00000gn/T/ipykernel_68114/4020174303.py:1: SettingWithCopyWarning: \n",
      "A value is trying to be set on a copy of a slice from a DataFrame.\n",
      "Try using .loc[row_indexer,col_indexer] = value instead\n",
      "\n",
      "See the caveats in the documentation: https://pandas.pydata.org/pandas-docs/stable/user_guide/indexing.html#returning-a-view-versus-a-copy\n",
      "  df[\"Emotion_uniform\"] = df[\"Emotion\"].apply(lambda x: emotion_to_id_convert[x])\n"
     ]
    },
    {
     "data": {
      "text/html": [
       "<div>\n",
       "<style scoped>\n",
       "    .dataframe tbody tr th:only-of-type {\n",
       "        vertical-align: middle;\n",
       "    }\n",
       "\n",
       "    .dataframe tbody tr th {\n",
       "        vertical-align: top;\n",
       "    }\n",
       "\n",
       "    .dataframe thead th {\n",
       "        text-align: right;\n",
       "    }\n",
       "</style>\n",
       "<table border=\"1\" class=\"dataframe\">\n",
       "  <thead>\n",
       "    <tr style=\"text-align: right;\">\n",
       "      <th></th>\n",
       "      <th>Unnamed: 0</th>\n",
       "      <th>Emotion</th>\n",
       "      <th>Text</th>\n",
       "      <th>Clean_Text</th>\n",
       "      <th>Emotion_uniform</th>\n",
       "    </tr>\n",
       "  </thead>\n",
       "  <tbody>\n",
       "    <tr>\n",
       "      <th>0</th>\n",
       "      <td>0</td>\n",
       "      <td>neutral</td>\n",
       "      <td>Why ?</td>\n",
       "      <td>NaN</td>\n",
       "      <td>1</td>\n",
       "    </tr>\n",
       "    <tr>\n",
       "      <th>1</th>\n",
       "      <td>1</td>\n",
       "      <td>joy</td>\n",
       "      <td>Sage Act upgrade on my to do list for tommorow.</td>\n",
       "      <td>Sage Act upgrade list tommorow</td>\n",
       "      <td>2</td>\n",
       "    </tr>\n",
       "    <tr>\n",
       "      <th>2</th>\n",
       "      <td>2</td>\n",
       "      <td>sadness</td>\n",
       "      <td>ON THE WAY TO MY HOMEGIRL BABY FUNERAL!!! MAN ...</td>\n",
       "      <td>WAY HOMEGIRL BABY FUNERAL MAN HATE FUNERALS SH...</td>\n",
       "      <td>3</td>\n",
       "    </tr>\n",
       "    <tr>\n",
       "      <th>3</th>\n",
       "      <td>3</td>\n",
       "      <td>joy</td>\n",
       "      <td>Such an eye ! The true hazel eye-and so brill...</td>\n",
       "      <td>eye  true hazel eyeand brilliant  Regular feat...</td>\n",
       "      <td>2</td>\n",
       "    </tr>\n",
       "    <tr>\n",
       "      <th>4</th>\n",
       "      <td>4</td>\n",
       "      <td>joy</td>\n",
       "      <td>@Iluvmiasantos ugh babe.. hugggzzz for u .!  b...</td>\n",
       "      <td>ugh babe hugggzzz u  babe naamazed nga ako e...</td>\n",
       "      <td>2</td>\n",
       "    </tr>\n",
       "  </tbody>\n",
       "</table>\n",
       "</div>"
      ],
      "text/plain": [
       "   Unnamed: 0  Emotion                                               Text  \\\n",
       "0           0  neutral                                             Why ?    \n",
       "1           1      joy    Sage Act upgrade on my to do list for tommorow.   \n",
       "2           2  sadness  ON THE WAY TO MY HOMEGIRL BABY FUNERAL!!! MAN ...   \n",
       "3           3      joy   Such an eye ! The true hazel eye-and so brill...   \n",
       "4           4      joy  @Iluvmiasantos ugh babe.. hugggzzz for u .!  b...   \n",
       "\n",
       "                                          Clean_Text  Emotion_uniform  \n",
       "0                                                NaN                1  \n",
       "1                     Sage Act upgrade list tommorow                2  \n",
       "2  WAY HOMEGIRL BABY FUNERAL MAN HATE FUNERALS SH...                3  \n",
       "3  eye  true hazel eyeand brilliant  Regular feat...                2  \n",
       "4    ugh babe hugggzzz u  babe naamazed nga ako e...                2  "
      ]
     },
     "execution_count": 7,
     "metadata": {},
     "output_type": "execute_result"
    }
   ],
   "source": [
    "df[\"Emotion_uniform\"] = df[\"Emotion\"].apply(lambda x: emotion_to_id_convert[x])\n",
    "df.head()"
   ]
  },
  {
   "cell_type": "code",
   "execution_count": 8,
   "id": "b49c53fc-7119-4e78-997d-754fe8995cc2",
   "metadata": {},
   "outputs": [
    {
     "data": {
      "text/plain": [
       "\"Slecht voor je gezondheid zo'n maken: in mijn vinger geniet, high van de lijm en buikpijn van het snoepgoed.\""
      ]
     },
     "execution_count": 8,
     "metadata": {},
     "output_type": "execute_result"
    }
   ],
   "source": [
    "df[df[\"Emotion_uniform\"] == 0].sample()[\"Text\"].iloc[0]"
   ]
  },
  {
   "cell_type": "code",
   "execution_count": 9,
   "id": "6785c3d6-044f-4fd3-82cb-b576b9bfa8fd",
   "metadata": {},
   "outputs": [
    {
     "name": "stderr",
     "output_type": "stream",
     "text": [
      "/var/folders/d_/43yhfw3n2wx5mg7dg0cxjld00000gn/T/ipykernel_68114/3318117705.py:1: SettingWithCopyWarning: \n",
      "A value is trying to be set on a copy of a slice from a DataFrame\n",
      "\n",
      "See the caveats in the documentation: https://pandas.pydata.org/pandas-docs/stable/user_guide/indexing.html#returning-a-view-versus-a-copy\n",
      "  df.drop([\"Unnamed: 0\", \"Clean_Text\", \"Emotion\"], axis=1, inplace=True)\n"
     ]
    }
   ],
   "source": [
    "df.drop([\"Unnamed: 0\", \"Clean_Text\", \"Emotion\"], axis=1, inplace=True)"
   ]
  },
  {
   "cell_type": "code",
   "execution_count": 10,
   "id": "3bdc8e71-022a-4e1a-81d8-5e4b2e124eb5",
   "metadata": {},
   "outputs": [
    {
     "data": {
      "text/html": [
       "<div>\n",
       "<style scoped>\n",
       "    .dataframe tbody tr th:only-of-type {\n",
       "        vertical-align: middle;\n",
       "    }\n",
       "\n",
       "    .dataframe tbody tr th {\n",
       "        vertical-align: top;\n",
       "    }\n",
       "\n",
       "    .dataframe thead th {\n",
       "        text-align: right;\n",
       "    }\n",
       "</style>\n",
       "<table border=\"1\" class=\"dataframe\">\n",
       "  <thead>\n",
       "    <tr style=\"text-align: right;\">\n",
       "      <th></th>\n",
       "      <th>Text</th>\n",
       "      <th>Emotion_uniform</th>\n",
       "    </tr>\n",
       "  </thead>\n",
       "  <tbody>\n",
       "    <tr>\n",
       "      <th>0</th>\n",
       "      <td>Why ?</td>\n",
       "      <td>1</td>\n",
       "    </tr>\n",
       "    <tr>\n",
       "      <th>1</th>\n",
       "      <td>Sage Act upgrade on my to do list for tommorow.</td>\n",
       "      <td>2</td>\n",
       "    </tr>\n",
       "    <tr>\n",
       "      <th>2</th>\n",
       "      <td>ON THE WAY TO MY HOMEGIRL BABY FUNERAL!!! MAN ...</td>\n",
       "      <td>3</td>\n",
       "    </tr>\n",
       "    <tr>\n",
       "      <th>3</th>\n",
       "      <td>Such an eye ! The true hazel eye-and so brill...</td>\n",
       "      <td>2</td>\n",
       "    </tr>\n",
       "    <tr>\n",
       "      <th>4</th>\n",
       "      <td>@Iluvmiasantos ugh babe.. hugggzzz for u .!  b...</td>\n",
       "      <td>2</td>\n",
       "    </tr>\n",
       "    <tr>\n",
       "      <th>...</th>\n",
       "      <td>...</td>\n",
       "      <td>...</td>\n",
       "    </tr>\n",
       "    <tr>\n",
       "      <th>34787</th>\n",
       "      <td>@MichelGW have you gift! Hope you like it! It'...</td>\n",
       "      <td>0</td>\n",
       "    </tr>\n",
       "    <tr>\n",
       "      <th>34788</th>\n",
       "      <td>The world didnt give it to me..so the world MO...</td>\n",
       "      <td>2</td>\n",
       "    </tr>\n",
       "    <tr>\n",
       "      <th>34789</th>\n",
       "      <td>A man robbed me today .</td>\n",
       "      <td>4</td>\n",
       "    </tr>\n",
       "    <tr>\n",
       "      <th>34790</th>\n",
       "      <td>Youu call it JEALOUSY, I call it of #Losing YO...</td>\n",
       "      <td>5</td>\n",
       "    </tr>\n",
       "    <tr>\n",
       "      <th>34791</th>\n",
       "      <td>I think about you baby, and I dream about you ...</td>\n",
       "      <td>3</td>\n",
       "    </tr>\n",
       "  </tbody>\n",
       "</table>\n",
       "<p>34646 rows × 2 columns</p>\n",
       "</div>"
      ],
      "text/plain": [
       "                                                    Text  Emotion_uniform\n",
       "0                                                 Why ?                 1\n",
       "1        Sage Act upgrade on my to do list for tommorow.                2\n",
       "2      ON THE WAY TO MY HOMEGIRL BABY FUNERAL!!! MAN ...                3\n",
       "3       Such an eye ! The true hazel eye-and so brill...                2\n",
       "4      @Iluvmiasantos ugh babe.. hugggzzz for u .!  b...                2\n",
       "...                                                  ...              ...\n",
       "34787  @MichelGW have you gift! Hope you like it! It'...                0\n",
       "34788  The world didnt give it to me..so the world MO...                2\n",
       "34789                           A man robbed me today .                 4\n",
       "34790  Youu call it JEALOUSY, I call it of #Losing YO...                5\n",
       "34791  I think about you baby, and I dream about you ...                3\n",
       "\n",
       "[34646 rows x 2 columns]"
      ]
     },
     "execution_count": 10,
     "metadata": {},
     "output_type": "execute_result"
    }
   ],
   "source": [
    "df"
   ]
  },
  {
   "cell_type": "markdown",
   "id": "4193d3b0-793d-4623-b6b6-38c29b34f837",
   "metadata": {},
   "source": [
    "Doing text cleaning on our own"
   ]
  },
  {
   "cell_type": "code",
   "execution_count": 11,
   "id": "dbc932db-35d4-44f4-96a7-78abde2621f9",
   "metadata": {},
   "outputs": [],
   "source": [
    "import nltk\n",
    "import string\n",
    "from nltk import word_tokenize\n",
    "from nltk.corpus import stopwords\n",
    "from nltk.stem import WordNetLemmatizer\n",
    "from nltk.tokenize.treebank import TreebankWordDetokenizer\n",
    "\n",
    "stop_words = stopwords.words('english')\n",
    "lemmatizer = WordNetLemmatizer()\n",
    "detokenizer = TreebankWordDetokenizer()"
   ]
  },
  {
   "cell_type": "code",
   "execution_count": 12,
   "id": "4e65e693-cfc3-43b3-9c1d-d28b51ab3485",
   "metadata": {},
   "outputs": [],
   "source": [
    "def clean_text(text):\n",
    "    # remove punctuation\n",
    "    text = text.translate(str.maketrans('', '', string.punctuation))\n",
    "    text = word_tokenize(text)\n",
    "    # remove stopwords\n",
    "    text = [token for token in text if token not in stop_words]\n",
    "    # lemmatizer\n",
    "    text = [lemmatizer.lemmatize(token) for token in text]\n",
    "\n",
    "    # return detokenizer.detokenize(text).strip()\n",
    "    return text"
   ]
  },
  {
   "cell_type": "code",
   "execution_count": 13,
   "id": "ac3f4cb0-fd6f-4965-8040-c4f55698a811",
   "metadata": {},
   "outputs": [
    {
     "data": {
      "application/vnd.jupyter.widget-view+json": {
       "model_id": "ce59ce9d2baf4d3b924ca4364cd9dfac",
       "version_major": 2,
       "version_minor": 0
      },
      "text/plain": [
       "  0%|          | 0/34646 [00:00<?, ?it/s]"
      ]
     },
     "metadata": {},
     "output_type": "display_data"
    },
    {
     "name": "stderr",
     "output_type": "stream",
     "text": [
      "/var/folders/d_/43yhfw3n2wx5mg7dg0cxjld00000gn/T/ipykernel_68114/1937477319.py:1: SettingWithCopyWarning: \n",
      "A value is trying to be set on a copy of a slice from a DataFrame.\n",
      "Try using .loc[row_indexer,col_indexer] = value instead\n",
      "\n",
      "See the caveats in the documentation: https://pandas.pydata.org/pandas-docs/stable/user_guide/indexing.html#returning-a-view-versus-a-copy\n",
      "  df[\"Clean_Text\"] = df[\"Text\"].progress_apply(clean_text)\n"
     ]
    }
   ],
   "source": [
    "df[\"Clean_Text\"] = df[\"Text\"].progress_apply(clean_text)"
   ]
  },
  {
   "cell_type": "markdown",
   "id": "a97142ff-4d43-4180-918b-4e9dc91de9f1",
   "metadata": {},
   "source": [
    "Remove text that are too short"
   ]
  },
  {
   "cell_type": "code",
   "execution_count": 14,
   "id": "ae0f7933-b075-4b43-8d14-d5c14eef5d25",
   "metadata": {},
   "outputs": [
    {
     "data": {
      "text/plain": [
       "(34646, 3)"
      ]
     },
     "execution_count": 14,
     "metadata": {},
     "output_type": "execute_result"
    }
   ],
   "source": [
    "df.shape"
   ]
  },
  {
   "cell_type": "code",
   "execution_count": 15,
   "id": "2be1666f-7c5c-4f94-8c09-5338f8cad55c",
   "metadata": {},
   "outputs": [
    {
     "data": {
      "text/plain": [
       "(31707, 3)"
      ]
     },
     "execution_count": 15,
     "metadata": {},
     "output_type": "execute_result"
    }
   ],
   "source": [
    "df[df[\"Clean_Text\"].apply(len) > 3].shape"
   ]
  },
  {
   "cell_type": "code",
   "execution_count": 16,
   "id": "b29d5844-2f93-4234-8732-81e8d287a864",
   "metadata": {},
   "outputs": [],
   "source": [
    "df = df[df[\"Clean_Text\"].apply(len) > 3]"
   ]
  },
  {
   "cell_type": "code",
   "execution_count": 17,
   "id": "b840c4ae-7148-4b6d-97af-c22b11eccb3c",
   "metadata": {},
   "outputs": [
    {
     "data": {
      "application/vnd.jupyter.widget-view+json": {
       "model_id": "a5a80a9eaa8f4663aa2f57aae8e1553e",
       "version_major": 2,
       "version_minor": 0
      },
      "text/plain": [
       "  0%|          | 0/31707 [00:00<?, ?it/s]"
      ]
     },
     "metadata": {},
     "output_type": "display_data"
    },
    {
     "name": "stderr",
     "output_type": "stream",
     "text": [
      "/var/folders/d_/43yhfw3n2wx5mg7dg0cxjld00000gn/T/ipykernel_68114/3863383790.py:1: SettingWithCopyWarning: \n",
      "A value is trying to be set on a copy of a slice from a DataFrame.\n",
      "Try using .loc[row_indexer,col_indexer] = value instead\n",
      "\n",
      "See the caveats in the documentation: https://pandas.pydata.org/pandas-docs/stable/user_guide/indexing.html#returning-a-view-versus-a-copy\n",
      "  df[\"Clean_Text_detok\"] = df[\"Clean_Text\"].progress_apply(lambda x: detokenizer.detokenize(x).strip())\n"
     ]
    }
   ],
   "source": [
    "df[\"Clean_Text_detok\"] = df[\"Clean_Text\"].progress_apply(lambda x: detokenizer.detokenize(x).strip())"
   ]
  },
  {
   "cell_type": "code",
   "execution_count": 18,
   "id": "368e05ac-dc58-4b16-982d-55f326598d42",
   "metadata": {},
   "outputs": [
    {
     "data": {
      "text/html": [
       "<div>\n",
       "<style scoped>\n",
       "    .dataframe tbody tr th:only-of-type {\n",
       "        vertical-align: middle;\n",
       "    }\n",
       "\n",
       "    .dataframe tbody tr th {\n",
       "        vertical-align: top;\n",
       "    }\n",
       "\n",
       "    .dataframe thead th {\n",
       "        text-align: right;\n",
       "    }\n",
       "</style>\n",
       "<table border=\"1\" class=\"dataframe\">\n",
       "  <thead>\n",
       "    <tr style=\"text-align: right;\">\n",
       "      <th></th>\n",
       "      <th>Text</th>\n",
       "      <th>Emotion_uniform</th>\n",
       "      <th>Clean_Text</th>\n",
       "      <th>Clean_Text_detok</th>\n",
       "    </tr>\n",
       "  </thead>\n",
       "  <tbody>\n",
       "    <tr>\n",
       "      <th>1</th>\n",
       "      <td>Sage Act upgrade on my to do list for tommorow.</td>\n",
       "      <td>2</td>\n",
       "      <td>[Sage, Act, upgrade, list, tommorow]</td>\n",
       "      <td>Sage Act upgrade list tommorow</td>\n",
       "    </tr>\n",
       "    <tr>\n",
       "      <th>2</th>\n",
       "      <td>ON THE WAY TO MY HOMEGIRL BABY FUNERAL!!! MAN ...</td>\n",
       "      <td>3</td>\n",
       "      <td>[ON, THE, WAY, TO, MY, HOMEGIRL, BABY, FUNERAL...</td>\n",
       "      <td>ON THE WAY TO MY HOMEGIRL BABY FUNERAL MAN I H...</td>\n",
       "    </tr>\n",
       "    <tr>\n",
       "      <th>3</th>\n",
       "      <td>Such an eye ! The true hazel eye-and so brill...</td>\n",
       "      <td>2</td>\n",
       "      <td>[Such, eye, The, true, hazel, eyeand, brillian...</td>\n",
       "      <td>Such eye The true hazel eyeand brilliant Regul...</td>\n",
       "    </tr>\n",
       "    <tr>\n",
       "      <th>4</th>\n",
       "      <td>@Iluvmiasantos ugh babe.. hugggzzz for u .!  b...</td>\n",
       "      <td>2</td>\n",
       "      <td>[Iluvmiasantos, ugh, babe, hugggzzz, u, babe, ...</td>\n",
       "      <td>Iluvmiasantos ugh babe hugggzzz u babe naamaze...</td>\n",
       "    </tr>\n",
       "    <tr>\n",
       "      <th>5</th>\n",
       "      <td>I'm expecting an extremely important phonecall...</td>\n",
       "      <td>5</td>\n",
       "      <td>[Im, expecting, extremely, important, phonecal...</td>\n",
       "      <td>Im expecting extremely important phonecall min...</td>\n",
       "    </tr>\n",
       "  </tbody>\n",
       "</table>\n",
       "</div>"
      ],
      "text/plain": [
       "                                                Text  Emotion_uniform  \\\n",
       "1    Sage Act upgrade on my to do list for tommorow.                2   \n",
       "2  ON THE WAY TO MY HOMEGIRL BABY FUNERAL!!! MAN ...                3   \n",
       "3   Such an eye ! The true hazel eye-and so brill...                2   \n",
       "4  @Iluvmiasantos ugh babe.. hugggzzz for u .!  b...                2   \n",
       "5  I'm expecting an extremely important phonecall...                5   \n",
       "\n",
       "                                          Clean_Text  \\\n",
       "1               [Sage, Act, upgrade, list, tommorow]   \n",
       "2  [ON, THE, WAY, TO, MY, HOMEGIRL, BABY, FUNERAL...   \n",
       "3  [Such, eye, The, true, hazel, eyeand, brillian...   \n",
       "4  [Iluvmiasantos, ugh, babe, hugggzzz, u, babe, ...   \n",
       "5  [Im, expecting, extremely, important, phonecal...   \n",
       "\n",
       "                                    Clean_Text_detok  \n",
       "1                     Sage Act upgrade list tommorow  \n",
       "2  ON THE WAY TO MY HOMEGIRL BABY FUNERAL MAN I H...  \n",
       "3  Such eye The true hazel eyeand brilliant Regul...  \n",
       "4  Iluvmiasantos ugh babe hugggzzz u babe naamaze...  \n",
       "5  Im expecting extremely important phonecall min...  "
      ]
     },
     "execution_count": 18,
     "metadata": {},
     "output_type": "execute_result"
    }
   ],
   "source": [
    "df.head()"
   ]
  },
  {
   "cell_type": "markdown",
   "id": "b0aa6eeb-a14b-4c76-a5b9-0c8039a05ec2",
   "metadata": {},
   "source": [
    "# Map Text to Embedding Dimension"
   ]
  },
  {
   "cell_type": "code",
   "execution_count": 19,
   "id": "51ee6ebf-6b60-4cd9-9208-3b63437d18b2",
   "metadata": {},
   "outputs": [],
   "source": [
    "from sklearn.feature_extraction.text import CountVectorizer\n",
    "\n",
    "vectorizer = CountVectorizer(lowercase=True, ngram_range=(1, 3), max_df=0.95, min_df=5)"
   ]
  },
  {
   "cell_type": "code",
   "execution_count": 20,
   "id": "435917d9-ad82-43e9-a43a-3a0b6cd220e1",
   "metadata": {},
   "outputs": [],
   "source": [
    "y = df[\"Emotion_uniform\"]"
   ]
  },
  {
   "cell_type": "code",
   "execution_count": 21,
   "id": "13e81978-90d7-424b-9c9a-903de87036a2",
   "metadata": {},
   "outputs": [],
   "source": [
    "from sklearn.model_selection import train_test_split"
   ]
  },
  {
   "cell_type": "code",
   "execution_count": 22,
   "id": "24194594-52aa-437b-b7de-8f0afd6894b8",
   "metadata": {},
   "outputs": [],
   "source": [
    "# note that sometimes using \"Text\" instead of \"Clean_Text\" column yields better result"
   ]
  },
  {
   "cell_type": "code",
   "execution_count": 23,
   "id": "b325a38c-8576-4349-943f-f5354fd4c8b3",
   "metadata": {},
   "outputs": [],
   "source": [
    "X_lin_train, X_lin_val, y_lin_train, y_lin_val = train_test_split(df[\"Clean_Text_detok\"], y, random_state=3407, test_size=0.2, stratify=y)"
   ]
  },
  {
   "cell_type": "code",
   "execution_count": 24,
   "id": "dfb2e7da-8024-460e-b2ae-b3289937e14c",
   "metadata": {},
   "outputs": [],
   "source": [
    "X_lin_train = vectorizer.fit_transform(X_lin_train)\n",
    "X_lin_val = vectorizer.transform(X_lin_val)"
   ]
  },
  {
   "cell_type": "code",
   "execution_count": 25,
   "id": "5975d3b2-e8f9-46d4-a8b0-cc353994f905",
   "metadata": {},
   "outputs": [],
   "source": [
    "# import tensorflow_hub as hub\n",
    "\n",
    "# module_url = \"https://tfhub.dev/google/universal-sentence-encoder/4\"\n",
    "# use_model = hub.load(module_url)\n",
    "# X_train = use_model(X_train).numpy()\n",
    "# X_val = use_model(X_val).numpy()"
   ]
  },
  {
   "cell_type": "code",
   "execution_count": 26,
   "id": "2bc689c9-5dd7-4916-a258-79f176213380",
   "metadata": {},
   "outputs": [
    {
     "data": {
      "text/plain": [
       "(25365, 8301)"
      ]
     },
     "execution_count": 26,
     "metadata": {},
     "output_type": "execute_result"
    }
   ],
   "source": [
    "X_lin_train.shape"
   ]
  },
  {
   "cell_type": "markdown",
   "id": "ab62ff1b-649b-46a3-9d02-023ffbcc413e",
   "metadata": {},
   "source": [
    "Check if y label is distributed correctly"
   ]
  },
  {
   "cell_type": "code",
   "execution_count": 27,
   "id": "bef5b143-3109-4433-999c-ea9671e7ed26",
   "metadata": {},
   "outputs": [
    {
     "data": {
      "text/plain": [
       "0    3210\n",
       "1     514\n",
       "2    8398\n",
       "3    5122\n",
       "4    3239\n",
       "5    4203\n",
       "6     679\n",
       "Name: Emotion_uniform, dtype: int64"
      ]
     },
     "execution_count": 27,
     "metadata": {},
     "output_type": "execute_result"
    }
   ],
   "source": [
    "y_lin_train.value_counts().sort_index()"
   ]
  },
  {
   "cell_type": "markdown",
   "id": "2909d80d-bccf-4382-8cef-2b0d409ee052",
   "metadata": {},
   "source": [
    "Try SMOTE"
   ]
  },
  {
   "cell_type": "code",
   "execution_count": 28,
   "id": "b9fb02be-d875-4bf0-8ecb-046f88e13950",
   "metadata": {},
   "outputs": [],
   "source": [
    "from imblearn.over_sampling import SMOTE\n",
    "\n",
    "smote = SMOTE(random_state=3407)"
   ]
  },
  {
   "cell_type": "code",
   "execution_count": 29,
   "id": "29ea2a25-49e0-48a3-97e9-4f2ace7da05c",
   "metadata": {},
   "outputs": [],
   "source": [
    "X_lin_train, y_lin_train = smote.fit_resample(X_lin_train, y_lin_train)"
   ]
  },
  {
   "cell_type": "code",
   "execution_count": 30,
   "id": "fdb4ae9b-58da-4f23-8755-8e40bf2ad54e",
   "metadata": {},
   "outputs": [
    {
     "data": {
      "text/plain": [
       "0    8398\n",
       "1    8398\n",
       "2    8398\n",
       "3    8398\n",
       "4    8398\n",
       "5    8398\n",
       "6    8398\n",
       "Name: Emotion_uniform, dtype: int64"
      ]
     },
     "execution_count": 30,
     "metadata": {},
     "output_type": "execute_result"
    }
   ],
   "source": [
    "y_lin_train.value_counts().sort_index()"
   ]
  },
  {
   "cell_type": "code",
   "execution_count": 31,
   "id": "bfd34370-38b9-4e35-946b-62fe91838c14",
   "metadata": {},
   "outputs": [
    {
     "data": {
      "text/plain": [
       "0     803\n",
       "1     128\n",
       "2    2100\n",
       "3    1281\n",
       "4     810\n",
       "5    1051\n",
       "6     169\n",
       "Name: Emotion_uniform, dtype: int64"
      ]
     },
     "execution_count": 31,
     "metadata": {},
     "output_type": "execute_result"
    }
   ],
   "source": [
    "y_lin_val.value_counts().sort_index()"
   ]
  },
  {
   "cell_type": "code",
   "execution_count": 32,
   "id": "aad67e2f-6b09-445c-a8b0-0e999787b73d",
   "metadata": {},
   "outputs": [],
   "source": [
    "import torch\n",
    "from torch.utils.data import Dataset, DataLoader"
   ]
  },
  {
   "cell_type": "code",
   "execution_count": 33,
   "id": "79beb565-0530-4154-83d8-57c6bf872563",
   "metadata": {},
   "outputs": [],
   "source": [
    "from utils import torch_device_seed, check_gpu, clear_device_cache"
   ]
  },
  {
   "cell_type": "code",
   "execution_count": 34,
   "id": "6630df3e-00e9-4995-a9b9-92a6205c781c",
   "metadata": {},
   "outputs": [],
   "source": [
    "np.random.seed(3407)\n",
    "torch.manual_seed(3407)\n",
    "torch_device_seed(3407)"
   ]
  },
  {
   "cell_type": "code",
   "execution_count": 35,
   "id": "f20df241-697f-42b9-bbf8-d922cbaf9f10",
   "metadata": {},
   "outputs": [
    {
     "data": {
      "text/plain": [
       "array([4, 2, 5, ..., 0, 2, 4])"
      ]
     },
     "execution_count": 35,
     "metadata": {},
     "output_type": "execute_result"
    }
   ],
   "source": [
    "y_lin_val.to_numpy()"
   ]
  },
  {
   "cell_type": "markdown",
   "id": "ae405ee7-6b9a-4b6a-a5ce-2008bf29829c",
   "metadata": {},
   "source": [
    "# Modelling"
   ]
  },
  {
   "cell_type": "code",
   "execution_count": 36,
   "id": "10cf1a37-1395-4264-84ad-eb9ef54c4956",
   "metadata": {},
   "outputs": [],
   "source": [
    "import gc\n",
    "import torch.nn as nn\n",
    "import torch.nn.functional as F\n",
    "import torch.optim as optim"
   ]
  },
  {
   "cell_type": "code",
   "execution_count": 37,
   "id": "03122c14-c560-408c-b05b-e21bae1deed0",
   "metadata": {},
   "outputs": [],
   "source": [
    "device = check_gpu()"
   ]
  },
  {
   "cell_type": "code",
   "execution_count": 38,
   "id": "6377fb2e-394e-41ac-8eca-ffa4a8227dc1",
   "metadata": {},
   "outputs": [
    {
     "data": {
      "text/plain": [
       "device(type='mps')"
      ]
     },
     "execution_count": 38,
     "metadata": {},
     "output_type": "execute_result"
    }
   ],
   "source": [
    "device"
   ]
  },
  {
   "cell_type": "markdown",
   "id": "1bc70b01-80bd-40f0-b99d-174f2f1b4d9d",
   "metadata": {},
   "source": [
    "## Non-NN Models"
   ]
  },
  {
   "cell_type": "code",
   "execution_count": 39,
   "id": "025bd60f-5e8b-4d91-9a9a-8c7bb9ed5f22",
   "metadata": {},
   "outputs": [],
   "source": [
    "from sklearn.linear_model import LogisticRegression\n",
    "from sklearn.ensemble import RandomForestClassifier\n",
    "from xgboost import XGBClassifier\n",
    "\n",
    "from sklearn.metrics import accuracy_score"
   ]
  },
  {
   "cell_type": "code",
   "execution_count": 40,
   "id": "7625dcf9-6a65-4b0b-9bae-58602b3e47bc",
   "metadata": {},
   "outputs": [
    {
     "data": {
      "text/html": [
       "<style>#sk-container-id-1 {\n",
       "  /* Definition of color scheme common for light and dark mode */\n",
       "  --sklearn-color-text: black;\n",
       "  --sklearn-color-line: gray;\n",
       "  /* Definition of color scheme for unfitted estimators */\n",
       "  --sklearn-color-unfitted-level-0: #fff5e6;\n",
       "  --sklearn-color-unfitted-level-1: #f6e4d2;\n",
       "  --sklearn-color-unfitted-level-2: #ffe0b3;\n",
       "  --sklearn-color-unfitted-level-3: chocolate;\n",
       "  /* Definition of color scheme for fitted estimators */\n",
       "  --sklearn-color-fitted-level-0: #f0f8ff;\n",
       "  --sklearn-color-fitted-level-1: #d4ebff;\n",
       "  --sklearn-color-fitted-level-2: #b3dbfd;\n",
       "  --sklearn-color-fitted-level-3: cornflowerblue;\n",
       "\n",
       "  /* Specific color for light theme */\n",
       "  --sklearn-color-text-on-default-background: var(--sg-text-color, var(--theme-code-foreground, var(--jp-content-font-color1, black)));\n",
       "  --sklearn-color-background: var(--sg-background-color, var(--theme-background, var(--jp-layout-color0, white)));\n",
       "  --sklearn-color-border-box: var(--sg-text-color, var(--theme-code-foreground, var(--jp-content-font-color1, black)));\n",
       "  --sklearn-color-icon: #696969;\n",
       "\n",
       "  @media (prefers-color-scheme: dark) {\n",
       "    /* Redefinition of color scheme for dark theme */\n",
       "    --sklearn-color-text-on-default-background: var(--sg-text-color, var(--theme-code-foreground, var(--jp-content-font-color1, white)));\n",
       "    --sklearn-color-background: var(--sg-background-color, var(--theme-background, var(--jp-layout-color0, #111)));\n",
       "    --sklearn-color-border-box: var(--sg-text-color, var(--theme-code-foreground, var(--jp-content-font-color1, white)));\n",
       "    --sklearn-color-icon: #878787;\n",
       "  }\n",
       "}\n",
       "\n",
       "#sk-container-id-1 {\n",
       "  color: var(--sklearn-color-text);\n",
       "}\n",
       "\n",
       "#sk-container-id-1 pre {\n",
       "  padding: 0;\n",
       "}\n",
       "\n",
       "#sk-container-id-1 input.sk-hidden--visually {\n",
       "  border: 0;\n",
       "  clip: rect(1px 1px 1px 1px);\n",
       "  clip: rect(1px, 1px, 1px, 1px);\n",
       "  height: 1px;\n",
       "  margin: -1px;\n",
       "  overflow: hidden;\n",
       "  padding: 0;\n",
       "  position: absolute;\n",
       "  width: 1px;\n",
       "}\n",
       "\n",
       "#sk-container-id-1 div.sk-dashed-wrapped {\n",
       "  border: 1px dashed var(--sklearn-color-line);\n",
       "  margin: 0 0.4em 0.5em 0.4em;\n",
       "  box-sizing: border-box;\n",
       "  padding-bottom: 0.4em;\n",
       "  background-color: var(--sklearn-color-background);\n",
       "}\n",
       "\n",
       "#sk-container-id-1 div.sk-container {\n",
       "  /* jupyter's `normalize.less` sets `[hidden] { display: none; }`\n",
       "     but bootstrap.min.css set `[hidden] { display: none !important; }`\n",
       "     so we also need the `!important` here to be able to override the\n",
       "     default hidden behavior on the sphinx rendered scikit-learn.org.\n",
       "     See: https://github.com/scikit-learn/scikit-learn/issues/21755 */\n",
       "  display: inline-block !important;\n",
       "  position: relative;\n",
       "}\n",
       "\n",
       "#sk-container-id-1 div.sk-text-repr-fallback {\n",
       "  display: none;\n",
       "}\n",
       "\n",
       "div.sk-parallel-item,\n",
       "div.sk-serial,\n",
       "div.sk-item {\n",
       "  /* draw centered vertical line to link estimators */\n",
       "  background-image: linear-gradient(var(--sklearn-color-text-on-default-background), var(--sklearn-color-text-on-default-background));\n",
       "  background-size: 2px 100%;\n",
       "  background-repeat: no-repeat;\n",
       "  background-position: center center;\n",
       "}\n",
       "\n",
       "/* Parallel-specific style estimator block */\n",
       "\n",
       "#sk-container-id-1 div.sk-parallel-item::after {\n",
       "  content: \"\";\n",
       "  width: 100%;\n",
       "  border-bottom: 2px solid var(--sklearn-color-text-on-default-background);\n",
       "  flex-grow: 1;\n",
       "}\n",
       "\n",
       "#sk-container-id-1 div.sk-parallel {\n",
       "  display: flex;\n",
       "  align-items: stretch;\n",
       "  justify-content: center;\n",
       "  background-color: var(--sklearn-color-background);\n",
       "  position: relative;\n",
       "}\n",
       "\n",
       "#sk-container-id-1 div.sk-parallel-item {\n",
       "  display: flex;\n",
       "  flex-direction: column;\n",
       "}\n",
       "\n",
       "#sk-container-id-1 div.sk-parallel-item:first-child::after {\n",
       "  align-self: flex-end;\n",
       "  width: 50%;\n",
       "}\n",
       "\n",
       "#sk-container-id-1 div.sk-parallel-item:last-child::after {\n",
       "  align-self: flex-start;\n",
       "  width: 50%;\n",
       "}\n",
       "\n",
       "#sk-container-id-1 div.sk-parallel-item:only-child::after {\n",
       "  width: 0;\n",
       "}\n",
       "\n",
       "/* Serial-specific style estimator block */\n",
       "\n",
       "#sk-container-id-1 div.sk-serial {\n",
       "  display: flex;\n",
       "  flex-direction: column;\n",
       "  align-items: center;\n",
       "  background-color: var(--sklearn-color-background);\n",
       "  padding-right: 1em;\n",
       "  padding-left: 1em;\n",
       "}\n",
       "\n",
       "\n",
       "/* Toggleable style: style used for estimator/Pipeline/ColumnTransformer box that is\n",
       "clickable and can be expanded/collapsed.\n",
       "- Pipeline and ColumnTransformer use this feature and define the default style\n",
       "- Estimators will overwrite some part of the style using the `sk-estimator` class\n",
       "*/\n",
       "\n",
       "/* Pipeline and ColumnTransformer style (default) */\n",
       "\n",
       "#sk-container-id-1 div.sk-toggleable {\n",
       "  /* Default theme specific background. It is overwritten whether we have a\n",
       "  specific estimator or a Pipeline/ColumnTransformer */\n",
       "  background-color: var(--sklearn-color-background);\n",
       "}\n",
       "\n",
       "/* Toggleable label */\n",
       "#sk-container-id-1 label.sk-toggleable__label {\n",
       "  cursor: pointer;\n",
       "  display: block;\n",
       "  width: 100%;\n",
       "  margin-bottom: 0;\n",
       "  padding: 0.5em;\n",
       "  box-sizing: border-box;\n",
       "  text-align: center;\n",
       "}\n",
       "\n",
       "#sk-container-id-1 label.sk-toggleable__label-arrow:before {\n",
       "  /* Arrow on the left of the label */\n",
       "  content: \"▸\";\n",
       "  float: left;\n",
       "  margin-right: 0.25em;\n",
       "  color: var(--sklearn-color-icon);\n",
       "}\n",
       "\n",
       "#sk-container-id-1 label.sk-toggleable__label-arrow:hover:before {\n",
       "  color: var(--sklearn-color-text);\n",
       "}\n",
       "\n",
       "/* Toggleable content - dropdown */\n",
       "\n",
       "#sk-container-id-1 div.sk-toggleable__content {\n",
       "  max-height: 0;\n",
       "  max-width: 0;\n",
       "  overflow: hidden;\n",
       "  text-align: left;\n",
       "  /* unfitted */\n",
       "  background-color: var(--sklearn-color-unfitted-level-0);\n",
       "}\n",
       "\n",
       "#sk-container-id-1 div.sk-toggleable__content.fitted {\n",
       "  /* fitted */\n",
       "  background-color: var(--sklearn-color-fitted-level-0);\n",
       "}\n",
       "\n",
       "#sk-container-id-1 div.sk-toggleable__content pre {\n",
       "  margin: 0.2em;\n",
       "  border-radius: 0.25em;\n",
       "  color: var(--sklearn-color-text);\n",
       "  /* unfitted */\n",
       "  background-color: var(--sklearn-color-unfitted-level-0);\n",
       "}\n",
       "\n",
       "#sk-container-id-1 div.sk-toggleable__content.fitted pre {\n",
       "  /* unfitted */\n",
       "  background-color: var(--sklearn-color-fitted-level-0);\n",
       "}\n",
       "\n",
       "#sk-container-id-1 input.sk-toggleable__control:checked~div.sk-toggleable__content {\n",
       "  /* Expand drop-down */\n",
       "  max-height: 200px;\n",
       "  max-width: 100%;\n",
       "  overflow: auto;\n",
       "}\n",
       "\n",
       "#sk-container-id-1 input.sk-toggleable__control:checked~label.sk-toggleable__label-arrow:before {\n",
       "  content: \"▾\";\n",
       "}\n",
       "\n",
       "/* Pipeline/ColumnTransformer-specific style */\n",
       "\n",
       "#sk-container-id-1 div.sk-label input.sk-toggleable__control:checked~label.sk-toggleable__label {\n",
       "  color: var(--sklearn-color-text);\n",
       "  background-color: var(--sklearn-color-unfitted-level-2);\n",
       "}\n",
       "\n",
       "#sk-container-id-1 div.sk-label.fitted input.sk-toggleable__control:checked~label.sk-toggleable__label {\n",
       "  background-color: var(--sklearn-color-fitted-level-2);\n",
       "}\n",
       "\n",
       "/* Estimator-specific style */\n",
       "\n",
       "/* Colorize estimator box */\n",
       "#sk-container-id-1 div.sk-estimator input.sk-toggleable__control:checked~label.sk-toggleable__label {\n",
       "  /* unfitted */\n",
       "  background-color: var(--sklearn-color-unfitted-level-2);\n",
       "}\n",
       "\n",
       "#sk-container-id-1 div.sk-estimator.fitted input.sk-toggleable__control:checked~label.sk-toggleable__label {\n",
       "  /* fitted */\n",
       "  background-color: var(--sklearn-color-fitted-level-2);\n",
       "}\n",
       "\n",
       "#sk-container-id-1 div.sk-label label.sk-toggleable__label,\n",
       "#sk-container-id-1 div.sk-label label {\n",
       "  /* The background is the default theme color */\n",
       "  color: var(--sklearn-color-text-on-default-background);\n",
       "}\n",
       "\n",
       "/* On hover, darken the color of the background */\n",
       "#sk-container-id-1 div.sk-label:hover label.sk-toggleable__label {\n",
       "  color: var(--sklearn-color-text);\n",
       "  background-color: var(--sklearn-color-unfitted-level-2);\n",
       "}\n",
       "\n",
       "/* Label box, darken color on hover, fitted */\n",
       "#sk-container-id-1 div.sk-label.fitted:hover label.sk-toggleable__label.fitted {\n",
       "  color: var(--sklearn-color-text);\n",
       "  background-color: var(--sklearn-color-fitted-level-2);\n",
       "}\n",
       "\n",
       "/* Estimator label */\n",
       "\n",
       "#sk-container-id-1 div.sk-label label {\n",
       "  font-family: monospace;\n",
       "  font-weight: bold;\n",
       "  display: inline-block;\n",
       "  line-height: 1.2em;\n",
       "}\n",
       "\n",
       "#sk-container-id-1 div.sk-label-container {\n",
       "  text-align: center;\n",
       "}\n",
       "\n",
       "/* Estimator-specific */\n",
       "#sk-container-id-1 div.sk-estimator {\n",
       "  font-family: monospace;\n",
       "  border: 1px dotted var(--sklearn-color-border-box);\n",
       "  border-radius: 0.25em;\n",
       "  box-sizing: border-box;\n",
       "  margin-bottom: 0.5em;\n",
       "  /* unfitted */\n",
       "  background-color: var(--sklearn-color-unfitted-level-0);\n",
       "}\n",
       "\n",
       "#sk-container-id-1 div.sk-estimator.fitted {\n",
       "  /* fitted */\n",
       "  background-color: var(--sklearn-color-fitted-level-0);\n",
       "}\n",
       "\n",
       "/* on hover */\n",
       "#sk-container-id-1 div.sk-estimator:hover {\n",
       "  /* unfitted */\n",
       "  background-color: var(--sklearn-color-unfitted-level-2);\n",
       "}\n",
       "\n",
       "#sk-container-id-1 div.sk-estimator.fitted:hover {\n",
       "  /* fitted */\n",
       "  background-color: var(--sklearn-color-fitted-level-2);\n",
       "}\n",
       "\n",
       "/* Specification for estimator info (e.g. \"i\" and \"?\") */\n",
       "\n",
       "/* Common style for \"i\" and \"?\" */\n",
       "\n",
       ".sk-estimator-doc-link,\n",
       "a:link.sk-estimator-doc-link,\n",
       "a:visited.sk-estimator-doc-link {\n",
       "  float: right;\n",
       "  font-size: smaller;\n",
       "  line-height: 1em;\n",
       "  font-family: monospace;\n",
       "  background-color: var(--sklearn-color-background);\n",
       "  border-radius: 1em;\n",
       "  height: 1em;\n",
       "  width: 1em;\n",
       "  text-decoration: none !important;\n",
       "  margin-left: 1ex;\n",
       "  /* unfitted */\n",
       "  border: var(--sklearn-color-unfitted-level-1) 1pt solid;\n",
       "  color: var(--sklearn-color-unfitted-level-1);\n",
       "}\n",
       "\n",
       ".sk-estimator-doc-link.fitted,\n",
       "a:link.sk-estimator-doc-link.fitted,\n",
       "a:visited.sk-estimator-doc-link.fitted {\n",
       "  /* fitted */\n",
       "  border: var(--sklearn-color-fitted-level-1) 1pt solid;\n",
       "  color: var(--sklearn-color-fitted-level-1);\n",
       "}\n",
       "\n",
       "/* On hover */\n",
       "div.sk-estimator:hover .sk-estimator-doc-link:hover,\n",
       ".sk-estimator-doc-link:hover,\n",
       "div.sk-label-container:hover .sk-estimator-doc-link:hover,\n",
       ".sk-estimator-doc-link:hover {\n",
       "  /* unfitted */\n",
       "  background-color: var(--sklearn-color-unfitted-level-3);\n",
       "  color: var(--sklearn-color-background);\n",
       "  text-decoration: none;\n",
       "}\n",
       "\n",
       "div.sk-estimator.fitted:hover .sk-estimator-doc-link.fitted:hover,\n",
       ".sk-estimator-doc-link.fitted:hover,\n",
       "div.sk-label-container:hover .sk-estimator-doc-link.fitted:hover,\n",
       ".sk-estimator-doc-link.fitted:hover {\n",
       "  /* fitted */\n",
       "  background-color: var(--sklearn-color-fitted-level-3);\n",
       "  color: var(--sklearn-color-background);\n",
       "  text-decoration: none;\n",
       "}\n",
       "\n",
       "/* Span, style for the box shown on hovering the info icon */\n",
       ".sk-estimator-doc-link span {\n",
       "  display: none;\n",
       "  z-index: 9999;\n",
       "  position: relative;\n",
       "  font-weight: normal;\n",
       "  right: .2ex;\n",
       "  padding: .5ex;\n",
       "  margin: .5ex;\n",
       "  width: min-content;\n",
       "  min-width: 20ex;\n",
       "  max-width: 50ex;\n",
       "  color: var(--sklearn-color-text);\n",
       "  box-shadow: 2pt 2pt 4pt #999;\n",
       "  /* unfitted */\n",
       "  background: var(--sklearn-color-unfitted-level-0);\n",
       "  border: .5pt solid var(--sklearn-color-unfitted-level-3);\n",
       "}\n",
       "\n",
       ".sk-estimator-doc-link.fitted span {\n",
       "  /* fitted */\n",
       "  background: var(--sklearn-color-fitted-level-0);\n",
       "  border: var(--sklearn-color-fitted-level-3);\n",
       "}\n",
       "\n",
       ".sk-estimator-doc-link:hover span {\n",
       "  display: block;\n",
       "}\n",
       "\n",
       "/* \"?\"-specific style due to the `<a>` HTML tag */\n",
       "\n",
       "#sk-container-id-1 a.estimator_doc_link {\n",
       "  float: right;\n",
       "  font-size: 1rem;\n",
       "  line-height: 1em;\n",
       "  font-family: monospace;\n",
       "  background-color: var(--sklearn-color-background);\n",
       "  border-radius: 1rem;\n",
       "  height: 1rem;\n",
       "  width: 1rem;\n",
       "  text-decoration: none;\n",
       "  /* unfitted */\n",
       "  color: var(--sklearn-color-unfitted-level-1);\n",
       "  border: var(--sklearn-color-unfitted-level-1) 1pt solid;\n",
       "}\n",
       "\n",
       "#sk-container-id-1 a.estimator_doc_link.fitted {\n",
       "  /* fitted */\n",
       "  border: var(--sklearn-color-fitted-level-1) 1pt solid;\n",
       "  color: var(--sklearn-color-fitted-level-1);\n",
       "}\n",
       "\n",
       "/* On hover */\n",
       "#sk-container-id-1 a.estimator_doc_link:hover {\n",
       "  /* unfitted */\n",
       "  background-color: var(--sklearn-color-unfitted-level-3);\n",
       "  color: var(--sklearn-color-background);\n",
       "  text-decoration: none;\n",
       "}\n",
       "\n",
       "#sk-container-id-1 a.estimator_doc_link.fitted:hover {\n",
       "  /* fitted */\n",
       "  background-color: var(--sklearn-color-fitted-level-3);\n",
       "}\n",
       "</style><div id=\"sk-container-id-1\" class=\"sk-top-container\"><div class=\"sk-text-repr-fallback\"><pre>LogisticRegression(multi_class=&#x27;ovr&#x27;, random_state=3407)</pre><b>In a Jupyter environment, please rerun this cell to show the HTML representation or trust the notebook. <br />On GitHub, the HTML representation is unable to render, please try loading this page with nbviewer.org.</b></div><div class=\"sk-container\" hidden><div class=\"sk-item\"><div class=\"sk-estimator fitted sk-toggleable\"><input class=\"sk-toggleable__control sk-hidden--visually\" id=\"sk-estimator-id-1\" type=\"checkbox\" checked><label for=\"sk-estimator-id-1\" class=\"sk-toggleable__label fitted sk-toggleable__label-arrow fitted\">&nbsp;&nbsp;LogisticRegression<a class=\"sk-estimator-doc-link fitted\" rel=\"noreferrer\" target=\"_blank\" href=\"https://scikit-learn.org/1.4/modules/generated/sklearn.linear_model.LogisticRegression.html\">?<span>Documentation for LogisticRegression</span></a><span class=\"sk-estimator-doc-link fitted\">i<span>Fitted</span></span></label><div class=\"sk-toggleable__content fitted\"><pre>LogisticRegression(multi_class=&#x27;ovr&#x27;, random_state=3407)</pre></div> </div></div></div></div>"
      ],
      "text/plain": [
       "LogisticRegression(multi_class='ovr', random_state=3407)"
      ]
     },
     "execution_count": 40,
     "metadata": {},
     "output_type": "execute_result"
    }
   ],
   "source": [
    "logreg = LogisticRegression(multi_class='ovr', random_state=3407)\n",
    "\n",
    "logreg.fit(X_lin_train, y_lin_train)"
   ]
  },
  {
   "cell_type": "code",
   "execution_count": 41,
   "id": "32560ac4-46c7-4015-a58e-b9712976d002",
   "metadata": {},
   "outputs": [
    {
     "data": {
      "text/html": [
       "<style>#sk-container-id-2 {\n",
       "  /* Definition of color scheme common for light and dark mode */\n",
       "  --sklearn-color-text: black;\n",
       "  --sklearn-color-line: gray;\n",
       "  /* Definition of color scheme for unfitted estimators */\n",
       "  --sklearn-color-unfitted-level-0: #fff5e6;\n",
       "  --sklearn-color-unfitted-level-1: #f6e4d2;\n",
       "  --sklearn-color-unfitted-level-2: #ffe0b3;\n",
       "  --sklearn-color-unfitted-level-3: chocolate;\n",
       "  /* Definition of color scheme for fitted estimators */\n",
       "  --sklearn-color-fitted-level-0: #f0f8ff;\n",
       "  --sklearn-color-fitted-level-1: #d4ebff;\n",
       "  --sklearn-color-fitted-level-2: #b3dbfd;\n",
       "  --sklearn-color-fitted-level-3: cornflowerblue;\n",
       "\n",
       "  /* Specific color for light theme */\n",
       "  --sklearn-color-text-on-default-background: var(--sg-text-color, var(--theme-code-foreground, var(--jp-content-font-color1, black)));\n",
       "  --sklearn-color-background: var(--sg-background-color, var(--theme-background, var(--jp-layout-color0, white)));\n",
       "  --sklearn-color-border-box: var(--sg-text-color, var(--theme-code-foreground, var(--jp-content-font-color1, black)));\n",
       "  --sklearn-color-icon: #696969;\n",
       "\n",
       "  @media (prefers-color-scheme: dark) {\n",
       "    /* Redefinition of color scheme for dark theme */\n",
       "    --sklearn-color-text-on-default-background: var(--sg-text-color, var(--theme-code-foreground, var(--jp-content-font-color1, white)));\n",
       "    --sklearn-color-background: var(--sg-background-color, var(--theme-background, var(--jp-layout-color0, #111)));\n",
       "    --sklearn-color-border-box: var(--sg-text-color, var(--theme-code-foreground, var(--jp-content-font-color1, white)));\n",
       "    --sklearn-color-icon: #878787;\n",
       "  }\n",
       "}\n",
       "\n",
       "#sk-container-id-2 {\n",
       "  color: var(--sklearn-color-text);\n",
       "}\n",
       "\n",
       "#sk-container-id-2 pre {\n",
       "  padding: 0;\n",
       "}\n",
       "\n",
       "#sk-container-id-2 input.sk-hidden--visually {\n",
       "  border: 0;\n",
       "  clip: rect(1px 1px 1px 1px);\n",
       "  clip: rect(1px, 1px, 1px, 1px);\n",
       "  height: 1px;\n",
       "  margin: -1px;\n",
       "  overflow: hidden;\n",
       "  padding: 0;\n",
       "  position: absolute;\n",
       "  width: 1px;\n",
       "}\n",
       "\n",
       "#sk-container-id-2 div.sk-dashed-wrapped {\n",
       "  border: 1px dashed var(--sklearn-color-line);\n",
       "  margin: 0 0.4em 0.5em 0.4em;\n",
       "  box-sizing: border-box;\n",
       "  padding-bottom: 0.4em;\n",
       "  background-color: var(--sklearn-color-background);\n",
       "}\n",
       "\n",
       "#sk-container-id-2 div.sk-container {\n",
       "  /* jupyter's `normalize.less` sets `[hidden] { display: none; }`\n",
       "     but bootstrap.min.css set `[hidden] { display: none !important; }`\n",
       "     so we also need the `!important` here to be able to override the\n",
       "     default hidden behavior on the sphinx rendered scikit-learn.org.\n",
       "     See: https://github.com/scikit-learn/scikit-learn/issues/21755 */\n",
       "  display: inline-block !important;\n",
       "  position: relative;\n",
       "}\n",
       "\n",
       "#sk-container-id-2 div.sk-text-repr-fallback {\n",
       "  display: none;\n",
       "}\n",
       "\n",
       "div.sk-parallel-item,\n",
       "div.sk-serial,\n",
       "div.sk-item {\n",
       "  /* draw centered vertical line to link estimators */\n",
       "  background-image: linear-gradient(var(--sklearn-color-text-on-default-background), var(--sklearn-color-text-on-default-background));\n",
       "  background-size: 2px 100%;\n",
       "  background-repeat: no-repeat;\n",
       "  background-position: center center;\n",
       "}\n",
       "\n",
       "/* Parallel-specific style estimator block */\n",
       "\n",
       "#sk-container-id-2 div.sk-parallel-item::after {\n",
       "  content: \"\";\n",
       "  width: 100%;\n",
       "  border-bottom: 2px solid var(--sklearn-color-text-on-default-background);\n",
       "  flex-grow: 1;\n",
       "}\n",
       "\n",
       "#sk-container-id-2 div.sk-parallel {\n",
       "  display: flex;\n",
       "  align-items: stretch;\n",
       "  justify-content: center;\n",
       "  background-color: var(--sklearn-color-background);\n",
       "  position: relative;\n",
       "}\n",
       "\n",
       "#sk-container-id-2 div.sk-parallel-item {\n",
       "  display: flex;\n",
       "  flex-direction: column;\n",
       "}\n",
       "\n",
       "#sk-container-id-2 div.sk-parallel-item:first-child::after {\n",
       "  align-self: flex-end;\n",
       "  width: 50%;\n",
       "}\n",
       "\n",
       "#sk-container-id-2 div.sk-parallel-item:last-child::after {\n",
       "  align-self: flex-start;\n",
       "  width: 50%;\n",
       "}\n",
       "\n",
       "#sk-container-id-2 div.sk-parallel-item:only-child::after {\n",
       "  width: 0;\n",
       "}\n",
       "\n",
       "/* Serial-specific style estimator block */\n",
       "\n",
       "#sk-container-id-2 div.sk-serial {\n",
       "  display: flex;\n",
       "  flex-direction: column;\n",
       "  align-items: center;\n",
       "  background-color: var(--sklearn-color-background);\n",
       "  padding-right: 1em;\n",
       "  padding-left: 1em;\n",
       "}\n",
       "\n",
       "\n",
       "/* Toggleable style: style used for estimator/Pipeline/ColumnTransformer box that is\n",
       "clickable and can be expanded/collapsed.\n",
       "- Pipeline and ColumnTransformer use this feature and define the default style\n",
       "- Estimators will overwrite some part of the style using the `sk-estimator` class\n",
       "*/\n",
       "\n",
       "/* Pipeline and ColumnTransformer style (default) */\n",
       "\n",
       "#sk-container-id-2 div.sk-toggleable {\n",
       "  /* Default theme specific background. It is overwritten whether we have a\n",
       "  specific estimator or a Pipeline/ColumnTransformer */\n",
       "  background-color: var(--sklearn-color-background);\n",
       "}\n",
       "\n",
       "/* Toggleable label */\n",
       "#sk-container-id-2 label.sk-toggleable__label {\n",
       "  cursor: pointer;\n",
       "  display: block;\n",
       "  width: 100%;\n",
       "  margin-bottom: 0;\n",
       "  padding: 0.5em;\n",
       "  box-sizing: border-box;\n",
       "  text-align: center;\n",
       "}\n",
       "\n",
       "#sk-container-id-2 label.sk-toggleable__label-arrow:before {\n",
       "  /* Arrow on the left of the label */\n",
       "  content: \"▸\";\n",
       "  float: left;\n",
       "  margin-right: 0.25em;\n",
       "  color: var(--sklearn-color-icon);\n",
       "}\n",
       "\n",
       "#sk-container-id-2 label.sk-toggleable__label-arrow:hover:before {\n",
       "  color: var(--sklearn-color-text);\n",
       "}\n",
       "\n",
       "/* Toggleable content - dropdown */\n",
       "\n",
       "#sk-container-id-2 div.sk-toggleable__content {\n",
       "  max-height: 0;\n",
       "  max-width: 0;\n",
       "  overflow: hidden;\n",
       "  text-align: left;\n",
       "  /* unfitted */\n",
       "  background-color: var(--sklearn-color-unfitted-level-0);\n",
       "}\n",
       "\n",
       "#sk-container-id-2 div.sk-toggleable__content.fitted {\n",
       "  /* fitted */\n",
       "  background-color: var(--sklearn-color-fitted-level-0);\n",
       "}\n",
       "\n",
       "#sk-container-id-2 div.sk-toggleable__content pre {\n",
       "  margin: 0.2em;\n",
       "  border-radius: 0.25em;\n",
       "  color: var(--sklearn-color-text);\n",
       "  /* unfitted */\n",
       "  background-color: var(--sklearn-color-unfitted-level-0);\n",
       "}\n",
       "\n",
       "#sk-container-id-2 div.sk-toggleable__content.fitted pre {\n",
       "  /* unfitted */\n",
       "  background-color: var(--sklearn-color-fitted-level-0);\n",
       "}\n",
       "\n",
       "#sk-container-id-2 input.sk-toggleable__control:checked~div.sk-toggleable__content {\n",
       "  /* Expand drop-down */\n",
       "  max-height: 200px;\n",
       "  max-width: 100%;\n",
       "  overflow: auto;\n",
       "}\n",
       "\n",
       "#sk-container-id-2 input.sk-toggleable__control:checked~label.sk-toggleable__label-arrow:before {\n",
       "  content: \"▾\";\n",
       "}\n",
       "\n",
       "/* Pipeline/ColumnTransformer-specific style */\n",
       "\n",
       "#sk-container-id-2 div.sk-label input.sk-toggleable__control:checked~label.sk-toggleable__label {\n",
       "  color: var(--sklearn-color-text);\n",
       "  background-color: var(--sklearn-color-unfitted-level-2);\n",
       "}\n",
       "\n",
       "#sk-container-id-2 div.sk-label.fitted input.sk-toggleable__control:checked~label.sk-toggleable__label {\n",
       "  background-color: var(--sklearn-color-fitted-level-2);\n",
       "}\n",
       "\n",
       "/* Estimator-specific style */\n",
       "\n",
       "/* Colorize estimator box */\n",
       "#sk-container-id-2 div.sk-estimator input.sk-toggleable__control:checked~label.sk-toggleable__label {\n",
       "  /* unfitted */\n",
       "  background-color: var(--sklearn-color-unfitted-level-2);\n",
       "}\n",
       "\n",
       "#sk-container-id-2 div.sk-estimator.fitted input.sk-toggleable__control:checked~label.sk-toggleable__label {\n",
       "  /* fitted */\n",
       "  background-color: var(--sklearn-color-fitted-level-2);\n",
       "}\n",
       "\n",
       "#sk-container-id-2 div.sk-label label.sk-toggleable__label,\n",
       "#sk-container-id-2 div.sk-label label {\n",
       "  /* The background is the default theme color */\n",
       "  color: var(--sklearn-color-text-on-default-background);\n",
       "}\n",
       "\n",
       "/* On hover, darken the color of the background */\n",
       "#sk-container-id-2 div.sk-label:hover label.sk-toggleable__label {\n",
       "  color: var(--sklearn-color-text);\n",
       "  background-color: var(--sklearn-color-unfitted-level-2);\n",
       "}\n",
       "\n",
       "/* Label box, darken color on hover, fitted */\n",
       "#sk-container-id-2 div.sk-label.fitted:hover label.sk-toggleable__label.fitted {\n",
       "  color: var(--sklearn-color-text);\n",
       "  background-color: var(--sklearn-color-fitted-level-2);\n",
       "}\n",
       "\n",
       "/* Estimator label */\n",
       "\n",
       "#sk-container-id-2 div.sk-label label {\n",
       "  font-family: monospace;\n",
       "  font-weight: bold;\n",
       "  display: inline-block;\n",
       "  line-height: 1.2em;\n",
       "}\n",
       "\n",
       "#sk-container-id-2 div.sk-label-container {\n",
       "  text-align: center;\n",
       "}\n",
       "\n",
       "/* Estimator-specific */\n",
       "#sk-container-id-2 div.sk-estimator {\n",
       "  font-family: monospace;\n",
       "  border: 1px dotted var(--sklearn-color-border-box);\n",
       "  border-radius: 0.25em;\n",
       "  box-sizing: border-box;\n",
       "  margin-bottom: 0.5em;\n",
       "  /* unfitted */\n",
       "  background-color: var(--sklearn-color-unfitted-level-0);\n",
       "}\n",
       "\n",
       "#sk-container-id-2 div.sk-estimator.fitted {\n",
       "  /* fitted */\n",
       "  background-color: var(--sklearn-color-fitted-level-0);\n",
       "}\n",
       "\n",
       "/* on hover */\n",
       "#sk-container-id-2 div.sk-estimator:hover {\n",
       "  /* unfitted */\n",
       "  background-color: var(--sklearn-color-unfitted-level-2);\n",
       "}\n",
       "\n",
       "#sk-container-id-2 div.sk-estimator.fitted:hover {\n",
       "  /* fitted */\n",
       "  background-color: var(--sklearn-color-fitted-level-2);\n",
       "}\n",
       "\n",
       "/* Specification for estimator info (e.g. \"i\" and \"?\") */\n",
       "\n",
       "/* Common style for \"i\" and \"?\" */\n",
       "\n",
       ".sk-estimator-doc-link,\n",
       "a:link.sk-estimator-doc-link,\n",
       "a:visited.sk-estimator-doc-link {\n",
       "  float: right;\n",
       "  font-size: smaller;\n",
       "  line-height: 1em;\n",
       "  font-family: monospace;\n",
       "  background-color: var(--sklearn-color-background);\n",
       "  border-radius: 1em;\n",
       "  height: 1em;\n",
       "  width: 1em;\n",
       "  text-decoration: none !important;\n",
       "  margin-left: 1ex;\n",
       "  /* unfitted */\n",
       "  border: var(--sklearn-color-unfitted-level-1) 1pt solid;\n",
       "  color: var(--sklearn-color-unfitted-level-1);\n",
       "}\n",
       "\n",
       ".sk-estimator-doc-link.fitted,\n",
       "a:link.sk-estimator-doc-link.fitted,\n",
       "a:visited.sk-estimator-doc-link.fitted {\n",
       "  /* fitted */\n",
       "  border: var(--sklearn-color-fitted-level-1) 1pt solid;\n",
       "  color: var(--sklearn-color-fitted-level-1);\n",
       "}\n",
       "\n",
       "/* On hover */\n",
       "div.sk-estimator:hover .sk-estimator-doc-link:hover,\n",
       ".sk-estimator-doc-link:hover,\n",
       "div.sk-label-container:hover .sk-estimator-doc-link:hover,\n",
       ".sk-estimator-doc-link:hover {\n",
       "  /* unfitted */\n",
       "  background-color: var(--sklearn-color-unfitted-level-3);\n",
       "  color: var(--sklearn-color-background);\n",
       "  text-decoration: none;\n",
       "}\n",
       "\n",
       "div.sk-estimator.fitted:hover .sk-estimator-doc-link.fitted:hover,\n",
       ".sk-estimator-doc-link.fitted:hover,\n",
       "div.sk-label-container:hover .sk-estimator-doc-link.fitted:hover,\n",
       ".sk-estimator-doc-link.fitted:hover {\n",
       "  /* fitted */\n",
       "  background-color: var(--sklearn-color-fitted-level-3);\n",
       "  color: var(--sklearn-color-background);\n",
       "  text-decoration: none;\n",
       "}\n",
       "\n",
       "/* Span, style for the box shown on hovering the info icon */\n",
       ".sk-estimator-doc-link span {\n",
       "  display: none;\n",
       "  z-index: 9999;\n",
       "  position: relative;\n",
       "  font-weight: normal;\n",
       "  right: .2ex;\n",
       "  padding: .5ex;\n",
       "  margin: .5ex;\n",
       "  width: min-content;\n",
       "  min-width: 20ex;\n",
       "  max-width: 50ex;\n",
       "  color: var(--sklearn-color-text);\n",
       "  box-shadow: 2pt 2pt 4pt #999;\n",
       "  /* unfitted */\n",
       "  background: var(--sklearn-color-unfitted-level-0);\n",
       "  border: .5pt solid var(--sklearn-color-unfitted-level-3);\n",
       "}\n",
       "\n",
       ".sk-estimator-doc-link.fitted span {\n",
       "  /* fitted */\n",
       "  background: var(--sklearn-color-fitted-level-0);\n",
       "  border: var(--sklearn-color-fitted-level-3);\n",
       "}\n",
       "\n",
       ".sk-estimator-doc-link:hover span {\n",
       "  display: block;\n",
       "}\n",
       "\n",
       "/* \"?\"-specific style due to the `<a>` HTML tag */\n",
       "\n",
       "#sk-container-id-2 a.estimator_doc_link {\n",
       "  float: right;\n",
       "  font-size: 1rem;\n",
       "  line-height: 1em;\n",
       "  font-family: monospace;\n",
       "  background-color: var(--sklearn-color-background);\n",
       "  border-radius: 1rem;\n",
       "  height: 1rem;\n",
       "  width: 1rem;\n",
       "  text-decoration: none;\n",
       "  /* unfitted */\n",
       "  color: var(--sklearn-color-unfitted-level-1);\n",
       "  border: var(--sklearn-color-unfitted-level-1) 1pt solid;\n",
       "}\n",
       "\n",
       "#sk-container-id-2 a.estimator_doc_link.fitted {\n",
       "  /* fitted */\n",
       "  border: var(--sklearn-color-fitted-level-1) 1pt solid;\n",
       "  color: var(--sklearn-color-fitted-level-1);\n",
       "}\n",
       "\n",
       "/* On hover */\n",
       "#sk-container-id-2 a.estimator_doc_link:hover {\n",
       "  /* unfitted */\n",
       "  background-color: var(--sklearn-color-unfitted-level-3);\n",
       "  color: var(--sklearn-color-background);\n",
       "  text-decoration: none;\n",
       "}\n",
       "\n",
       "#sk-container-id-2 a.estimator_doc_link.fitted:hover {\n",
       "  /* fitted */\n",
       "  background-color: var(--sklearn-color-fitted-level-3);\n",
       "}\n",
       "</style><div id=\"sk-container-id-2\" class=\"sk-top-container\"><div class=\"sk-text-repr-fallback\"><pre>LogisticRegression(C=3.2084436981919744, max_iter=1548, multi_class=&#x27;ovr&#x27;,\n",
       "                   random_state=3407, tol=1.0993608291010027e-05)</pre><b>In a Jupyter environment, please rerun this cell to show the HTML representation or trust the notebook. <br />On GitHub, the HTML representation is unable to render, please try loading this page with nbviewer.org.</b></div><div class=\"sk-container\" hidden><div class=\"sk-item\"><div class=\"sk-estimator fitted sk-toggleable\"><input class=\"sk-toggleable__control sk-hidden--visually\" id=\"sk-estimator-id-2\" type=\"checkbox\" checked><label for=\"sk-estimator-id-2\" class=\"sk-toggleable__label fitted sk-toggleable__label-arrow fitted\">&nbsp;&nbsp;LogisticRegression<a class=\"sk-estimator-doc-link fitted\" rel=\"noreferrer\" target=\"_blank\" href=\"https://scikit-learn.org/1.4/modules/generated/sklearn.linear_model.LogisticRegression.html\">?<span>Documentation for LogisticRegression</span></a><span class=\"sk-estimator-doc-link fitted\">i<span>Fitted</span></span></label><div class=\"sk-toggleable__content fitted\"><pre>LogisticRegression(C=3.2084436981919744, max_iter=1548, multi_class=&#x27;ovr&#x27;,\n",
       "                   random_state=3407, tol=1.0993608291010027e-05)</pre></div> </div></div></div></div>"
      ],
      "text/plain": [
       "LogisticRegression(C=3.2084436981919744, max_iter=1548, multi_class='ovr',\n",
       "                   random_state=3407, tol=1.0993608291010027e-05)"
      ]
     },
     "execution_count": 41,
     "metadata": {},
     "output_type": "execute_result"
    }
   ],
   "source": [
    "logreg = LogisticRegression(\n",
    "    C=3.2084436981919744,\n",
    "    max_iter=1548,\n",
    "    tol=1.0993608291010027e-05,\n",
    "    multi_class='ovr',\n",
    "    solver='lbfgs',\n",
    "    random_state=3407\n",
    ")\n",
    "\n",
    "logreg.fit(X_lin_train, y_lin_train)"
   ]
  },
  {
   "cell_type": "code",
   "execution_count": 42,
   "id": "1c05338f-0b46-49d5-b8fb-1247447a7b96",
   "metadata": {},
   "outputs": [],
   "source": [
    "# ranfor = RandomForestClassifier(n_estimators=450, random_state=3407)\n",
    "\n",
    "# ranfor.fit(X_lin_train, y_lin_train)"
   ]
  },
  {
   "cell_type": "code",
   "execution_count": 43,
   "id": "02dee597-5af5-48d7-9013-9a7afb31e2e3",
   "metadata": {},
   "outputs": [
    {
     "data": {
      "text/html": [
       "<style>#sk-container-id-3 {\n",
       "  /* Definition of color scheme common for light and dark mode */\n",
       "  --sklearn-color-text: black;\n",
       "  --sklearn-color-line: gray;\n",
       "  /* Definition of color scheme for unfitted estimators */\n",
       "  --sklearn-color-unfitted-level-0: #fff5e6;\n",
       "  --sklearn-color-unfitted-level-1: #f6e4d2;\n",
       "  --sklearn-color-unfitted-level-2: #ffe0b3;\n",
       "  --sklearn-color-unfitted-level-3: chocolate;\n",
       "  /* Definition of color scheme for fitted estimators */\n",
       "  --sklearn-color-fitted-level-0: #f0f8ff;\n",
       "  --sklearn-color-fitted-level-1: #d4ebff;\n",
       "  --sklearn-color-fitted-level-2: #b3dbfd;\n",
       "  --sklearn-color-fitted-level-3: cornflowerblue;\n",
       "\n",
       "  /* Specific color for light theme */\n",
       "  --sklearn-color-text-on-default-background: var(--sg-text-color, var(--theme-code-foreground, var(--jp-content-font-color1, black)));\n",
       "  --sklearn-color-background: var(--sg-background-color, var(--theme-background, var(--jp-layout-color0, white)));\n",
       "  --sklearn-color-border-box: var(--sg-text-color, var(--theme-code-foreground, var(--jp-content-font-color1, black)));\n",
       "  --sklearn-color-icon: #696969;\n",
       "\n",
       "  @media (prefers-color-scheme: dark) {\n",
       "    /* Redefinition of color scheme for dark theme */\n",
       "    --sklearn-color-text-on-default-background: var(--sg-text-color, var(--theme-code-foreground, var(--jp-content-font-color1, white)));\n",
       "    --sklearn-color-background: var(--sg-background-color, var(--theme-background, var(--jp-layout-color0, #111)));\n",
       "    --sklearn-color-border-box: var(--sg-text-color, var(--theme-code-foreground, var(--jp-content-font-color1, white)));\n",
       "    --sklearn-color-icon: #878787;\n",
       "  }\n",
       "}\n",
       "\n",
       "#sk-container-id-3 {\n",
       "  color: var(--sklearn-color-text);\n",
       "}\n",
       "\n",
       "#sk-container-id-3 pre {\n",
       "  padding: 0;\n",
       "}\n",
       "\n",
       "#sk-container-id-3 input.sk-hidden--visually {\n",
       "  border: 0;\n",
       "  clip: rect(1px 1px 1px 1px);\n",
       "  clip: rect(1px, 1px, 1px, 1px);\n",
       "  height: 1px;\n",
       "  margin: -1px;\n",
       "  overflow: hidden;\n",
       "  padding: 0;\n",
       "  position: absolute;\n",
       "  width: 1px;\n",
       "}\n",
       "\n",
       "#sk-container-id-3 div.sk-dashed-wrapped {\n",
       "  border: 1px dashed var(--sklearn-color-line);\n",
       "  margin: 0 0.4em 0.5em 0.4em;\n",
       "  box-sizing: border-box;\n",
       "  padding-bottom: 0.4em;\n",
       "  background-color: var(--sklearn-color-background);\n",
       "}\n",
       "\n",
       "#sk-container-id-3 div.sk-container {\n",
       "  /* jupyter's `normalize.less` sets `[hidden] { display: none; }`\n",
       "     but bootstrap.min.css set `[hidden] { display: none !important; }`\n",
       "     so we also need the `!important` here to be able to override the\n",
       "     default hidden behavior on the sphinx rendered scikit-learn.org.\n",
       "     See: https://github.com/scikit-learn/scikit-learn/issues/21755 */\n",
       "  display: inline-block !important;\n",
       "  position: relative;\n",
       "}\n",
       "\n",
       "#sk-container-id-3 div.sk-text-repr-fallback {\n",
       "  display: none;\n",
       "}\n",
       "\n",
       "div.sk-parallel-item,\n",
       "div.sk-serial,\n",
       "div.sk-item {\n",
       "  /* draw centered vertical line to link estimators */\n",
       "  background-image: linear-gradient(var(--sklearn-color-text-on-default-background), var(--sklearn-color-text-on-default-background));\n",
       "  background-size: 2px 100%;\n",
       "  background-repeat: no-repeat;\n",
       "  background-position: center center;\n",
       "}\n",
       "\n",
       "/* Parallel-specific style estimator block */\n",
       "\n",
       "#sk-container-id-3 div.sk-parallel-item::after {\n",
       "  content: \"\";\n",
       "  width: 100%;\n",
       "  border-bottom: 2px solid var(--sklearn-color-text-on-default-background);\n",
       "  flex-grow: 1;\n",
       "}\n",
       "\n",
       "#sk-container-id-3 div.sk-parallel {\n",
       "  display: flex;\n",
       "  align-items: stretch;\n",
       "  justify-content: center;\n",
       "  background-color: var(--sklearn-color-background);\n",
       "  position: relative;\n",
       "}\n",
       "\n",
       "#sk-container-id-3 div.sk-parallel-item {\n",
       "  display: flex;\n",
       "  flex-direction: column;\n",
       "}\n",
       "\n",
       "#sk-container-id-3 div.sk-parallel-item:first-child::after {\n",
       "  align-self: flex-end;\n",
       "  width: 50%;\n",
       "}\n",
       "\n",
       "#sk-container-id-3 div.sk-parallel-item:last-child::after {\n",
       "  align-self: flex-start;\n",
       "  width: 50%;\n",
       "}\n",
       "\n",
       "#sk-container-id-3 div.sk-parallel-item:only-child::after {\n",
       "  width: 0;\n",
       "}\n",
       "\n",
       "/* Serial-specific style estimator block */\n",
       "\n",
       "#sk-container-id-3 div.sk-serial {\n",
       "  display: flex;\n",
       "  flex-direction: column;\n",
       "  align-items: center;\n",
       "  background-color: var(--sklearn-color-background);\n",
       "  padding-right: 1em;\n",
       "  padding-left: 1em;\n",
       "}\n",
       "\n",
       "\n",
       "/* Toggleable style: style used for estimator/Pipeline/ColumnTransformer box that is\n",
       "clickable and can be expanded/collapsed.\n",
       "- Pipeline and ColumnTransformer use this feature and define the default style\n",
       "- Estimators will overwrite some part of the style using the `sk-estimator` class\n",
       "*/\n",
       "\n",
       "/* Pipeline and ColumnTransformer style (default) */\n",
       "\n",
       "#sk-container-id-3 div.sk-toggleable {\n",
       "  /* Default theme specific background. It is overwritten whether we have a\n",
       "  specific estimator or a Pipeline/ColumnTransformer */\n",
       "  background-color: var(--sklearn-color-background);\n",
       "}\n",
       "\n",
       "/* Toggleable label */\n",
       "#sk-container-id-3 label.sk-toggleable__label {\n",
       "  cursor: pointer;\n",
       "  display: block;\n",
       "  width: 100%;\n",
       "  margin-bottom: 0;\n",
       "  padding: 0.5em;\n",
       "  box-sizing: border-box;\n",
       "  text-align: center;\n",
       "}\n",
       "\n",
       "#sk-container-id-3 label.sk-toggleable__label-arrow:before {\n",
       "  /* Arrow on the left of the label */\n",
       "  content: \"▸\";\n",
       "  float: left;\n",
       "  margin-right: 0.25em;\n",
       "  color: var(--sklearn-color-icon);\n",
       "}\n",
       "\n",
       "#sk-container-id-3 label.sk-toggleable__label-arrow:hover:before {\n",
       "  color: var(--sklearn-color-text);\n",
       "}\n",
       "\n",
       "/* Toggleable content - dropdown */\n",
       "\n",
       "#sk-container-id-3 div.sk-toggleable__content {\n",
       "  max-height: 0;\n",
       "  max-width: 0;\n",
       "  overflow: hidden;\n",
       "  text-align: left;\n",
       "  /* unfitted */\n",
       "  background-color: var(--sklearn-color-unfitted-level-0);\n",
       "}\n",
       "\n",
       "#sk-container-id-3 div.sk-toggleable__content.fitted {\n",
       "  /* fitted */\n",
       "  background-color: var(--sklearn-color-fitted-level-0);\n",
       "}\n",
       "\n",
       "#sk-container-id-3 div.sk-toggleable__content pre {\n",
       "  margin: 0.2em;\n",
       "  border-radius: 0.25em;\n",
       "  color: var(--sklearn-color-text);\n",
       "  /* unfitted */\n",
       "  background-color: var(--sklearn-color-unfitted-level-0);\n",
       "}\n",
       "\n",
       "#sk-container-id-3 div.sk-toggleable__content.fitted pre {\n",
       "  /* unfitted */\n",
       "  background-color: var(--sklearn-color-fitted-level-0);\n",
       "}\n",
       "\n",
       "#sk-container-id-3 input.sk-toggleable__control:checked~div.sk-toggleable__content {\n",
       "  /* Expand drop-down */\n",
       "  max-height: 200px;\n",
       "  max-width: 100%;\n",
       "  overflow: auto;\n",
       "}\n",
       "\n",
       "#sk-container-id-3 input.sk-toggleable__control:checked~label.sk-toggleable__label-arrow:before {\n",
       "  content: \"▾\";\n",
       "}\n",
       "\n",
       "/* Pipeline/ColumnTransformer-specific style */\n",
       "\n",
       "#sk-container-id-3 div.sk-label input.sk-toggleable__control:checked~label.sk-toggleable__label {\n",
       "  color: var(--sklearn-color-text);\n",
       "  background-color: var(--sklearn-color-unfitted-level-2);\n",
       "}\n",
       "\n",
       "#sk-container-id-3 div.sk-label.fitted input.sk-toggleable__control:checked~label.sk-toggleable__label {\n",
       "  background-color: var(--sklearn-color-fitted-level-2);\n",
       "}\n",
       "\n",
       "/* Estimator-specific style */\n",
       "\n",
       "/* Colorize estimator box */\n",
       "#sk-container-id-3 div.sk-estimator input.sk-toggleable__control:checked~label.sk-toggleable__label {\n",
       "  /* unfitted */\n",
       "  background-color: var(--sklearn-color-unfitted-level-2);\n",
       "}\n",
       "\n",
       "#sk-container-id-3 div.sk-estimator.fitted input.sk-toggleable__control:checked~label.sk-toggleable__label {\n",
       "  /* fitted */\n",
       "  background-color: var(--sklearn-color-fitted-level-2);\n",
       "}\n",
       "\n",
       "#sk-container-id-3 div.sk-label label.sk-toggleable__label,\n",
       "#sk-container-id-3 div.sk-label label {\n",
       "  /* The background is the default theme color */\n",
       "  color: var(--sklearn-color-text-on-default-background);\n",
       "}\n",
       "\n",
       "/* On hover, darken the color of the background */\n",
       "#sk-container-id-3 div.sk-label:hover label.sk-toggleable__label {\n",
       "  color: var(--sklearn-color-text);\n",
       "  background-color: var(--sklearn-color-unfitted-level-2);\n",
       "}\n",
       "\n",
       "/* Label box, darken color on hover, fitted */\n",
       "#sk-container-id-3 div.sk-label.fitted:hover label.sk-toggleable__label.fitted {\n",
       "  color: var(--sklearn-color-text);\n",
       "  background-color: var(--sklearn-color-fitted-level-2);\n",
       "}\n",
       "\n",
       "/* Estimator label */\n",
       "\n",
       "#sk-container-id-3 div.sk-label label {\n",
       "  font-family: monospace;\n",
       "  font-weight: bold;\n",
       "  display: inline-block;\n",
       "  line-height: 1.2em;\n",
       "}\n",
       "\n",
       "#sk-container-id-3 div.sk-label-container {\n",
       "  text-align: center;\n",
       "}\n",
       "\n",
       "/* Estimator-specific */\n",
       "#sk-container-id-3 div.sk-estimator {\n",
       "  font-family: monospace;\n",
       "  border: 1px dotted var(--sklearn-color-border-box);\n",
       "  border-radius: 0.25em;\n",
       "  box-sizing: border-box;\n",
       "  margin-bottom: 0.5em;\n",
       "  /* unfitted */\n",
       "  background-color: var(--sklearn-color-unfitted-level-0);\n",
       "}\n",
       "\n",
       "#sk-container-id-3 div.sk-estimator.fitted {\n",
       "  /* fitted */\n",
       "  background-color: var(--sklearn-color-fitted-level-0);\n",
       "}\n",
       "\n",
       "/* on hover */\n",
       "#sk-container-id-3 div.sk-estimator:hover {\n",
       "  /* unfitted */\n",
       "  background-color: var(--sklearn-color-unfitted-level-2);\n",
       "}\n",
       "\n",
       "#sk-container-id-3 div.sk-estimator.fitted:hover {\n",
       "  /* fitted */\n",
       "  background-color: var(--sklearn-color-fitted-level-2);\n",
       "}\n",
       "\n",
       "/* Specification for estimator info (e.g. \"i\" and \"?\") */\n",
       "\n",
       "/* Common style for \"i\" and \"?\" */\n",
       "\n",
       ".sk-estimator-doc-link,\n",
       "a:link.sk-estimator-doc-link,\n",
       "a:visited.sk-estimator-doc-link {\n",
       "  float: right;\n",
       "  font-size: smaller;\n",
       "  line-height: 1em;\n",
       "  font-family: monospace;\n",
       "  background-color: var(--sklearn-color-background);\n",
       "  border-radius: 1em;\n",
       "  height: 1em;\n",
       "  width: 1em;\n",
       "  text-decoration: none !important;\n",
       "  margin-left: 1ex;\n",
       "  /* unfitted */\n",
       "  border: var(--sklearn-color-unfitted-level-1) 1pt solid;\n",
       "  color: var(--sklearn-color-unfitted-level-1);\n",
       "}\n",
       "\n",
       ".sk-estimator-doc-link.fitted,\n",
       "a:link.sk-estimator-doc-link.fitted,\n",
       "a:visited.sk-estimator-doc-link.fitted {\n",
       "  /* fitted */\n",
       "  border: var(--sklearn-color-fitted-level-1) 1pt solid;\n",
       "  color: var(--sklearn-color-fitted-level-1);\n",
       "}\n",
       "\n",
       "/* On hover */\n",
       "div.sk-estimator:hover .sk-estimator-doc-link:hover,\n",
       ".sk-estimator-doc-link:hover,\n",
       "div.sk-label-container:hover .sk-estimator-doc-link:hover,\n",
       ".sk-estimator-doc-link:hover {\n",
       "  /* unfitted */\n",
       "  background-color: var(--sklearn-color-unfitted-level-3);\n",
       "  color: var(--sklearn-color-background);\n",
       "  text-decoration: none;\n",
       "}\n",
       "\n",
       "div.sk-estimator.fitted:hover .sk-estimator-doc-link.fitted:hover,\n",
       ".sk-estimator-doc-link.fitted:hover,\n",
       "div.sk-label-container:hover .sk-estimator-doc-link.fitted:hover,\n",
       ".sk-estimator-doc-link.fitted:hover {\n",
       "  /* fitted */\n",
       "  background-color: var(--sklearn-color-fitted-level-3);\n",
       "  color: var(--sklearn-color-background);\n",
       "  text-decoration: none;\n",
       "}\n",
       "\n",
       "/* Span, style for the box shown on hovering the info icon */\n",
       ".sk-estimator-doc-link span {\n",
       "  display: none;\n",
       "  z-index: 9999;\n",
       "  position: relative;\n",
       "  font-weight: normal;\n",
       "  right: .2ex;\n",
       "  padding: .5ex;\n",
       "  margin: .5ex;\n",
       "  width: min-content;\n",
       "  min-width: 20ex;\n",
       "  max-width: 50ex;\n",
       "  color: var(--sklearn-color-text);\n",
       "  box-shadow: 2pt 2pt 4pt #999;\n",
       "  /* unfitted */\n",
       "  background: var(--sklearn-color-unfitted-level-0);\n",
       "  border: .5pt solid var(--sklearn-color-unfitted-level-3);\n",
       "}\n",
       "\n",
       ".sk-estimator-doc-link.fitted span {\n",
       "  /* fitted */\n",
       "  background: var(--sklearn-color-fitted-level-0);\n",
       "  border: var(--sklearn-color-fitted-level-3);\n",
       "}\n",
       "\n",
       ".sk-estimator-doc-link:hover span {\n",
       "  display: block;\n",
       "}\n",
       "\n",
       "/* \"?\"-specific style due to the `<a>` HTML tag */\n",
       "\n",
       "#sk-container-id-3 a.estimator_doc_link {\n",
       "  float: right;\n",
       "  font-size: 1rem;\n",
       "  line-height: 1em;\n",
       "  font-family: monospace;\n",
       "  background-color: var(--sklearn-color-background);\n",
       "  border-radius: 1rem;\n",
       "  height: 1rem;\n",
       "  width: 1rem;\n",
       "  text-decoration: none;\n",
       "  /* unfitted */\n",
       "  color: var(--sklearn-color-unfitted-level-1);\n",
       "  border: var(--sklearn-color-unfitted-level-1) 1pt solid;\n",
       "}\n",
       "\n",
       "#sk-container-id-3 a.estimator_doc_link.fitted {\n",
       "  /* fitted */\n",
       "  border: var(--sklearn-color-fitted-level-1) 1pt solid;\n",
       "  color: var(--sklearn-color-fitted-level-1);\n",
       "}\n",
       "\n",
       "/* On hover */\n",
       "#sk-container-id-3 a.estimator_doc_link:hover {\n",
       "  /* unfitted */\n",
       "  background-color: var(--sklearn-color-unfitted-level-3);\n",
       "  color: var(--sklearn-color-background);\n",
       "  text-decoration: none;\n",
       "}\n",
       "\n",
       "#sk-container-id-3 a.estimator_doc_link.fitted:hover {\n",
       "  /* fitted */\n",
       "  background-color: var(--sklearn-color-fitted-level-3);\n",
       "}\n",
       "</style><div id=\"sk-container-id-3\" class=\"sk-top-container\"><div class=\"sk-text-repr-fallback\"><pre>XGBClassifier(base_score=None, booster=None, callbacks=None,\n",
       "              colsample_bylevel=None, colsample_bynode=None,\n",
       "              colsample_bytree=None, device=None, early_stopping_rounds=None,\n",
       "              enable_categorical=False, eval_metric=None, feature_types=None,\n",
       "              gamma=None, grow_policy=None, importance_type=None,\n",
       "              interaction_constraints=None, learning_rate=None, max_bin=None,\n",
       "              max_cat_threshold=None, max_cat_to_onehot=None,\n",
       "              max_delta_step=None, max_depth=None, max_leaves=None,\n",
       "              min_child_weight=None, missing=nan, monotone_constraints=None,\n",
       "              multi_strategy=None, n_estimators=None, n_jobs=None,\n",
       "              num_parallel_tree=None, objective=&#x27;multi:softprob&#x27;, ...)</pre><b>In a Jupyter environment, please rerun this cell to show the HTML representation or trust the notebook. <br />On GitHub, the HTML representation is unable to render, please try loading this page with nbviewer.org.</b></div><div class=\"sk-container\" hidden><div class=\"sk-item\"><div class=\"sk-estimator fitted sk-toggleable\"><input class=\"sk-toggleable__control sk-hidden--visually\" id=\"sk-estimator-id-3\" type=\"checkbox\" checked><label for=\"sk-estimator-id-3\" class=\"sk-toggleable__label fitted sk-toggleable__label-arrow fitted\">&nbsp;XGBClassifier<span class=\"sk-estimator-doc-link fitted\">i<span>Fitted</span></span></label><div class=\"sk-toggleable__content fitted\"><pre>XGBClassifier(base_score=None, booster=None, callbacks=None,\n",
       "              colsample_bylevel=None, colsample_bynode=None,\n",
       "              colsample_bytree=None, device=None, early_stopping_rounds=None,\n",
       "              enable_categorical=False, eval_metric=None, feature_types=None,\n",
       "              gamma=None, grow_policy=None, importance_type=None,\n",
       "              interaction_constraints=None, learning_rate=None, max_bin=None,\n",
       "              max_cat_threshold=None, max_cat_to_onehot=None,\n",
       "              max_delta_step=None, max_depth=None, max_leaves=None,\n",
       "              min_child_weight=None, missing=nan, monotone_constraints=None,\n",
       "              multi_strategy=None, n_estimators=None, n_jobs=None,\n",
       "              num_parallel_tree=None, objective=&#x27;multi:softprob&#x27;, ...)</pre></div> </div></div></div></div>"
      ],
      "text/plain": [
       "XGBClassifier(base_score=None, booster=None, callbacks=None,\n",
       "              colsample_bylevel=None, colsample_bynode=None,\n",
       "              colsample_bytree=None, device=None, early_stopping_rounds=None,\n",
       "              enable_categorical=False, eval_metric=None, feature_types=None,\n",
       "              gamma=None, grow_policy=None, importance_type=None,\n",
       "              interaction_constraints=None, learning_rate=None, max_bin=None,\n",
       "              max_cat_threshold=None, max_cat_to_onehot=None,\n",
       "              max_delta_step=None, max_depth=None, max_leaves=None,\n",
       "              min_child_weight=None, missing=nan, monotone_constraints=None,\n",
       "              multi_strategy=None, n_estimators=None, n_jobs=None,\n",
       "              num_parallel_tree=None, objective='multi:softprob', ...)"
      ]
     },
     "execution_count": 43,
     "metadata": {},
     "output_type": "execute_result"
    }
   ],
   "source": [
    "xgb = XGBClassifier()\n",
    "\n",
    "xgb.fit(X_lin_train, y_lin_train)"
   ]
  },
  {
   "cell_type": "code",
   "execution_count": 44,
   "id": "2aa5e5d6-7747-4587-8086-c4a33cb674f3",
   "metadata": {},
   "outputs": [],
   "source": [
    "# y_lin_pred = logreg.predict(X_lin_val)\n",
    "# y_lin_pred = ranfor.predict(X_lin_val)\n",
    "y_lin_pred = xgb.predict(X_lin_val)"
   ]
  },
  {
   "cell_type": "code",
   "execution_count": 45,
   "id": "614019d0-8b6a-424a-800e-af0c713f72f5",
   "metadata": {},
   "outputs": [],
   "source": [
    "from sklearn.metrics import confusion_matrix\n",
    "import matplotlib.pyplot as plt\n",
    "import seaborn as sns\n",
    "%matplotlib inline"
   ]
  },
  {
   "cell_type": "code",
   "execution_count": 46,
   "id": "262d8cf3-90e7-4d91-8e33-14d9244f69bd",
   "metadata": {},
   "outputs": [
    {
     "data": {
      "image/png": "[encoded data removed]",
      "text/plain": [
       "<Figure size 640x480 with 2 Axes>"
      ]
     },
     "metadata": {},
     "output_type": "display_data"
    }
   ],
   "source": [
    "cm = pd.DataFrame(confusion_matrix(y_lin_val, y_lin_pred), index=emotions_dict.values(), columns=emotions_dict.values())\n",
    "sns.heatmap(cm, annot=True)\n",
    "plt.xlabel(\"Predicted\")\n",
    "plt.ylabel(\"Actual\")\n",
    "plt.show()"
   ]
  },
  {
   "cell_type": "code",
   "execution_count": 47,
   "id": "b4a9c3a3-75b2-4533-996e-6f24eedfdad4",
   "metadata": {},
   "outputs": [
    {
     "data": {
      "text/plain": [
       "0.5991800693787449"
      ]
     },
     "execution_count": 47,
     "metadata": {},
     "output_type": "execute_result"
    }
   ],
   "source": [
    "accuracy_score(y_lin_val, y_lin_pred)"
   ]
  },
  {
   "cell_type": "markdown",
   "id": "36e36aad-371b-4b75-b918-5096005bf266",
   "metadata": {},
   "source": [
    "## Linear Model"
   ]
  },
  {
   "cell_type": "code",
   "execution_count": 48,
   "id": "a865f3ce-0d09-40e7-83b4-e667b5d1d924",
   "metadata": {},
   "outputs": [],
   "source": [
    "class EmotionDataset(Dataset):\n",
    "    def __init__(self, data, labels=None):\n",
    "        # labels none for test data that doesn't have labels\n",
    "        self.data = data.toarray().astype(np.float32)\n",
    "        self.labels = labels.to_numpy() if labels is not None else np.zeros(data.shape[0])\n",
    "\n",
    "\n",
    "    def __len__(self):\n",
    "        return self.data.shape[0]\n",
    "\n",
    "\n",
    "    def __getitem__(self, index):\n",
    "        return self.data[index], self.labels[index]"
   ]
  },
  {
   "cell_type": "code",
   "execution_count": 49,
   "id": "425fb5d9-bae8-4c08-a882-18be55f0c909",
   "metadata": {},
   "outputs": [],
   "source": [
    "train_lin_ds = EmotionDataset(X_lin_train, y_lin_train)\n",
    "train_lin_loader = DataLoader(train_lin_ds, batch_size=16, shuffle=True)\n",
    "\n",
    "val_lin_ds = EmotionDataset(X_lin_val, y_lin_val)\n",
    "val_lin_loader = DataLoader(val_lin_ds, batch_size=16, shuffle=False)"
   ]
  },
  {
   "cell_type": "code",
   "execution_count": 50,
   "id": "315caad8-0273-4c72-9e3a-2807824a50e4",
   "metadata": {},
   "outputs": [
    {
     "name": "stdout",
     "output_type": "stream",
     "text": [
      "torch.Size([16, 8301])\n"
     ]
    }
   ],
   "source": [
    "for x in train_lin_loader:\n",
    "    print(x[0].shape)\n",
    "    break"
   ]
  },
  {
   "cell_type": "code",
   "execution_count": 51,
   "id": "70109bc0-4beb-49c8-b047-7921062ad085",
   "metadata": {},
   "outputs": [],
   "source": [
    "class SimpleLinearModel(nn.Module):\n",
    "    def __init__(self, input_size, output_size):\n",
    "        super(SimpleLinearModel, self).__init__()\n",
    "\n",
    "        self.linear1 = nn.Linear(input_size, 128)\n",
    "        self.linear2 = nn.Linear(128, 64)\n",
    "        self.dropout1 = nn.Dropout(0.5)\n",
    "        self.linear3 = nn.Linear(64, output_size)\n",
    "\n",
    "\n",
    "    def forward(self, inputs):\n",
    "        # we assume the inputs already in embedding dimension\n",
    "        output = F.relu(self.linear1(inputs))\n",
    "        output = F.relu(self.linear2(output))\n",
    "        output = self.dropout1(output)\n",
    "        output = F.softmax(self.linear3(output), dim=1)\n",
    "\n",
    "        return output"
   ]
  },
  {
   "cell_type": "code",
   "execution_count": 52,
   "id": "b27bf42c-aa34-4da5-a231-5b74834882b5",
   "metadata": {},
   "outputs": [],
   "source": [
    "linear_model = SimpleLinearModel(input_size=X_lin_train.shape[1], output_size=len(emotions_dict)).to(device)\n",
    "criterion = nn.CrossEntropyLoss()\n",
    "optimizer = optim.Adam(linear_model.parameters(), lr=0.001, weight_decay=1e-5)"
   ]
  },
  {
   "cell_type": "code",
   "execution_count": 53,
   "id": "1b4c81bc-677f-47ae-8683-cacf1fb112d8",
   "metadata": {},
   "outputs": [],
   "source": [
    "EPOCHS = 20"
   ]
  },
  {
   "cell_type": "code",
   "execution_count": 54,
   "id": "ebd3f2ea-a46c-49b8-89c3-5be51991d28e",
   "metadata": {},
   "outputs": [],
   "source": [
    "def fit(model, criterion, optimizer, train_loader, val_loader, epochs=EPOCHS):\n",
    "    train_accuracies = []\n",
    "    val_accuracies = []\n",
    "    train_losses = []\n",
    "    val_losses = []\n",
    "\n",
    "    for epoch in range(epochs):  # Loop over the dataset multiple times\n",
    "        running_loss = 0.0\n",
    "        total = 0\n",
    "        correct = 0\n",
    "        model.train()\n",
    "        for inputs, labels in train_loader:\n",
    "            inputs = inputs.to(device)\n",
    "            labels = labels.to(device)\n",
    "    \n",
    "            optimizer.zero_grad()\n",
    "    \n",
    "            outputs = model(inputs)\n",
    "            loss = criterion(outputs, labels)\n",
    "            loss.backward()\n",
    "            optimizer.step()\n",
    "    \n",
    "            running_loss += loss.item() \n",
    "\n",
    "            _, predicted = torch.max(outputs.data, axis=1)\n",
    "            total += labels.size(0)\n",
    "            correct += (predicted == labels).sum().item()\n",
    "    \n",
    "        # get train loss and accuracy\n",
    "        train_loss = running_loss / len(train_loader.dataset)\n",
    "        train_accuracy = correct / total\n",
    "        train_losses.append(train_loss)\n",
    "        train_accuracies.append(train_accuracy)\n",
    "    \n",
    "        # get test loss and accuracy\n",
    "        val_loss = 0.0\n",
    "        val_correct = 0\n",
    "        val_total = 0\n",
    "        with torch.no_grad():\n",
    "            model.eval()\n",
    "            for data in val_loader:\n",
    "                inputs, labels = data\n",
    "                inputs = inputs.to(device)\n",
    "                labels = labels.to(device)\n",
    "\n",
    "                outputs = model(inputs)\n",
    "                loss = criterion(outputs, labels)\n",
    "                val_loss += loss.item()\n",
    "                _, predicted = torch.max(outputs.data, axis=1)\n",
    "                val_total += labels.size(0)\n",
    "                val_correct += (predicted == labels).sum().item()\n",
    "\n",
    "        val_loss /= len(val_loader)\n",
    "        val_accuracy = val_correct / val_total\n",
    "        val_losses.append(val_loss)\n",
    "        val_accuracies.append(val_accuracy)\n",
    "\n",
    "        print(f\"Epoch {epoch}: train_loss: {train_loss:.4f}; train_accuracy: {train_accuracy:.4f}; val_loss: {val_loss:.4f}; val_accuracy: {val_accuracy:.4f}\")\n",
    "\n",
    "    return {\n",
    "        \"train_loss\": train_losses,\n",
    "        \"train_accuracy\": train_accuracies,\n",
    "        \"val_loss\": val_losses,\n",
    "        \"val_accuracy\": val_accuracies\n",
    "    }"
   ]
  },
  {
   "cell_type": "code",
   "execution_count": 55,
   "id": "9acf86f2-0e5d-42be-8583-158b6efd65a7",
   "metadata": {},
   "outputs": [],
   "source": [
    "clear_device_cache()"
   ]
  },
  {
   "cell_type": "code",
   "execution_count": 56,
   "id": "17b1c970-c89f-4709-91c1-ff692608f310",
   "metadata": {},
   "outputs": [
    {
     "name": "stdout",
     "output_type": "stream",
     "text": [
      "Epoch 0: train_loss: 0.1055; train_accuracy: 0.4742; val_loss: 1.5723; val_accuracy: 0.5907\n",
      "Epoch 1: train_loss: 0.0994; train_accuracy: 0.5692; val_loss: 1.5745; val_accuracy: 0.5837\n",
      "Epoch 2: train_loss: 0.0981; train_accuracy: 0.5894; val_loss: 1.5693; val_accuracy: 0.5904\n",
      "Epoch 3: train_loss: 0.0972; train_accuracy: 0.6022; val_loss: 1.5660; val_accuracy: 0.5946\n",
      "Epoch 4: train_loss: 0.0967; train_accuracy: 0.6099; val_loss: 1.5669; val_accuracy: 0.5924\n",
      "Epoch 5: train_loss: 0.0963; train_accuracy: 0.6170; val_loss: 1.5674; val_accuracy: 0.5935\n",
      "Epoch 6: train_loss: 0.0960; train_accuracy: 0.6224; val_loss: 1.5733; val_accuracy: 0.5881\n",
      "Epoch 7: train_loss: 0.0956; train_accuracy: 0.6289; val_loss: 1.5687; val_accuracy: 0.5915\n",
      "Epoch 8: train_loss: 0.0953; train_accuracy: 0.6326; val_loss: 1.5618; val_accuracy: 0.6008\n",
      "Epoch 9: train_loss: 0.0949; train_accuracy: 0.6402; val_loss: 1.5689; val_accuracy: 0.5926\n",
      "Epoch 10: train_loss: 0.0947; train_accuracy: 0.6420; val_loss: 1.5661; val_accuracy: 0.5951\n",
      "Epoch 11: train_loss: 0.0944; train_accuracy: 0.6475; val_loss: 1.5659; val_accuracy: 0.5951\n",
      "Epoch 12: train_loss: 0.0942; train_accuracy: 0.6516; val_loss: 1.5666; val_accuracy: 0.5943\n",
      "Epoch 13: train_loss: 0.0941; train_accuracy: 0.6529; val_loss: 1.5734; val_accuracy: 0.5883\n",
      "Epoch 14: train_loss: 0.0938; train_accuracy: 0.6569; val_loss: 1.5672; val_accuracy: 0.5940\n",
      "Epoch 15: train_loss: 0.0937; train_accuracy: 0.6597; val_loss: 1.5696; val_accuracy: 0.5911\n",
      "Epoch 16: train_loss: 0.0935; train_accuracy: 0.6624; val_loss: 1.5694; val_accuracy: 0.5907\n",
      "Epoch 17: train_loss: 0.0934; train_accuracy: 0.6637; val_loss: 1.5693; val_accuracy: 0.5926\n",
      "Epoch 18: train_loss: 0.0932; train_accuracy: 0.6676; val_loss: 1.5781; val_accuracy: 0.5823\n",
      "Epoch 19: train_loss: 0.0931; train_accuracy: 0.6679; val_loss: 1.5657; val_accuracy: 0.5954\n"
     ]
    }
   ],
   "source": [
    "linear_model_result = fit(linear_model, criterion, optimizer, train_lin_loader, val_lin_loader, epochs=EPOCHS)"
   ]
  },
  {
   "cell_type": "code",
   "execution_count": 57,
   "id": "25fea98d-65f0-42cc-892c-d620aadd27cd",
   "metadata": {},
   "outputs": [
    {
     "data": {
      "text/plain": [
       "<matplotlib.legend.Legend at 0x35213f410>"
      ]
     },
     "execution_count": 57,
     "metadata": {},
     "output_type": "execute_result"
    },
    {
     "data": {
      "image/png": "[encoded data removed]",
      "text/plain": [
       "<Figure size 1500x700 with 2 Axes>"
      ]
     },
     "metadata": {},
     "output_type": "display_data"
    }
   ],
   "source": [
    "plt.figure(figsize=(15, 7))\n",
    "plt.subplot(1, 2, 1)\n",
    "\n",
    "plt.plot(linear_model_result[\"train_accuracy\"], label=\"train_accuracy\")\n",
    "plt.plot(linear_model_result[\"val_accuracy\"], label=\"val_accuracy\")\n",
    "plt.xlabel(\"Epochs\")\n",
    "plt.ylabel(\"Accuracy\")\n",
    "plt.legend()\n",
    "\n",
    "plt.subplot(1, 2, 2)\n",
    "plt.plot(linear_model_result[\"train_loss\"], label=\"train_loss\")\n",
    "plt.plot(linear_model_result[\"val_loss\"], label=\"val_loss\")\n",
    "plt.xlabel(\"Epochs\")\n",
    "plt.ylabel(\"Loss\")\n",
    "plt.legend()"
   ]
  },
  {
   "cell_type": "code",
   "execution_count": 58,
   "id": "e02fec3b-4d7c-4568-b8ba-4451b4aae287",
   "metadata": {},
   "outputs": [
    {
     "name": "stdout",
     "output_type": "stream",
     "text": [
      "models/torch_text_linear_model_2024.06.15.19.50.57.pth\n"
     ]
    }
   ],
   "source": [
    "import datetime\n",
    "PATH = f\"models/torch_text_linear_model_{datetime.datetime.now().strftime('%Y.%m.%d.%H.%M.%S')}.pth\"\n",
    "print(PATH)\n",
    "\n",
    "# save model\n",
    "torch.save(linear_model.state_dict(), PATH)\n",
    "\n",
    "# load model, UNCOMMENT this so no need to train again\n",
    "# model = torch.load(PATH)"
   ]
  },
  {
   "cell_type": "markdown",
   "id": "b0956b9d-1cb6-43ba-bedd-fd620b522bb4",
   "metadata": {},
   "source": [
    "## Recurrent Model\n",
    "start with the dataset first"
   ]
  },
  {
   "cell_type": "code",
   "execution_count": 59,
   "id": "eda69a5c-fd74-4c1f-8023-e431d0c24cb6",
   "metadata": {},
   "outputs": [],
   "source": [
    "from collections import Counter"
   ]
  },
  {
   "cell_type": "code",
   "execution_count": 60,
   "id": "d68e6828-4e0c-470a-bc6a-b07b9368ba70",
   "metadata": {},
   "outputs": [],
   "source": [
    "selected_column = \"Clean_Text\""
   ]
  },
  {
   "cell_type": "code",
   "execution_count": 61,
   "id": "a5249801-f9d6-4b29-8877-f3a8e1deb86a",
   "metadata": {},
   "outputs": [
    {
     "name": "stdout",
     "output_type": "stream",
     "text": [
      "num_words before: 45272\n",
      "num_words after: 17720\n"
     ]
    }
   ],
   "source": [
    "# from clean text column, convert to vocab id\n",
    "counts = Counter()\n",
    "for row in df[\"Clean_Text\"]:\n",
    "    counts.update(row)\n",
    "\n",
    "# deleting infrequent words\n",
    "MIN_COUNT = 2\n",
    "\n",
    "print(\"num_words before:\",len(counts.keys()))\n",
    "for word in list(counts):\n",
    "    if counts[word] < MIN_COUNT:\n",
    "        del counts[word]\n",
    "print(\"num_words after:\",len(counts.keys()))"
   ]
  },
  {
   "cell_type": "code",
   "execution_count": 62,
   "id": "801cf68e-eaa9-4b9d-b208-5330cfb85f70",
   "metadata": {},
   "outputs": [],
   "source": [
    "vocab2index = {\"\": 0, \"UNK\": 1}\n",
    "words = [\"\", \"UNK\"]\n",
    "for word in counts:\n",
    "    vocab2index[word] = len(words)\n",
    "    words.append(word)"
   ]
  },
  {
   "cell_type": "code",
   "execution_count": 63,
   "id": "680c8a58-5dc4-45ee-b092-446b2e83d07e",
   "metadata": {},
   "outputs": [],
   "source": [
    "def encode_sentence(text, vocab2index, max_len=128):\n",
    "    encoded = np.zeros(max_len, dtype=int)\n",
    "    enc1 = np.array([vocab2index.get(word, vocab2index[\"UNK\"]) for word in text])\n",
    "    length = min(max_len, len(enc1)) # if above max len, cut the rest\n",
    "    encoded[:length] = enc1[:length]\n",
    "\n",
    "    return encoded"
   ]
  },
  {
   "cell_type": "code",
   "execution_count": 64,
   "id": "18b86361-337b-4255-9f34-8b443d4062c6",
   "metadata": {},
   "outputs": [
    {
     "data": {
      "application/vnd.jupyter.widget-view+json": {
       "model_id": "37a02fe4de5246af820c6045890e5d25",
       "version_major": 2,
       "version_minor": 0
      },
      "text/plain": [
       "  0%|          | 0/31707 [00:00<?, ?it/s]"
      ]
     },
     "metadata": {},
     "output_type": "display_data"
    },
    {
     "name": "stderr",
     "output_type": "stream",
     "text": [
      "/var/folders/d_/43yhfw3n2wx5mg7dg0cxjld00000gn/T/ipykernel_68114/1032533658.py:1: SettingWithCopyWarning: \n",
      "A value is trying to be set on a copy of a slice from a DataFrame.\n",
      "Try using .loc[row_indexer,col_indexer] = value instead\n",
      "\n",
      "See the caveats in the documentation: https://pandas.pydata.org/pandas-docs/stable/user_guide/indexing.html#returning-a-view-versus-a-copy\n",
      "  df[\"Clean_Text_Encoded\"] = df[\"Clean_Text\"].progress_apply(lambda x: np.array(encode_sentence(x, vocab2index)))\n"
     ]
    },
    {
     "data": {
      "text/html": [
       "<div>\n",
       "<style scoped>\n",
       "    .dataframe tbody tr th:only-of-type {\n",
       "        vertical-align: middle;\n",
       "    }\n",
       "\n",
       "    .dataframe tbody tr th {\n",
       "        vertical-align: top;\n",
       "    }\n",
       "\n",
       "    .dataframe thead th {\n",
       "        text-align: right;\n",
       "    }\n",
       "</style>\n",
       "<table border=\"1\" class=\"dataframe\">\n",
       "  <thead>\n",
       "    <tr style=\"text-align: right;\">\n",
       "      <th></th>\n",
       "      <th>Text</th>\n",
       "      <th>Emotion_uniform</th>\n",
       "      <th>Clean_Text</th>\n",
       "      <th>Clean_Text_detok</th>\n",
       "      <th>Clean_Text_Encoded</th>\n",
       "    </tr>\n",
       "  </thead>\n",
       "  <tbody>\n",
       "    <tr>\n",
       "      <th>1</th>\n",
       "      <td>Sage Act upgrade on my to do list for tommorow.</td>\n",
       "      <td>2</td>\n",
       "      <td>[Sage, Act, upgrade, list, tommorow]</td>\n",
       "      <td>Sage Act upgrade list tommorow</td>\n",
       "      <td>[1, 2, 3, 4, 5, 0, 0, 0, 0, 0, 0, 0, 0, 0, 0, ...</td>\n",
       "    </tr>\n",
       "    <tr>\n",
       "      <th>2</th>\n",
       "      <td>ON THE WAY TO MY HOMEGIRL BABY FUNERAL!!! MAN ...</td>\n",
       "      <td>3</td>\n",
       "      <td>[ON, THE, WAY, TO, MY, HOMEGIRL, BABY, FUNERAL...</td>\n",
       "      <td>ON THE WAY TO MY HOMEGIRL BABY FUNERAL MAN I H...</td>\n",
       "      <td>[6, 7, 8, 9, 10, 1, 11, 1, 12, 13, 14, 1, 15, ...</td>\n",
       "    </tr>\n",
       "    <tr>\n",
       "      <th>3</th>\n",
       "      <td>Such an eye ! The true hazel eye-and so brill...</td>\n",
       "      <td>2</td>\n",
       "      <td>[Such, eye, The, true, hazel, eyeand, brillian...</td>\n",
       "      <td>Such eye The true hazel eyeand brilliant Regul...</td>\n",
       "      <td>[20, 21, 22, 23, 1, 1, 24, 1, 25, 26, 27, 1, 2...</td>\n",
       "    </tr>\n",
       "    <tr>\n",
       "      <th>4</th>\n",
       "      <td>@Iluvmiasantos ugh babe.. hugggzzz for u .!  b...</td>\n",
       "      <td>2</td>\n",
       "      <td>[Iluvmiasantos, ugh, babe, hugggzzz, u, babe, ...</td>\n",
       "      <td>Iluvmiasantos ugh babe hugggzzz u babe naamaze...</td>\n",
       "      <td>[1, 54, 55, 1, 56, 55, 1, 57, 58, 59, 55, 59, ...</td>\n",
       "    </tr>\n",
       "    <tr>\n",
       "      <th>5</th>\n",
       "      <td>I'm expecting an extremely important phonecall...</td>\n",
       "      <td>5</td>\n",
       "      <td>[Im, expecting, extremely, important, phonecal...</td>\n",
       "      <td>Im expecting extremely important phonecall min...</td>\n",
       "      <td>[65, 66, 67, 68, 69, 70, 71, 72, 0, 0, 0, 0, 0...</td>\n",
       "    </tr>\n",
       "  </tbody>\n",
       "</table>\n",
       "</div>"
      ],
      "text/plain": [
       "                                                Text  Emotion_uniform  \\\n",
       "1    Sage Act upgrade on my to do list for tommorow.                2   \n",
       "2  ON THE WAY TO MY HOMEGIRL BABY FUNERAL!!! MAN ...                3   \n",
       "3   Such an eye ! The true hazel eye-and so brill...                2   \n",
       "4  @Iluvmiasantos ugh babe.. hugggzzz for u .!  b...                2   \n",
       "5  I'm expecting an extremely important phonecall...                5   \n",
       "\n",
       "                                          Clean_Text  \\\n",
       "1               [Sage, Act, upgrade, list, tommorow]   \n",
       "2  [ON, THE, WAY, TO, MY, HOMEGIRL, BABY, FUNERAL...   \n",
       "3  [Such, eye, The, true, hazel, eyeand, brillian...   \n",
       "4  [Iluvmiasantos, ugh, babe, hugggzzz, u, babe, ...   \n",
       "5  [Im, expecting, extremely, important, phonecal...   \n",
       "\n",
       "                                    Clean_Text_detok  \\\n",
       "1                     Sage Act upgrade list tommorow   \n",
       "2  ON THE WAY TO MY HOMEGIRL BABY FUNERAL MAN I H...   \n",
       "3  Such eye The true hazel eyeand brilliant Regul...   \n",
       "4  Iluvmiasantos ugh babe hugggzzz u babe naamaze...   \n",
       "5  Im expecting extremely important phonecall min...   \n",
       "\n",
       "                                  Clean_Text_Encoded  \n",
       "1  [1, 2, 3, 4, 5, 0, 0, 0, 0, 0, 0, 0, 0, 0, 0, ...  \n",
       "2  [6, 7, 8, 9, 10, 1, 11, 1, 12, 13, 14, 1, 15, ...  \n",
       "3  [20, 21, 22, 23, 1, 1, 24, 1, 25, 26, 27, 1, 2...  \n",
       "4  [1, 54, 55, 1, 56, 55, 1, 57, 58, 59, 55, 59, ...  \n",
       "5  [65, 66, 67, 68, 69, 70, 71, 72, 0, 0, 0, 0, 0...  "
      ]
     },
     "execution_count": 64,
     "metadata": {},
     "output_type": "execute_result"
    }
   ],
   "source": [
    "df[\"Clean_Text_Encoded\"] = df[\"Clean_Text\"].progress_apply(lambda x: np.array(encode_sentence(x, vocab2index)))\n",
    "df.head()"
   ]
  },
  {
   "cell_type": "code",
   "execution_count": 65,
   "id": "4285e961-07ea-4307-a765-8d6ca0ad1b41",
   "metadata": {},
   "outputs": [],
   "source": [
    "X_train, X_val, y_train, y_val = train_test_split(df[\"Clean_Text_Encoded\"], y, random_state=3407, test_size=0.2, stratify=y)"
   ]
  },
  {
   "cell_type": "code",
   "execution_count": 66,
   "id": "9ba57c2f-c0f5-4803-8176-65c75db7afc5",
   "metadata": {},
   "outputs": [],
   "source": [
    "class TextEmotionDataset(Dataset):\n",
    "    def __init__(self, data, labels=None):\n",
    "        self.texts = data.to_numpy() # the assumption is already vocab id\n",
    "        self.labels = labels.to_list()\n",
    "\n",
    "    \n",
    "    def __len__(self):\n",
    "        return len(self.texts)\n",
    "\n",
    "\n",
    "    def __getitem__(self, index):\n",
    "        text = self.texts[index]\n",
    "        label = torch.tensor(self.labels[index], dtype=torch.long)\n",
    "        return text, label"
   ]
  },
  {
   "cell_type": "code",
   "execution_count": 67,
   "id": "95b7118d-e9fa-4fe3-9bfe-9c11db4cecc6",
   "metadata": {
    "scrolled": true
   },
   "outputs": [],
   "source": [
    "train_ds = TextEmotionDataset(X_train, y_train)\n",
    "train_loader = DataLoader(train_ds, batch_size=16, shuffle=True)\n",
    "\n",
    "val_ds = TextEmotionDataset(X_val, y_val)\n",
    "val_loader = DataLoader(val_ds, batch_size=16, shuffle=False)"
   ]
  },
  {
   "cell_type": "code",
   "execution_count": 68,
   "id": "d1f53295-9124-409a-826f-aba814870927",
   "metadata": {},
   "outputs": [
    {
     "data": {
      "text/plain": [
       "17720"
      ]
     },
     "execution_count": 68,
     "metadata": {},
     "output_type": "execute_result"
    }
   ],
   "source": [
    "vocab_size = len(counts.keys())\n",
    "vocab_size"
   ]
  },
  {
   "cell_type": "code",
   "execution_count": 69,
   "id": "bbb20e41-4411-40ad-88ea-d293d7b8b622",
   "metadata": {
    "scrolled": true
   },
   "outputs": [
    {
     "name": "stdout",
     "output_type": "stream",
     "text": [
      "torch.Size([16, 128])\n"
     ]
    }
   ],
   "source": [
    "for x in val_loader:\n",
    "    print(x[0].shape)\n",
    "    break"
   ]
  },
  {
   "cell_type": "code",
   "execution_count": 70,
   "id": "3dbc56dd-7b9d-4746-a4e2-30f604dc87f1",
   "metadata": {},
   "outputs": [],
   "source": [
    "class RecurrentModel(nn.Module):\n",
    "    def __init__(self, vocab_size, output_size):\n",
    "        super(RecurrentModel, self).__init__()\n",
    "\n",
    "        self.vocab_size = vocab_size\n",
    "\n",
    "        self.embedding = nn.Embedding(vocab_size, embedding_dim=128)\n",
    "        self.lstm = nn.LSTM(128, hidden_size=64, num_layers=2, bidirectional=False, dropout=0.1)\n",
    "\n",
    "        self.linear1 = nn.Linear(64, 64)\n",
    "        self.dropout1 = nn.Dropout(0.2)\n",
    "        self.linear2 = nn.Linear(64, output_size)\n",
    "\n",
    "\n",
    "    def forward(self, input_text):\n",
    "        embedding_output = self.embedding(input_text)\n",
    "\n",
    "        lstm_output, (hidden_state, cell_state) = self.lstm(embedding_output)\n",
    "\n",
    "        output = F.relu(self.linear1(lstm_output[:, -1]))\n",
    "        output = self.dropout1(output)\n",
    "        output = self.linear2(output)\n",
    "\n",
    "        return output"
   ]
  },
  {
   "cell_type": "code",
   "execution_count": 71,
   "id": "feb0cf93-345a-4371-b5be-e00cc2a2864f",
   "metadata": {
    "scrolled": true
   },
   "outputs": [],
   "source": [
    "rnn_model = RecurrentModel(vocab_size, output_size=len(emotions_dict)).to(device)\n",
    "criterion = nn.CrossEntropyLoss()\n",
    "optimizer = optim.Adam(rnn_model.parameters(), lr=0.1)"
   ]
  },
  {
   "cell_type": "code",
   "execution_count": 72,
   "id": "932dad76-e998-417a-ab31-7bd807501882",
   "metadata": {},
   "outputs": [
    {
     "name": "stdout",
     "output_type": "stream",
     "text": [
      "Epoch 0: train_loss: 0.1067; train_accuracy: 0.3291; val_loss: 1.7007; val_accuracy: 0.3311\n",
      "Epoch 1: train_loss: 0.1063; train_accuracy: 0.3299; val_loss: 1.6998; val_accuracy: 0.3311\n",
      "Epoch 2: train_loss: 0.1064; train_accuracy: 0.3240; val_loss: 1.6940; val_accuracy: 0.3311\n",
      "Epoch 3: train_loss: 0.1063; train_accuracy: 0.3288; val_loss: 1.6984; val_accuracy: 0.3311\n",
      "Epoch 4: train_loss: 0.1063; train_accuracy: 0.3286; val_loss: 1.7172; val_accuracy: 0.3311\n",
      "Epoch 5: train_loss: 0.1064; train_accuracy: 0.3300; val_loss: 1.6924; val_accuracy: 0.3311\n",
      "Epoch 6: train_loss: 0.1064; train_accuracy: 0.3300; val_loss: 1.6994; val_accuracy: 0.3311\n",
      "Epoch 7: train_loss: 0.1064; train_accuracy: 0.3288; val_loss: 1.6999; val_accuracy: 0.3311\n",
      "Epoch 8: train_loss: 0.1063; train_accuracy: 0.3287; val_loss: 1.6943; val_accuracy: 0.3311\n",
      "Epoch 9: train_loss: 0.1065; train_accuracy: 0.3269; val_loss: 1.6909; val_accuracy: 0.3311\n",
      "Epoch 10: train_loss: 0.1063; train_accuracy: 0.3284; val_loss: 1.7109; val_accuracy: 0.3311\n",
      "Epoch 11: train_loss: 0.1065; train_accuracy: 0.3273; val_loss: 1.7046; val_accuracy: 0.3311\n",
      "Epoch 12: train_loss: 0.1063; train_accuracy: 0.3292; val_loss: 1.6940; val_accuracy: 0.3311\n",
      "Epoch 13: train_loss: 0.1063; train_accuracy: 0.3299; val_loss: 1.6960; val_accuracy: 0.3311\n",
      "Epoch 14: train_loss: 0.1063; train_accuracy: 0.3292; val_loss: 1.6922; val_accuracy: 0.3311\n",
      "Epoch 15: train_loss: 0.1063; train_accuracy: 0.3295; val_loss: 1.7135; val_accuracy: 0.3311\n",
      "Epoch 16: train_loss: 0.1064; train_accuracy: 0.3256; val_loss: 1.7008; val_accuracy: 0.3311\n",
      "Epoch 17: train_loss: 0.1063; train_accuracy: 0.3284; val_loss: 1.7065; val_accuracy: 0.3311\n",
      "Epoch 18: train_loss: 0.1064; train_accuracy: 0.3283; val_loss: 1.6907; val_accuracy: 0.3311\n",
      "Epoch 19: train_loss: 0.1063; train_accuracy: 0.3292; val_loss: 1.7004; val_accuracy: 0.3311\n"
     ]
    }
   ],
   "source": [
    "rnn_model_result = fit(rnn_model, criterion, optimizer, train_loader, val_loader, epochs=EPOCHS)"
   ]
  },
  {
   "cell_type": "code",
   "execution_count": 73,
   "id": "d03b898c-6c69-4871-93f3-53120aa91016",
   "metadata": {},
   "outputs": [
    {
     "data": {
      "text/plain": [
       "<matplotlib.legend.Legend at 0x35eea6510>"
      ]
     },
     "execution_count": 73,
     "metadata": {},
     "output_type": "execute_result"
    },
    {
     "data": {
      "image/png": "[encoded data removed]",
      "text/plain": [
       "<Figure size 1500x700 with 2 Axes>"
      ]
     },
     "metadata": {},
     "output_type": "display_data"
    }
   ],
   "source": [
    "plt.figure(figsize=(15, 7))\n",
    "plt.subplot(1, 2, 1)\n",
    "\n",
    "plt.plot(rnn_model_result[\"train_accuracy\"], label=\"train_accuracy\")\n",
    "plt.plot(rnn_model_result[\"val_accuracy\"], label=\"val_accuracy\")\n",
    "plt.xlabel(\"Epochs\")\n",
    "plt.ylabel(\"Accuracy\")\n",
    "plt.legend()\n",
    "\n",
    "plt.subplot(1, 2, 2)\n",
    "plt.plot(rnn_model_result[\"train_loss\"], label=\"train_loss\")\n",
    "plt.plot(rnn_model_result[\"val_loss\"], label=\"val_loss\")\n",
    "plt.xlabel(\"Epochs\")\n",
    "plt.ylabel(\"Loss\")\n",
    "plt.legend()"
   ]
  },
  {
   "cell_type": "code",
   "execution_count": 74,
   "id": "205d20e5-8de5-4567-b158-54797a536d83",
   "metadata": {},
   "outputs": [
    {
     "name": "stdout",
     "output_type": "stream",
     "text": [
      "models/torch_text_rnn_model_2024.06.15.19.53.49.pth\n"
     ]
    }
   ],
   "source": [
    "PATH = f\"models/torch_text_rnn_model_{datetime.datetime.now().strftime('%Y.%m.%d.%H.%M.%S')}.pth\"\n",
    "print(PATH)\n",
    "\n",
    "# save model\n",
    "torch.save(rnn_model.state_dict(), PATH)"
   ]
  },
  {
   "cell_type": "markdown",
   "id": "0ab30b20-4d44-40ca-a6c7-9987f51444df",
   "metadata": {},
   "source": [
    "## Convolutional Model"
   ]
  },
  {
   "cell_type": "code",
   "execution_count": 75,
   "id": "99b3fc38-31b7-4fd0-95c8-7bff8340928e",
   "metadata": {},
   "outputs": [
    {
     "name": "stdout",
     "output_type": "stream",
     "text": [
      "torch.Size([16, 128])\n"
     ]
    }
   ],
   "source": [
    "for x in train_loader:\n",
    "    print(x[0].shape)\n",
    "    break"
   ]
  },
  {
   "cell_type": "code",
   "execution_count": 76,
   "id": "69134744-bee5-4175-a31a-a34c25ea6399",
   "metadata": {},
   "outputs": [],
   "source": [
    "class ConvolutionalModel(nn.Module):\n",
    "    def __init__(self, vocab_size, output_size):\n",
    "        super(ConvolutionalModel, self).__init__()\n",
    "\n",
    "        self.vocab_size = vocab_size\n",
    "\n",
    "        self.embedding = nn.Embedding(vocab_size, embedding_dim=128, padding_idx=1)\n",
    "        self.conv1 = nn.Conv1d(128, 64, 3)\n",
    "        self.conv2 = nn.Conv1d(64, 32, 3)\n",
    "        self.dropout1 = nn.Dropout(0.1)\n",
    "        self.linear_size = 32 * 124\n",
    "        self.linear1 = nn.Linear(self.linear_size, 64)\n",
    "        self.dropout2 = nn.Dropout(0.1)\n",
    "        self.linear2 = nn.Linear(64, output_size)\n",
    "\n",
    "    \n",
    "    def forward(self, input_text):\n",
    "        embedded = self.embedding(input_text)\n",
    "        # embedded = [batch size, seq len, embedding dim]\n",
    "        # need to convert to:\n",
    "        # embedded = [batch size, embedding dim, seq len]\n",
    "        embedded = embedded.permute(0, 2, 1)\n",
    "        output = F.relu(self.conv1(embedded))\n",
    "        output = F.relu(self.conv2(output))\n",
    "        output = self.dropout1(output).view(-1, self.linear_size)\n",
    "        output = F.relu(self.linear1(output))\n",
    "        output = self.dropout2(output)\n",
    "        output = self.linear2(output) # no need softmax\n",
    "\n",
    "        return output"
   ]
  },
  {
   "cell_type": "code",
   "execution_count": 77,
   "id": "87ee497c-bf4e-463d-8820-d8b8ae61032d",
   "metadata": {},
   "outputs": [],
   "source": [
    "cnn_model = ConvolutionalModel(vocab_size, output_size=len(emotions_dict)).to(device)\n",
    "criterion = nn.CrossEntropyLoss()\n",
    "optimizer = optim.Adam(cnn_model.parameters(), lr=0.001, weight_decay=1e-5)"
   ]
  },
  {
   "cell_type": "code",
   "execution_count": 78,
   "id": "f5741ffb-a714-4794-9758-69c73ed16728",
   "metadata": {},
   "outputs": [
    {
     "name": "stdout",
     "output_type": "stream",
     "text": [
      "Epoch 0: train_loss: 0.0962; train_accuracy: 0.3999; val_loss: 1.3630; val_accuracy: 0.4801\n",
      "Epoch 1: train_loss: 0.0753; train_accuracy: 0.5603; val_loss: 1.1866; val_accuracy: 0.5658\n",
      "Epoch 2: train_loss: 0.0606; train_accuracy: 0.6568; val_loss: 1.1796; val_accuracy: 0.5812\n",
      "Epoch 3: train_loss: 0.0490; train_accuracy: 0.7237; val_loss: 1.2505; val_accuracy: 0.5886\n",
      "Epoch 4: train_loss: 0.0390; train_accuracy: 0.7808; val_loss: 1.4402; val_accuracy: 0.5881\n",
      "Epoch 5: train_loss: 0.0311; train_accuracy: 0.8270; val_loss: 1.5649; val_accuracy: 0.5881\n",
      "Epoch 6: train_loss: 0.0244; train_accuracy: 0.8669; val_loss: 1.7170; val_accuracy: 0.5874\n",
      "Epoch 7: train_loss: 0.0199; train_accuracy: 0.8911; val_loss: 1.9864; val_accuracy: 0.5787\n",
      "Epoch 8: train_loss: 0.0160; train_accuracy: 0.9126; val_loss: 2.1428; val_accuracy: 0.5683\n",
      "Epoch 9: train_loss: 0.0136; train_accuracy: 0.9262; val_loss: 2.4340; val_accuracy: 0.5869\n",
      "Epoch 10: train_loss: 0.0121; train_accuracy: 0.9347; val_loss: 2.5663; val_accuracy: 0.5872\n",
      "Epoch 11: train_loss: 0.0110; train_accuracy: 0.9408; val_loss: 2.6407; val_accuracy: 0.5765\n",
      "Epoch 12: train_loss: 0.0100; train_accuracy: 0.9467; val_loss: 2.7353; val_accuracy: 0.5850\n",
      "Epoch 13: train_loss: 0.0089; train_accuracy: 0.9522; val_loss: 2.8981; val_accuracy: 0.5806\n",
      "Epoch 14: train_loss: 0.0090; train_accuracy: 0.9526; val_loss: 2.9445; val_accuracy: 0.5788\n",
      "Epoch 15: train_loss: 0.0078; train_accuracy: 0.9582; val_loss: 3.0537; val_accuracy: 0.5684\n",
      "Epoch 16: train_loss: 0.0076; train_accuracy: 0.9606; val_loss: 3.0030; val_accuracy: 0.5833\n",
      "Epoch 17: train_loss: 0.0070; train_accuracy: 0.9628; val_loss: 3.0485; val_accuracy: 0.5632\n",
      "Epoch 18: train_loss: 0.0075; train_accuracy: 0.9604; val_loss: 3.0918; val_accuracy: 0.5771\n",
      "Epoch 19: train_loss: 0.0065; train_accuracy: 0.9653; val_loss: 2.9870; val_accuracy: 0.5787\n"
     ]
    }
   ],
   "source": [
    "cnn_model_result = fit(cnn_model, criterion, optimizer, train_loader, val_loader, epochs=EPOCHS)"
   ]
  },
  {
   "cell_type": "code",
   "execution_count": 79,
   "id": "7773eef0-107f-4e7d-bcd6-4f8c0ca4e567",
   "metadata": {},
   "outputs": [
    {
     "data": {
      "text/plain": [
       "<matplotlib.legend.Legend at 0x35e15b8d0>"
      ]
     },
     "execution_count": 79,
     "metadata": {},
     "output_type": "execute_result"
    },
    {
     "data": {
      "image/png": "[encoded data removed]",
      "text/plain": [
       "<Figure size 1500x700 with 2 Axes>"
      ]
     },
     "metadata": {},
     "output_type": "display_data"
    }
   ],
   "source": [
    "plt.figure(figsize=(15, 7))\n",
    "plt.subplot(1, 2, 1)\n",
    "\n",
    "plt.plot(cnn_model_result[\"train_accuracy\"], label=\"train_accuracy\")\n",
    "plt.plot(cnn_model_result[\"val_accuracy\"], label=\"val_accuracy\")\n",
    "plt.xlabel(\"Epochs\")\n",
    "plt.ylabel(\"Accuracy\")\n",
    "plt.legend()\n",
    "\n",
    "plt.subplot(1, 2, 2)\n",
    "plt.plot(cnn_model_result[\"train_loss\"], label=\"train_loss\")\n",
    "plt.plot(cnn_model_result[\"val_loss\"], label=\"val_loss\")\n",
    "plt.xlabel(\"Epochs\")\n",
    "plt.ylabel(\"Loss\")\n",
    "plt.legend()"
   ]
  },
  {
   "cell_type": "code",
   "execution_count": 80,
   "id": "ea456290-a111-48ba-9cfb-3ff85887ed25",
   "metadata": {},
   "outputs": [
    {
     "name": "stdout",
     "output_type": "stream",
     "text": [
      "models/torch_text_cnn_model_2024.06.15.19.56.37.pth\n"
     ]
    }
   ],
   "source": [
    "PATH = f\"models/torch_text_cnn_model_{datetime.datetime.now().strftime('%Y.%m.%d.%H.%M.%S')}.pth\"\n",
    "print(PATH)\n",
    "\n",
    "# save model\n",
    "torch.save(cnn_model.state_dict(), PATH)"
   ]
  },
  {
   "cell_type": "markdown",
   "id": "20251ec7-9428-4bf1-9399-7cca66c62b83",
   "metadata": {},
   "source": [
    "## Transformer Model\n",
    "This time using Keras"
   ]
  },
  {
   "cell_type": "code",
   "execution_count": 93,
   "id": "0696ebb2-7a1a-41b6-acbe-986485e13f20",
   "metadata": {},
   "outputs": [
    {
     "data": {
      "text/plain": [
       "[PhysicalDevice(name='/physical_device:GPU:0', device_type='GPU')]"
      ]
     },
     "execution_count": 93,
     "metadata": {},
     "output_type": "execute_result"
    }
   ],
   "source": [
    "import tensorflow as tf\n",
    "\n",
    "# check gpu\n",
    "tf.config.list_physical_devices('GPU') "
   ]
  },
  {
   "cell_type": "code",
   "execution_count": 105,
   "id": "7ede5cb8-f719-4e48-89df-7443a4ce7bdd",
   "metadata": {},
   "outputs": [
    {
     "data": {
      "text/plain": [
       "'2.15.0'"
      ]
     },
     "execution_count": 105,
     "metadata": {},
     "output_type": "execute_result"
    }
   ],
   "source": [
    "tf.__version__"
   ]
  },
  {
   "cell_type": "code",
   "execution_count": null,
   "id": "efe3b93a-035d-4c49-93e0-1db97713f428",
   "metadata": {},
   "outputs": [],
   "source": [
    "tf.random.set_seed(3407)"
   ]
  },
  {
   "cell_type": "code",
   "execution_count": 106,
   "id": "17e36bc8-f677-42d2-87f6-f51442c2e41b",
   "metadata": {},
   "outputs": [],
   "source": [
    "from tensorflow.keras import layers\n",
    "from tensorflow.keras import Sequential"
   ]
  },
  {
   "cell_type": "code",
   "execution_count": 146,
   "id": "8b7670d7-99fe-438e-be34-4dba6ef2baa4",
   "metadata": {},
   "outputs": [],
   "source": [
    "class TransformerBlock(layers.Layer):\n",
    "    def __init__(self, embed_dim, num_heads, ff_dim, dropout_rate=0.1):\n",
    "        super().__init__()\n",
    "        self.att = layers.MultiHeadAttention(num_heads=num_heads, key_dim=embed_dim)\n",
    "        self.dropout1 = layers.Dropout(dropout_rate)\n",
    "        self.layernorm1 = layers.LayerNormalization(epsilon=1e-6)\n",
    "        self.ffn = Sequential([\n",
    "            layers.Dense(ff_dim, activation=\"relu\"),\n",
    "            layers.Dense(embed_dim),\n",
    "        ])\n",
    "        self.dropout2 = layers.Dropout(dropout_rate)\n",
    "        self.layernorm2 = layers.LayerNormalization(epsilon=1e-6)\n",
    "\n",
    "\n",
    "    def call(self, inputs):\n",
    "        attn_output = self.att(inputs, inputs)\n",
    "        attn_output = self.dropout1(attn_output)\n",
    "        out1 = self.layernorm1(inputs + attn_output) # add + norm\n",
    "        ffn_output = self.ffn(out1)\n",
    "        ffn_output = self.dropout2(ffn_output)\n",
    "        return self.layernorm2(out1 + ffn_output)"
   ]
  },
  {
   "cell_type": "code",
   "execution_count": 147,
   "id": "c83e468f-e39d-44fd-92a9-42679044e11c",
   "metadata": {},
   "outputs": [],
   "source": [
    "class TokenAndPositionEmbedding(layers.Layer):\n",
    "    def __init__(self, maxlen, vocab_size, embed_dim):\n",
    "        super().__init__()\n",
    "        self.token_emb = layers.Embedding(input_dim=vocab_size, output_dim=embed_dim)\n",
    "        self.pos_emb = layers.Embedding(input_dim=maxlen, output_dim=embed_dim)\n",
    "\n",
    "    def call(self, x):\n",
    "        maxlen = x.shape[-1]\n",
    "        positions = np.arange(0, maxlen, step=1)\n",
    "        positions = self.pos_emb(positions)\n",
    "        x = self.token_emb(x)\n",
    "        return x + positions"
   ]
  },
  {
   "cell_type": "code",
   "execution_count": 135,
   "id": "ec5c2374-71cd-4632-8a7f-b66466cc2380",
   "metadata": {},
   "outputs": [],
   "source": [
    "smote = SMOTE(random_state=3407)"
   ]
  },
  {
   "cell_type": "code",
   "execution_count": 126,
   "id": "06b5165f-57f8-4637-93b9-fbc34123f590",
   "metadata": {},
   "outputs": [
    {
     "data": {
      "text/plain": [
       "(25365, 128)"
      ]
     },
     "execution_count": 126,
     "metadata": {},
     "output_type": "execute_result"
    }
   ],
   "source": [
    "X_transformer_train = np.vstack(X_train.to_numpy())\n",
    "X_transformer_train.shape"
   ]
  },
  {
   "cell_type": "code",
   "execution_count": 129,
   "id": "364bdad2-14af-45dd-91bc-728130b33bba",
   "metadata": {},
   "outputs": [
    {
     "data": {
      "text/plain": [
       "(25365,)"
      ]
     },
     "execution_count": 129,
     "metadata": {},
     "output_type": "execute_result"
    }
   ],
   "source": [
    "y_transformer_train = y_train.to_numpy()\n",
    "y_transformer_train.shape"
   ]
  },
  {
   "cell_type": "code",
   "execution_count": 136,
   "id": "0ce5f772-6173-4ef6-8397-2cf71cb7a4b3",
   "metadata": {},
   "outputs": [],
   "source": [
    "X_transformer_train, y_transformer_train = smote.fit_resample(X_transformer_train, y_transformer_train)"
   ]
  },
  {
   "cell_type": "code",
   "execution_count": 137,
   "id": "30e5c62f-e67b-49e2-ae93-7ead290d8121",
   "metadata": {},
   "outputs": [
    {
     "data": {
      "text/plain": [
       "(58786, 128)"
      ]
     },
     "execution_count": 137,
     "metadata": {},
     "output_type": "execute_result"
    }
   ],
   "source": [
    "X_transformer_train.shape"
   ]
  },
  {
   "cell_type": "code",
   "execution_count": 185,
   "id": "bbda62f4-65cd-43e9-abe4-2b56d0d3ade4",
   "metadata": {},
   "outputs": [],
   "source": [
    "# onehot y label\n",
    "from sklearn.preprocessing import OneHotEncoder\n",
    "\n",
    "onehot = OneHotEncoder()"
   ]
  },
  {
   "cell_type": "code",
   "execution_count": 186,
   "id": "778b156a-41a2-4bfd-bb63-7f317c506418",
   "metadata": {},
   "outputs": [
    {
     "data": {
      "text/plain": [
       "(58786, 7)"
      ]
     },
     "execution_count": 186,
     "metadata": {},
     "output_type": "execute_result"
    }
   ],
   "source": [
    "y_transformer_train_onehot = onehot.fit_transform(y_transformer_train.reshape(-1, 1)).toarray()\n",
    "y_transformer_train_onehot.shape"
   ]
  },
  {
   "cell_type": "code",
   "execution_count": 187,
   "id": "509575c6-2d7b-439e-a18a-921347576f2f",
   "metadata": {},
   "outputs": [
    {
     "data": {
      "text/plain": [
       "(6342, 128)"
      ]
     },
     "execution_count": 187,
     "metadata": {},
     "output_type": "execute_result"
    }
   ],
   "source": [
    "X_transformer_val = np.vstack(X_val.to_numpy())\n",
    "X_transformer_val.shape"
   ]
  },
  {
   "cell_type": "code",
   "execution_count": 188,
   "id": "5dec5a71-46ad-4f44-87d1-266e8696aba5",
   "metadata": {},
   "outputs": [
    {
     "data": {
      "text/plain": [
       "(6342,)"
      ]
     },
     "execution_count": 188,
     "metadata": {},
     "output_type": "execute_result"
    }
   ],
   "source": [
    "y_transformer_val = y_val.to_numpy()\n",
    "y_transformer_val.shape"
   ]
  },
  {
   "cell_type": "code",
   "execution_count": 189,
   "id": "ad6a3d94-752a-4573-a182-93df66655e5d",
   "metadata": {},
   "outputs": [
    {
     "data": {
      "text/plain": [
       "(6342, 7)"
      ]
     },
     "execution_count": 189,
     "metadata": {},
     "output_type": "execute_result"
    }
   ],
   "source": [
    "y_transformer_val_onehot = onehot.transform(y_transformer_val.reshape(-1, 1)).toarray()\n",
    "y_transformer_val_onehot.shape"
   ]
  },
  {
   "cell_type": "code",
   "execution_count": 219,
   "id": "00da147c-368e-4c0a-b2c8-f760c6cef176",
   "metadata": {},
   "outputs": [],
   "source": [
    "embed_dim = 64  # Embedding size for each token\n",
    "num_heads = 8  # Number of attention heads\n",
    "ff_dim = 32  # Hidden layer size in feed forward network inside transformer\n",
    "max_len = 128\n",
    "\n",
    "with tf.device('/GPU:0'):\n",
    "    inputs = layers.Input(shape=(max_len,))\n",
    "    embedding_layer = TokenAndPositionEmbedding(max_len, vocab_size, embed_dim)\n",
    "    x = embedding_layer(inputs)\n",
    "    transformer_block = TransformerBlock(embed_dim, num_heads, ff_dim)\n",
    "    x = transformer_block(x)\n",
    "    x = layers.GlobalAveragePooling1D()(x)\n",
    "    x = layers.Dropout(0.2)(x)\n",
    "    x = layers.Dense(16, activation=\"relu\")(x)\n",
    "    x = layers.Dropout(0.2)(x)\n",
    "    outputs = layers.Dense(len(emotions_dict), activation=\"softmax\")(x)\n",
    "    \n",
    "    transformer_model = tf.keras.Model(inputs=inputs, outputs=outputs)"
   ]
  },
  {
   "cell_type": "code",
   "execution_count": 220,
   "id": "89820880-af09-4273-8d0f-345383e8609b",
   "metadata": {},
   "outputs": [
    {
     "name": "stdout",
     "output_type": "stream",
     "text": [
      "Model: \"model_10\"\n",
      "_________________________________________________________________\n",
      " Layer (type)                Output Shape              Param #   \n",
      "=================================================================\n",
      " input_16 (InputLayer)       [(None, 128)]             0         \n",
      "                                                                 \n",
      " token_and_position_embeddi  (None, 128, 64)           1142272   \n",
      " ng_14 (TokenAndPositionEmb                                      \n",
      " edding)                                                         \n",
      "                                                                 \n",
      " transformer_block_12 (Tran  (None, 128, 64)           137120    \n",
      " sformerBlock)                                                   \n",
      "                                                                 \n",
      " global_average_pooling1d_1  (None, 64)                0         \n",
      " 0 (GlobalAveragePooling1D)                                      \n",
      "                                                                 \n",
      " dropout_42 (Dropout)        (None, 64)                0         \n",
      "                                                                 \n",
      " dense_42 (Dense)            (None, 16)                1040      \n",
      "                                                                 \n",
      " dropout_43 (Dropout)        (None, 16)                0         \n",
      "                                                                 \n",
      " dense_43 (Dense)            (None, 7)                 119       \n",
      "                                                                 \n",
      "=================================================================\n",
      "Total params: 1280551 (4.88 MB)\n",
      "Trainable params: 1280551 (4.88 MB)\n",
      "Non-trainable params: 0 (0.00 Byte)\n",
      "_________________________________________________________________\n"
     ]
    }
   ],
   "source": [
    "transformer_model.summary()"
   ]
  },
  {
   "cell_type": "code",
   "execution_count": 221,
   "id": "3a96736f-83c0-4650-9238-3e4467e02e0e",
   "metadata": {},
   "outputs": [
    {
     "name": "stderr",
     "output_type": "stream",
     "text": [
      "WARNING:absl:At this time, the v2.11+ optimizer `tf.keras.optimizers.Adam` runs slowly on M1/M2 Macs, please use the legacy Keras optimizer instead, located at `tf.keras.optimizers.legacy.Adam`.\n"
     ]
    },
    {
     "name": "stdout",
     "output_type": "stream",
     "text": [
      "Epoch 1/20\n"
     ]
    },
    {
     "name": "stderr",
     "output_type": "stream",
     "text": [
      "2024-06-15 22:07:52.453218: E tensorflow/core/grappler/optimizers/meta_optimizer.cc:961] model_pruner failed: INVALID_ARGUMENT: Graph does not contain terminal node Adam/AssignAddVariableOp_10.\n"
     ]
    },
    {
     "name": "stdout",
     "output_type": "stream",
     "text": [
      "3675/3675 [==============================] - 266s 71ms/step - loss: 1.9452 - accuracy: 0.2108 - val_loss: 1.8689 - val_accuracy: 0.3010\n",
      "Epoch 2/20\n",
      "3675/3675 [==============================] - 255s 69ms/step - loss: 1.6567 - accuracy: 0.3275 - val_loss: 1.4487 - val_accuracy: 0.4920\n",
      "Epoch 3/20\n",
      "3675/3675 [==============================] - 263s 71ms/step - loss: 1.5523 - accuracy: 0.3845 - val_loss: 1.3728 - val_accuracy: 0.4991\n",
      "Epoch 4/20\n",
      "3675/3675 [==============================] - 260s 71ms/step - loss: 1.4875 - accuracy: 0.4209 - val_loss: 1.3700 - val_accuracy: 0.5134\n",
      "Epoch 5/20\n",
      "3675/3675 [==============================] - 262s 71ms/step - loss: 1.4210 - accuracy: 0.4533 - val_loss: 1.4130 - val_accuracy: 0.5367\n",
      "Epoch 6/20\n",
      "3675/3675 [==============================] - 265s 72ms/step - loss: 1.3586 - accuracy: 0.4822 - val_loss: 1.3635 - val_accuracy: 0.5465\n",
      "Epoch 7/20\n",
      "3675/3675 [==============================] - 265s 72ms/step - loss: 1.3069 - accuracy: 0.5057 - val_loss: 1.3963 - val_accuracy: 0.5375\n",
      "Epoch 8/20\n",
      "3675/3675 [==============================] - 260s 71ms/step - loss: 1.2617 - accuracy: 0.5241 - val_loss: 1.5682 - val_accuracy: 0.5430\n"
     ]
    }
   ],
   "source": [
    "transformer_model.compile(\n",
    "    optimizer=tf.keras.optimizers.Adam(learning_rate=0.001, epsilon=1e-05),\n",
    "    # optimizer='adam',\n",
    "    loss=\"categorical_crossentropy\",\n",
    "    metrics=[\"accuracy\"]\n",
    ")\n",
    "\n",
    "# if the loss doesn't decrease, early stop\n",
    "callback = tf.keras.callbacks.EarlyStopping(monitor='val_loss', min_delta=0.001, patience=2)\n",
    "\n",
    "with tf.device('/GPU:0'):\n",
    "    history = transformer_model.fit(\n",
    "        X_transformer_train,\n",
    "        y_transformer_train_onehot,\n",
    "        batch_size=16,\n",
    "        epochs=20,\n",
    "        validation_data=(X_transformer_val, y_transformer_val_onehot),\n",
    "        callbacks=[callback],\n",
    "    )"
   ]
  },
  {
   "cell_type": "code",
   "execution_count": 222,
   "id": "f912f08e-6fbe-4230-b77d-0b793c0e2668",
   "metadata": {},
   "outputs": [
    {
     "data": {
      "text/plain": [
       "<matplotlib.legend.Legend at 0x6a1fb5a90>"
      ]
     },
     "execution_count": 222,
     "metadata": {},
     "output_type": "execute_result"
    },
    {
     "data": {
      "image/png": "[encoded data removed]",
      "text/plain": [
       "<Figure size 1500x700 with 2 Axes>"
      ]
     },
     "metadata": {},
     "output_type": "display_data"
    }
   ],
   "source": [
    "plt.figure(figsize=(15, 7))\n",
    "plt.subplot(1, 2, 1)\n",
    "\n",
    "plt.plot(history.history[\"accuracy\"], label=\"train_accuracy\")\n",
    "plt.plot(history.history[\"val_accuracy\"], label=\"val_accuracy\")\n",
    "plt.xlabel(\"Epochs\")\n",
    "plt.ylabel(\"Accuracy\")\n",
    "plt.legend()\n",
    "\n",
    "plt.subplot(1, 2, 2)\n",
    "plt.plot(history.history[\"loss\"], label=\"train_loss\")\n",
    "plt.plot(history.history[\"val_loss\"], label=\"val_loss\")\n",
    "plt.xlabel(\"Epochs\")\n",
    "plt.ylabel(\"Loss\")\n",
    "plt.legend()"
   ]
  },
  {
   "cell_type": "code",
   "execution_count": 223,
   "id": "dd58c445-2969-4acc-b12c-d4eb649ecbdd",
   "metadata": {},
   "outputs": [
    {
     "name": "stdout",
     "output_type": "stream",
     "text": [
      "models/torch_text_transformer_model_2024.06.15.22.42.45.keras\n"
     ]
    }
   ],
   "source": [
    "PATH = f\"models/torch_text_transformer_model_{datetime.datetime.now().strftime('%Y.%m.%d.%H.%M.%S')}.keras\"\n",
    "print(PATH)\n",
    "\n",
    "# save model\n",
    "transformer_model.save(PATH)"
   ]
  },
  {
   "cell_type": "markdown",
   "id": "035a5ba5-2891-4408-af82-2f02933f3a8c",
   "metadata": {},
   "source": [
    "# Predict"
   ]
  },
  {
   "cell_type": "code",
   "execution_count": 81,
   "id": "5f8a0e4b-0d57-4a5d-b2bf-98f97af4c344",
   "metadata": {},
   "outputs": [],
   "source": [
    "def predict_linear(model, text, label=None):\n",
    "    # a use of linear model\n",
    "    print(text)\n",
    "    text_embedding = vectorizer.transform([text]).toarray().astype(np.float32)\n",
    "\n",
    "    with torch.no_grad():\n",
    "        model.eval()\n",
    "        outputs = model(torch.tensor(text_embedding).to(device))\n",
    "        _, predicted = torch.max(outputs.data, axis=1)\n",
    "    \n",
    "        predicted = predicted.cpu().numpy()\n",
    "\n",
    "    print(\"Detected Emotion:\", emotions_dict[predicted[0]])\n",
    "    if label is not None:\n",
    "        print(\"Actual Emotion  :\", emotions_dict[label])"
   ]
  },
  {
   "cell_type": "code",
   "execution_count": 82,
   "id": "88a3ca39-83a5-4c33-b84a-4f1e9113d52f",
   "metadata": {},
   "outputs": [
    {
     "name": "stdout",
     "output_type": "stream",
     "text": [
      "I hate this country\n",
      "Detected Emotion: disgust\n"
     ]
    }
   ],
   "source": [
    "predict_linear(linear_model, \"I hate this country\")"
   ]
  },
  {
   "cell_type": "code",
   "execution_count": 83,
   "id": "89661619-721c-4fc9-bd7e-d98e8f3b5903",
   "metadata": {},
   "outputs": [
    {
     "data": {
      "text/plain": [
       "Text                   I hope so . I'm looking for some material for...\n",
       "Emotion_uniform                                                       1\n",
       "Clean_Text            [I, hope, Im, looking, material, paper, Im, wr...\n",
       "Clean_Text_detok      I hope Im looking material paper Im writing Im...\n",
       "Clean_Text_Encoded    [13, 131, 65, 1796, 6806, 510, 65, 1954, 65, 1...\n",
       "Name: 25219, dtype: object"
      ]
     },
     "execution_count": 83,
     "metadata": {},
     "output_type": "execute_result"
    }
   ],
   "source": [
    "val_data_test = np.random.choice(y_val.index)\n",
    "test_sample = df.loc[val_data_test]\n",
    "test_sample"
   ]
  },
  {
   "cell_type": "code",
   "execution_count": 84,
   "id": "d1ac1256-0473-4320-b5b8-94adbaf36d5a",
   "metadata": {},
   "outputs": [
    {
     "name": "stdout",
     "output_type": "stream",
     "text": [
      "I hope Im looking material paper Im writing Im quite sure look\n",
      "Detected Emotion: happy\n",
      "Actual Emotion  : neutral\n"
     ]
    }
   ],
   "source": [
    "predict_linear(linear_model, test_sample[\"Clean_Text_detok\"], test_sample[\"Emotion_uniform\"])"
   ]
  },
  {
   "cell_type": "code",
   "execution_count": 85,
   "id": "8af98251-93a6-429c-8f65-b266b2c60003",
   "metadata": {},
   "outputs": [],
   "source": [
    "def predict_nonlin(model, text, label=None):\n",
    "    # use rnn & cnn model\n",
    "    # convert to vocab id\n",
    "    print(text)\n",
    "    text_encoded = encode_sentence(text, vocab2index)\n",
    "    text_encoded = text_encoded.reshape(-1, text_encoded.shape[0])\n",
    "\n",
    "    with torch.no_grad():\n",
    "        model.eval()\n",
    "        output = model(torch.tensor(text_encoded).to(device))\n",
    "        _, predicted = torch.max(output.data, axis=1)\n",
    "\n",
    "        predicted = predicted.cpu().numpy()\n",
    "\n",
    "    print(\"Detected Emotion:\", emotions_dict[predicted[0]])\n",
    "    if label is not None:\n",
    "        print(\"Actual Emotion  :\", emotions_dict[label])"
   ]
  },
  {
   "cell_type": "code",
   "execution_count": 86,
   "id": "90df687d-23ea-444b-8f18-f91e1d0dbc8d",
   "metadata": {},
   "outputs": [
    {
     "name": "stdout",
     "output_type": "stream",
     "text": [
      "I hate this country\n",
      "Detected Emotion: happy\n"
     ]
    }
   ],
   "source": [
    "predict_nonlin(cnn_model, \"I hate this country\")"
   ]
  },
  {
   "cell_type": "code",
   "execution_count": 87,
   "id": "ebe88678-6e26-43ad-a047-dff8f11591f9",
   "metadata": {},
   "outputs": [
    {
     "name": "stdout",
     "output_type": "stream",
     "text": [
      " I hope so . I'm looking for some material for a paper I'm writing , and I'm not quite sure where to look . \n",
      "Detected Emotion: happy\n",
      "Actual Emotion  : neutral\n"
     ]
    }
   ],
   "source": [
    "predict_nonlin(cnn_model, test_sample[\"Text\"], test_sample[\"Emotion_uniform\"])"
   ]
  },
  {
   "cell_type": "code",
   "execution_count": 240,
   "id": "6786a895-6e4c-4c59-bb15-06d03a1f783f",
   "metadata": {},
   "outputs": [],
   "source": [
    "def predict_transformer(model, text, label=None):\n",
    "    print(text)\n",
    "    text_encoded = encode_sentence(text, vocab2index)\n",
    "    text_encoded = text_encoded.reshape(-1, text_encoded.shape[0])\n",
    "\n",
    "    predicted = model.predict(text_encoded)\n",
    "    predicted = tf.argmax(predicted, axis=1)\n",
    "\n",
    "    print(\"Detected Emotion:\", emotions_dict[predicted.numpy()[0]])\n",
    "    if label is not None:\n",
    "        print(\"Actual Emotion  :\", emotions_dict[label])"
   ]
  },
  {
   "cell_type": "code",
   "execution_count": 241,
   "id": "a610cc7b-cabb-4bfd-afc3-2bf402a7acd0",
   "metadata": {},
   "outputs": [
    {
     "name": "stdout",
     "output_type": "stream",
     "text": [
      "I hate this country\n",
      "1/1 [==============================] - 0s 38ms/step\n",
      "Detected Emotion: happy\n"
     ]
    }
   ],
   "source": [
    "predict_transformer(transformer_model, \"I hate this country\")"
   ]
  },
  {
   "cell_type": "code",
   "execution_count": 242,
   "id": "2a21fb59-7482-4043-bf24-06cfd449b99f",
   "metadata": {},
   "outputs": [
    {
     "name": "stdout",
     "output_type": "stream",
     "text": [
      " I hope so . I'm looking for some material for a paper I'm writing , and I'm not quite sure where to look . \n",
      "1/1 [==============================] - 0s 23ms/step\n",
      "Detected Emotion: sad\n",
      "Actual Emotion  : neutral\n"
     ]
    }
   ],
   "source": [
    "predict_transformer(transformer_model, test_sample[\"Text\"], test_sample[\"Emotion_uniform\"])"
   ]
  },
  {
   "cell_type": "markdown",
   "id": "7285d9e7-a78b-475a-8c12-c647f30c0183",
   "metadata": {},
   "source": [
    "# Confusion Matrix"
   ]
  },
  {
   "cell_type": "code",
   "execution_count": 92,
   "id": "339f0b5e-7359-4286-bec2-656a7fe0b9f4",
   "metadata": {},
   "outputs": [],
   "source": [
    "from sklearn.metrics import classification_report"
   ]
  },
  {
   "cell_type": "code",
   "execution_count": 197,
   "id": "54424dee-abc1-4481-b6f4-841e6d88f861",
   "metadata": {},
   "outputs": [],
   "source": [
    "def full_report(labs, pred):\n",
    "    accuracy = accuracy_score(labs, pred)\n",
    "    conf_mat = confusion_matrix(labs, pred)\n",
    "    report = classification_report(labs, pred, target_names=emotions_dict.values())\n",
    "    print(\"Accuracy:\", accuracy)\n",
    "    print(\"Classification Report:\\n\", report)\n",
    "    cm = pd.DataFrame(conf_mat, index=emotions_dict.values(), columns=emotions_dict.values())\n",
    "    sns.heatmap(cm, annot=True)\n",
    "    plt.xlabel(\"Predicted\")\n",
    "    plt.ylabel(\"Actual\")\n",
    "    plt.show()"
   ]
  },
  {
   "cell_type": "code",
   "execution_count": 198,
   "id": "6163a0d3-e9fe-4403-9534-3251d8663737",
   "metadata": {},
   "outputs": [],
   "source": [
    "def pytorch_report(model, val_loader):\n",
    "    pred = []\n",
    "    labs = []\n",
    "    with torch.no_grad():\n",
    "        model.eval()\n",
    "        for data in val_loader:\n",
    "            inputs, labels = data\n",
    "            inputs = inputs.to(device)\n",
    "            labels = labels.to(device)\n",
    "\n",
    "            outputs = model(inputs)\n",
    "            loss = criterion(outputs, labels)\n",
    "            _, predicted = torch.max(outputs.data, axis=1)\n",
    "            labs.extend(labels.cpu().numpy())\n",
    "            pred.extend(predicted.cpu().numpy())\n",
    "\n",
    "    full_report(labs, pred)"
   ]
  },
  {
   "cell_type": "code",
   "execution_count": 207,
   "id": "c6102f5a-b757-4a42-8db0-0480b4830a1e",
   "metadata": {},
   "outputs": [],
   "source": [
    "def tensorflow_report(model, X_val, y_val):\n",
    "    pred = model.predict(X_val)\n",
    "    pred = tf.argmax(pred, axis=1)\n",
    "\n",
    "    full_report(y_val, pred)"
   ]
  },
  {
   "cell_type": "code",
   "execution_count": 199,
   "id": "63c9539a-542d-4a81-914e-1e1ced212aa4",
   "metadata": {},
   "outputs": [
    {
     "name": "stdout",
     "output_type": "stream",
     "text": [
      "Accuracy: 0.5953957742037213\n",
      "Classification Report:\n",
      "               precision    recall  f1-score   support\n",
      "\n",
      "   surprised       0.52      0.46      0.49       803\n",
      "     neutral       0.24      0.25      0.25       128\n",
      "       happy       0.65      0.71      0.68      2100\n",
      "         sad       0.56      0.55      0.56      1281\n",
      "       angry       0.53      0.57      0.55       810\n",
      "     fearful       0.71      0.63      0.67      1051\n",
      "     disgust       0.27      0.22      0.24       169\n",
      "\n",
      "    accuracy                           0.60      6342\n",
      "   macro avg       0.50      0.49      0.49      6342\n",
      "weighted avg       0.59      0.60      0.59      6342\n",
      "\n"
     ]
    },
    {
     "data": {
      "image/png": "[encoded data removed]",
      "text/plain": [
       "<Figure size 640x480 with 2 Axes>"
      ]
     },
     "metadata": {},
     "output_type": "display_data"
    }
   ],
   "source": [
    "pytorch_report(linear_model, val_lin_loader)"
   ]
  },
  {
   "cell_type": "code",
   "execution_count": 200,
   "id": "e0f9ef44-fc5f-4f69-be43-2feeac9d6e29",
   "metadata": {},
   "outputs": [
    {
     "name": "stdout",
     "output_type": "stream",
     "text": [
      "Accuracy: 0.33112582781456956\n",
      "Classification Report:\n",
      "               precision    recall  f1-score   support\n",
      "\n",
      "   surprised       0.00      0.00      0.00       803\n",
      "     neutral       0.00      0.00      0.00       128\n",
      "       happy       0.33      1.00      0.50      2100\n",
      "         sad       0.00      0.00      0.00      1281\n",
      "       angry       0.00      0.00      0.00       810\n",
      "     fearful       0.00      0.00      0.00      1051\n",
      "     disgust       0.00      0.00      0.00       169\n",
      "\n",
      "    accuracy                           0.33      6342\n",
      "   macro avg       0.05      0.14      0.07      6342\n",
      "weighted avg       0.11      0.33      0.16      6342\n",
      "\n"
     ]
    },
    {
     "name": "stderr",
     "output_type": "stream",
     "text": [
      "/Library/Frameworks/Python.framework/Versions/3.11/lib/python3.11/site-packages/sklearn/metrics/_classification.py:1497: UndefinedMetricWarning: Precision is ill-defined and being set to 0.0 in labels with no predicted samples. Use `zero_division` parameter to control this behavior.\n",
      "  _warn_prf(average, modifier, f\"{metric.capitalize()} is\", len(result))\n",
      "/Library/Frameworks/Python.framework/Versions/3.11/lib/python3.11/site-packages/sklearn/metrics/_classification.py:1497: UndefinedMetricWarning: Precision is ill-defined and being set to 0.0 in labels with no predicted samples. Use `zero_division` parameter to control this behavior.\n",
      "  _warn_prf(average, modifier, f\"{metric.capitalize()} is\", len(result))\n",
      "/Library/Frameworks/Python.framework/Versions/3.11/lib/python3.11/site-packages/sklearn/metrics/_classification.py:1497: UndefinedMetricWarning: Precision is ill-defined and being set to 0.0 in labels with no predicted samples. Use `zero_division` parameter to control this behavior.\n",
      "  _warn_prf(average, modifier, f\"{metric.capitalize()} is\", len(result))\n"
     ]
    },
    {
     "data": {
      "image/png": "[encoded data removed]",
      "text/plain": [
       "<Figure size 640x480 with 2 Axes>"
      ]
     },
     "metadata": {},
     "output_type": "display_data"
    }
   ],
   "source": [
    "pytorch_report(rnn_model, val_loader)"
   ]
  },
  {
   "cell_type": "code",
   "execution_count": 201,
   "id": "9acf0e5c-c657-4a09-b89d-9fa0b9b419a8",
   "metadata": {},
   "outputs": [
    {
     "name": "stdout",
     "output_type": "stream",
     "text": [
      "Accuracy: 0.5786818038473668\n",
      "Classification Report:\n",
      "               precision    recall  f1-score   support\n",
      "\n",
      "   surprised       0.50      0.47      0.49       803\n",
      "     neutral       0.20      0.16      0.17       128\n",
      "       happy       0.69      0.65      0.67      2100\n",
      "         sad       0.49      0.59      0.53      1281\n",
      "       angry       0.53      0.54      0.53       810\n",
      "     fearful       0.67      0.66      0.66      1051\n",
      "     disgust       0.20      0.17      0.18       169\n",
      "\n",
      "    accuracy                           0.58      6342\n",
      "   macro avg       0.47      0.46      0.46      6342\n",
      "weighted avg       0.58      0.58      0.58      6342\n",
      "\n"
     ]
    },
    {
     "data": {
      "image/png": "[encoded data removed]",
      "text/plain": [
       "<Figure size 640x480 with 2 Axes>"
      ]
     },
     "metadata": {},
     "output_type": "display_data"
    }
   ],
   "source": [
    "pytorch_report(cnn_model, val_loader)"
   ]
  },
  {
   "cell_type": "code",
   "execution_count": 208,
   "id": "9177b91e-b81d-4d33-8281-f01af0eb80bf",
   "metadata": {},
   "outputs": [
    {
     "name": "stdout",
     "output_type": "stream",
     "text": [
      "199/199 [==============================] - 7s 36ms/step\n",
      "Accuracy: 0.4742983286029644\n",
      "Classification Report:\n",
      "               precision    recall  f1-score   support\n",
      "\n",
      "   surprised       0.45      0.37      0.40       803\n",
      "     neutral       0.11      0.17      0.13       128\n",
      "       happy       0.56      0.56      0.56      2100\n",
      "         sad       0.55      0.39      0.46      1281\n",
      "       angry       0.30      0.49      0.37       810\n",
      "     fearful       0.69      0.54      0.61      1051\n",
      "     disgust       0.15      0.28      0.20       169\n",
      "\n",
      "    accuracy                           0.47      6342\n",
      "   macro avg       0.40      0.40      0.39      6342\n",
      "weighted avg       0.51      0.47      0.48      6342\n",
      "\n"
     ]
    },
    {
     "data": {
      "image/png": "[encoded data removed]",
      "text/plain": [
       "<Figure size 640x480 with 2 Axes>"
      ]
     },
     "metadata": {},
     "output_type": "display_data"
    }
   ],
   "source": [
    "tensorflow_report(transformer_model, X_transformer_val, y_transformer_val)"
   ]
  },
  {
   "cell_type": "code",
   "execution_count": null,
   "id": "55441ccf-71de-4e00-8f23-1b1bc6a92bf1",
   "metadata": {},
   "outputs": [],
   "source": []
  }
 ],
 "metadata": {
  "kernelspec": {
   "display_name": "Python 3 (ipykernel)",
   "language": "python",
   "name": "python3"
  },
  "language_info": {
   "codemirror_mode": {
    "name": "ipython",
    "version": 3
   },
   "file_extension": ".py",
   "mimetype": "text/x-python",
   "name": "python",
   "nbconvert_exporter": "python",
   "pygments_lexer": "ipython3",
   "version": "3.11.7"
  }
 },
 "nbformat": 4,
 "nbformat_minor": 5
}
